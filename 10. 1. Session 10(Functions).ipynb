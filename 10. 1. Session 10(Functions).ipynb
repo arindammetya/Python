{
 "cells": [
  {
   "cell_type": "markdown",
   "id": "5ab79d43",
   "metadata": {},
   "source": [
    "## What is a function?\n",
    "- Function is a group of statements that performs a specific task.\n",
    "- A function is a collection of statements grouped together that performs an operation. When you call the *random.randint(a, b)* function, for example, the system actually executes the statements in the function and returns the result.\n",
    "\n",
    "## Advantages of Functions:\n",
    "\n",
    "- Makes your code more organized and manageable.\n",
    "- Ensures resuability, avoids code redundency."
   ]
  },
  {
   "cell_type": "markdown",
   "id": "f4584e8d",
   "metadata": {},
   "source": [
    "# Functions\n",
    "- Inbuilt Functions and User defines functions\n",
    "- How to create a function\n",
    "- Arguments, parameters, return\n",
    "- Default parameters\n",
    "- Keyword and Positional Arguments\n",
    "- Args and Kwargs"
   ]
  },
  {
   "cell_type": "code",
   "execution_count": 2,
   "id": "27cd606b",
   "metadata": {},
   "outputs": [],
   "source": [
    "'''\n",
    "def function_name(argument1, argument2....):\n",
    "    statement1\n",
    "    statement2\n",
    "    ..........\n",
    "    return result\n",
    "'''\n",
    "\n",
    "def add(num1, num2):\n",
    "    return num1 + num2"
   ]
  },
  {
   "cell_type": "code",
   "execution_count": 3,
   "id": "ce834a10",
   "metadata": {},
   "outputs": [
    {
     "data": {
      "text/plain": [
       "5"
      ]
     },
     "execution_count": 3,
     "metadata": {},
     "output_type": "execute_result"
    }
   ],
   "source": [
    "add(2,3)"
   ]
  },
  {
   "cell_type": "code",
   "execution_count": 4,
   "id": "07d959ca",
   "metadata": {},
   "outputs": [
    {
     "data": {
      "text/plain": [
       "11"
      ]
     },
     "execution_count": 4,
     "metadata": {},
     "output_type": "execute_result"
    }
   ],
   "source": [
    "add(5,6)"
   ]
  },
  {
   "cell_type": "code",
   "execution_count": 5,
   "id": "703b3dfa",
   "metadata": {},
   "outputs": [],
   "source": [
    "def hello():\n",
    "    print('Hello')\n",
    "    print('This is a function that does not take any input')\n",
    "    print('This function does not return any value')"
   ]
  },
  {
   "cell_type": "code",
   "execution_count": 6,
   "id": "07453ce1",
   "metadata": {},
   "outputs": [
    {
     "name": "stdout",
     "output_type": "stream",
     "text": [
      "Hello\n",
      "This is a function that does not take any input\n",
      "This function does not return any value\n"
     ]
    }
   ],
   "source": [
    "hello()"
   ]
  },
  {
   "cell_type": "code",
   "execution_count": 7,
   "id": "7a88ffac",
   "metadata": {},
   "outputs": [],
   "source": [
    "#  Even or odd number\n",
    "def even_odd(num):\n",
    "    if num % 2 == 0:\n",
    "        print(num,'is an even number')\n",
    "    else:\n",
    "        print(num,'is an odd number')"
   ]
  },
  {
   "cell_type": "code",
   "execution_count": 8,
   "id": "d2e8908a",
   "metadata": {},
   "outputs": [
    {
     "name": "stdout",
     "output_type": "stream",
     "text": [
      "Enter the number : 10\n",
      "10 is an even number\n",
      "Enter the number : 7\n",
      "7 is an odd number\n",
      "Enter the number : 8\n",
      "8 is an even number\n"
     ]
    }
   ],
   "source": [
    "a = int(input('Enter the number : '))\n",
    "even_odd(a)\n",
    "\n",
    "a = int(input('Enter the number : '))\n",
    "even_odd(a)\n",
    "\n",
    "a = int(input('Enter the number : '))\n",
    "even_odd(a)"
   ]
  },
  {
   "cell_type": "code",
   "execution_count": 9,
   "id": "1a933496",
   "metadata": {},
   "outputs": [],
   "source": [
    "# Check whether a number is even or not\n",
    "def check_even(num):\n",
    "    if num % 2 == 0:\n",
    "        return True\n",
    "    else:\n",
    "        return False"
   ]
  },
  {
   "cell_type": "code",
   "execution_count": 11,
   "id": "465e405c",
   "metadata": {},
   "outputs": [
    {
     "data": {
      "text/plain": [
       "False"
      ]
     },
     "execution_count": 11,
     "metadata": {},
     "output_type": "execute_result"
    }
   ],
   "source": [
    "check_even(7)"
   ]
  },
  {
   "cell_type": "code",
   "execution_count": 19,
   "id": "518133e0",
   "metadata": {},
   "outputs": [
    {
     "data": {
      "text/plain": [
       "True"
      ]
     },
     "execution_count": 19,
     "metadata": {},
     "output_type": "execute_result"
    }
   ],
   "source": [
    "# Write a function which takes a number and checks whether it id divisible by 3 or not\n",
    "def check_div3(num):\n",
    "    if num % 3 == 0:\n",
    "        return True\n",
    "    else:\n",
    "        return False\n",
    "    \n",
    "check_div3(9)"
   ]
  },
  {
   "cell_type": "code",
   "execution_count": 20,
   "id": "913895de",
   "metadata": {},
   "outputs": [],
   "source": [
    "# Write a function which takes a number and prints whther the number is divisible by 2 or 3 or both\n",
    "def check_div2and3(num):\n",
    "    if num % 2 == 0 and num % 3 == 0:\n",
    "        print('The number {} is divisible by 2 and 3 both'.format(num))\n",
    "    elif num % 2 == 0:\n",
    "        print('The number {} is divisible by 2'.format(num))\n",
    "    elif num % 3 == 0:\n",
    "        print('The number {} is divisible by 3'.format(num))\n",
    "    else:\n",
    "        print('The number {} is not divisible by 2 and 3'.format(num))"
   ]
  },
  {
   "cell_type": "code",
   "execution_count": 23,
   "id": "421c9264",
   "metadata": {},
   "outputs": [
    {
     "name": "stdout",
     "output_type": "stream",
     "text": [
      "The number 9 is divisible by 3\n"
     ]
    }
   ],
   "source": [
    "check_div2and3(9)"
   ]
  },
  {
   "cell_type": "markdown",
   "id": "05483dfe",
   "metadata": {},
   "source": [
    "## Default Parameters"
   ]
  },
  {
   "cell_type": "code",
   "execution_count": 24,
   "id": "9707e4b2",
   "metadata": {},
   "outputs": [
    {
     "data": {
      "text/plain": [
       "['Hello', 'there']"
      ]
     },
     "execution_count": 24,
     "metadata": {},
     "output_type": "execute_result"
    }
   ],
   "source": [
    "'Hello there'.split()"
   ]
  },
  {
   "cell_type": "code",
   "execution_count": 25,
   "id": "ffff7793",
   "metadata": {},
   "outputs": [
    {
     "data": {
      "text/plain": [
       "['Hell', ' there']"
      ]
     },
     "execution_count": 25,
     "metadata": {},
     "output_type": "execute_result"
    }
   ],
   "source": [
    "'Hello there'.split('o')"
   ]
  },
  {
   "cell_type": "code",
   "execution_count": 31,
   "id": "ed83a97d",
   "metadata": {},
   "outputs": [],
   "source": [
    "def divide(num1,num2 = 1):\n",
    "    return num1 / num2"
   ]
  },
  {
   "cell_type": "code",
   "execution_count": 32,
   "id": "2cac90de",
   "metadata": {},
   "outputs": [
    {
     "data": {
      "text/plain": [
       "10.0"
      ]
     },
     "execution_count": 32,
     "metadata": {},
     "output_type": "execute_result"
    }
   ],
   "source": [
    "divide(10)"
   ]
  },
  {
   "cell_type": "code",
   "execution_count": 33,
   "id": "e2320e72",
   "metadata": {},
   "outputs": [
    {
     "data": {
      "text/plain": [
       "2.0"
      ]
     },
     "execution_count": 33,
     "metadata": {},
     "output_type": "execute_result"
    }
   ],
   "source": [
    "divide(10,5)"
   ]
  },
  {
   "cell_type": "code",
   "execution_count": 34,
   "id": "6acc4390",
   "metadata": {},
   "outputs": [
    {
     "ename": "SyntaxError",
     "evalue": "non-default argument follows default argument (<ipython-input-34-0f17acdd7e4b>, line 1)",
     "output_type": "error",
     "traceback": [
      "\u001b[1;36m  File \u001b[1;32m\"<ipython-input-34-0f17acdd7e4b>\"\u001b[1;36m, line \u001b[1;32m1\u001b[0m\n\u001b[1;33m    def divide(num1 = 1, num2):\u001b[0m\n\u001b[1;37m               ^\u001b[0m\n\u001b[1;31mSyntaxError\u001b[0m\u001b[1;31m:\u001b[0m non-default argument follows default argument\n"
     ]
    }
   ],
   "source": [
    "def divide(num1 = 1, num2):\n",
    "    return num1 / num2"
   ]
  },
  {
   "cell_type": "code",
   "execution_count": 35,
   "id": "bb130800",
   "metadata": {},
   "outputs": [],
   "source": [
    "def divide(num1 = 1, num2 = 1):\n",
    "    return num1 / num2"
   ]
  },
  {
   "cell_type": "markdown",
   "id": "4104523f",
   "metadata": {},
   "source": [
    "## Positional Arguments and Keyword arguments"
   ]
  },
  {
   "cell_type": "code",
   "execution_count": 37,
   "id": "87d22fce",
   "metadata": {},
   "outputs": [],
   "source": [
    "def details(name, age, city):\n",
    "    print('The details are : ')\n",
    "    print('Name : ', name)\n",
    "    print('Age  : ', age)\n",
    "    print('City : ', city)"
   ]
  },
  {
   "cell_type": "code",
   "execution_count": 38,
   "id": "93a6f177",
   "metadata": {},
   "outputs": [
    {
     "name": "stdout",
     "output_type": "stream",
     "text": [
      "The details are : \n",
      "Name :  Barkha\n",
      "Age  :  25\n",
      "City :  Delhi\n"
     ]
    }
   ],
   "source": [
    "details('Barkha', 25, 'Delhi')                                       # Positional arguments"
   ]
  },
  {
   "cell_type": "code",
   "execution_count": 39,
   "id": "bec955f4",
   "metadata": {},
   "outputs": [
    {
     "name": "stdout",
     "output_type": "stream",
     "text": [
      "The details are : \n",
      "Name :  Barkha\n",
      "Age  :  25\n",
      "City :  Delhi\n"
     ]
    }
   ],
   "source": [
    "details(name = 'Barkha', age = 25, city = 'Delhi')                  # Keyword arguments"
   ]
  },
  {
   "cell_type": "code",
   "execution_count": 40,
   "id": "d9c49769",
   "metadata": {},
   "outputs": [
    {
     "name": "stdout",
     "output_type": "stream",
     "text": [
      "The details are : \n",
      "Name :  Barkha\n",
      "Age  :  25\n",
      "City :  Delhi\n"
     ]
    }
   ],
   "source": [
    "details(age = 25, city = 'Delhi', name = 'Barkha')"
   ]
  },
  {
   "cell_type": "code",
   "execution_count": 41,
   "id": "58949d64",
   "metadata": {},
   "outputs": [
    {
     "name": "stdout",
     "output_type": "stream",
     "text": [
      "The details are : \n",
      "Name :  25\n",
      "Age  :  Delhi\n",
      "City :  Barkha\n"
     ]
    }
   ],
   "source": [
    "details(25, 'Delhi', 'Barkha')"
   ]
  },
  {
   "cell_type": "code",
   "execution_count": 42,
   "id": "a1111e95",
   "metadata": {},
   "outputs": [
    {
     "name": "stdout",
     "output_type": "stream",
     "text": [
      "The details are : \n",
      "Name :  Barkha\n",
      "Age  :  25\n",
      "City :  Delhi\n"
     ]
    }
   ],
   "source": [
    "details('Barkha', age = 25, city = 'Delhi')"
   ]
  },
  {
   "cell_type": "code",
   "execution_count": 43,
   "id": "14b9b04e",
   "metadata": {},
   "outputs": [
    {
     "ename": "SyntaxError",
     "evalue": "positional argument follows keyword argument (<ipython-input-43-8c1adde9d9ff>, line 1)",
     "output_type": "error",
     "traceback": [
      "\u001b[1;36m  File \u001b[1;32m\"<ipython-input-43-8c1adde9d9ff>\"\u001b[1;36m, line \u001b[1;32m1\u001b[0m\n\u001b[1;33m    details(name = 'Barkha', 25, 'Delhi')\u001b[0m\n\u001b[1;37m                             ^\u001b[0m\n\u001b[1;31mSyntaxError\u001b[0m\u001b[1;31m:\u001b[0m positional argument follows keyword argument\n"
     ]
    }
   ],
   "source": [
    "details(name = 'Barkha', 25, 'Delhi')"
   ]
  },
  {
   "cell_type": "markdown",
   "id": "6b173397",
   "metadata": {},
   "source": [
    "## Variable arguments and variable keyword arguments (args and kwargs)"
   ]
  },
  {
   "cell_type": "code",
   "execution_count": 44,
   "id": "7e4026e2",
   "metadata": {},
   "outputs": [],
   "source": [
    "def add(num1, num2):\n",
    "    return num1 + num2"
   ]
  },
  {
   "cell_type": "code",
   "execution_count": 45,
   "id": "c8303457",
   "metadata": {},
   "outputs": [
    {
     "data": {
      "text/plain": [
       "5"
      ]
     },
     "execution_count": 45,
     "metadata": {},
     "output_type": "execute_result"
    }
   ],
   "source": [
    "add(2,3)"
   ]
  },
  {
   "cell_type": "code",
   "execution_count": 46,
   "id": "aeb5c7fc",
   "metadata": {},
   "outputs": [
    {
     "ename": "TypeError",
     "evalue": "add() takes 2 positional arguments but 3 were given",
     "output_type": "error",
     "traceback": [
      "\u001b[1;31m---------------------------------------------------------------------------\u001b[0m",
      "\u001b[1;31mTypeError\u001b[0m                                 Traceback (most recent call last)",
      "\u001b[1;32m<ipython-input-46-0fe015c80267>\u001b[0m in \u001b[0;36m<module>\u001b[1;34m\u001b[0m\n\u001b[1;32m----> 1\u001b[1;33m \u001b[0madd\u001b[0m\u001b[1;33m(\u001b[0m\u001b[1;36m2\u001b[0m\u001b[1;33m,\u001b[0m\u001b[1;36m3\u001b[0m\u001b[1;33m,\u001b[0m\u001b[1;36m4\u001b[0m\u001b[1;33m)\u001b[0m\u001b[1;33m\u001b[0m\u001b[1;33m\u001b[0m\u001b[0m\n\u001b[0m",
      "\u001b[1;31mTypeError\u001b[0m: add() takes 2 positional arguments but 3 were given"
     ]
    }
   ],
   "source": [
    "add(2,3,4)"
   ]
  },
  {
   "cell_type": "code",
   "execution_count": 47,
   "id": "85fa24b5",
   "metadata": {},
   "outputs": [],
   "source": [
    "def example(*nums):\n",
    "    print(nums)\n",
    "    print(type(nums))"
   ]
  },
  {
   "cell_type": "code",
   "execution_count": 50,
   "id": "aa3678e5",
   "metadata": {},
   "outputs": [
    {
     "name": "stdout",
     "output_type": "stream",
     "text": [
      "(2, 3, 6)\n",
      "<class 'tuple'>\n"
     ]
    }
   ],
   "source": [
    "example(2,3,6)"
   ]
  },
  {
   "cell_type": "code",
   "execution_count": 51,
   "id": "908bd502",
   "metadata": {},
   "outputs": [],
   "source": [
    "def add(*nums):\n",
    "    result = 0\n",
    "    for i in nums:\n",
    "        result += i\n",
    "    return result"
   ]
  },
  {
   "cell_type": "code",
   "execution_count": 52,
   "id": "46fb571f",
   "metadata": {},
   "outputs": [
    {
     "data": {
      "text/plain": [
       "5"
      ]
     },
     "execution_count": 52,
     "metadata": {},
     "output_type": "execute_result"
    }
   ],
   "source": [
    "add(2,3)"
   ]
  },
  {
   "cell_type": "code",
   "execution_count": 53,
   "id": "f5aa5d9e",
   "metadata": {},
   "outputs": [
    {
     "data": {
      "text/plain": [
       "9"
      ]
     },
     "execution_count": 53,
     "metadata": {},
     "output_type": "execute_result"
    }
   ],
   "source": [
    "add(2,3,4)"
   ]
  },
  {
   "cell_type": "code",
   "execution_count": 54,
   "id": "5734cbf3",
   "metadata": {},
   "outputs": [
    {
     "data": {
      "text/plain": [
       "42"
      ]
     },
     "execution_count": 54,
     "metadata": {},
     "output_type": "execute_result"
    }
   ],
   "source": [
    "add(3,4,5,6,7,8,9)"
   ]
  },
  {
   "cell_type": "code",
   "execution_count": 57,
   "id": "4fa8ec12",
   "metadata": {},
   "outputs": [],
   "source": [
    "def largest(*nums):\n",
    "    maximum = nums[0]\n",
    "    for i in nums:\n",
    "        if i > maximum:\n",
    "            maximum = i\n",
    "    return maximum"
   ]
  },
  {
   "cell_type": "code",
   "execution_count": 58,
   "id": "f3ea1244",
   "metadata": {},
   "outputs": [
    {
     "data": {
      "text/plain": [
       "3"
      ]
     },
     "execution_count": 58,
     "metadata": {},
     "output_type": "execute_result"
    }
   ],
   "source": [
    "largest(2,3)"
   ]
  },
  {
   "cell_type": "code",
   "execution_count": 59,
   "id": "69e24a15",
   "metadata": {},
   "outputs": [
    {
     "data": {
      "text/plain": [
       "4"
      ]
     },
     "execution_count": 59,
     "metadata": {},
     "output_type": "execute_result"
    }
   ],
   "source": [
    "largest(2,3,4)"
   ]
  },
  {
   "cell_type": "code",
   "execution_count": 60,
   "id": "ed3175ad",
   "metadata": {},
   "outputs": [
    {
     "data": {
      "text/plain": [
       "9"
      ]
     },
     "execution_count": 60,
     "metadata": {},
     "output_type": "execute_result"
    }
   ],
   "source": [
    "largest(6,5,3,7,8,9,2,3,4,6)"
   ]
  },
  {
   "cell_type": "code",
   "execution_count": 63,
   "id": "958a8223",
   "metadata": {},
   "outputs": [],
   "source": [
    "def person(**details):\n",
    "    #print(details)\n",
    "    print('The details are : ')\n",
    "    for i,j in details.items():\n",
    "        print(i, ':', j)"
   ]
  },
  {
   "cell_type": "code",
   "execution_count": 64,
   "id": "b48aba1e",
   "metadata": {},
   "outputs": [
    {
     "name": "stdout",
     "output_type": "stream",
     "text": [
      "The details are : \n",
      "name : Bruce\n"
     ]
    }
   ],
   "source": [
    "person(name = 'Bruce')"
   ]
  },
  {
   "cell_type": "code",
   "execution_count": 65,
   "id": "08e76fe1",
   "metadata": {},
   "outputs": [
    {
     "name": "stdout",
     "output_type": "stream",
     "text": [
      "The details are : \n",
      "first_name : Bruce\n",
      "last_name : Wayne\n"
     ]
    }
   ],
   "source": [
    "person(first_name = 'Bruce', last_name = 'Wayne')"
   ]
  },
  {
   "cell_type": "code",
   "execution_count": 66,
   "id": "30a5e273",
   "metadata": {},
   "outputs": [
    {
     "name": "stdout",
     "output_type": "stream",
     "text": [
      "The details are : \n",
      "first_name : Bruce\n",
      "last_name : Wayne\n",
      "city : Gotham\n",
      "superpower : Rich\n"
     ]
    }
   ],
   "source": [
    "person(first_name = 'Bruce', last_name = 'Wayne', city = 'Gotham', superpower = 'Rich')"
   ]
  },
  {
   "cell_type": "markdown",
   "id": "2019572c",
   "metadata": {},
   "source": [
    "# ==========================================================="
   ]
  },
  {
   "cell_type": "markdown",
   "id": "0fc30768",
   "metadata": {},
   "source": [
    "# Map\n",
    "- The map function takes two arguments:\n",
    "    - First argument : a function\n",
    "    - Second argument: an iterable object (list, tuple, string etc)\n",
    "    \n",
    "- The map applies the given function to all the elements of a given iterable object"
   ]
  },
  {
   "cell_type": "code",
   "execution_count": 67,
   "id": "52062e9d",
   "metadata": {},
   "outputs": [],
   "source": [
    "def square(num):\n",
    "    return num ** 2"
   ]
  },
  {
   "cell_type": "code",
   "execution_count": 68,
   "id": "e53b237c",
   "metadata": {},
   "outputs": [
    {
     "data": {
      "text/plain": [
       "[1, 4, 9, 16, 25, 36, 49, 64, 81]"
      ]
     },
     "execution_count": 68,
     "metadata": {},
     "output_type": "execute_result"
    }
   ],
   "source": [
    "nums = [1,2,3,4,5,6,7,8,9]\n",
    "for i in range(len(nums)):\n",
    "    nums[i] = square(nums[i])\n",
    "nums"
   ]
  },
  {
   "cell_type": "code",
   "execution_count": 71,
   "id": "782d0b7c",
   "metadata": {},
   "outputs": [
    {
     "data": {
      "text/plain": [
       "[1, 4, 9, 16, 25, 36, 49, 64, 81]"
      ]
     },
     "execution_count": 71,
     "metadata": {},
     "output_type": "execute_result"
    }
   ],
   "source": [
    "nums = [1,2,3,4,5,6,7,8,9]\n",
    "list(map(square, nums))"
   ]
  },
  {
   "cell_type": "code",
   "execution_count": 72,
   "id": "d42f9c53",
   "metadata": {},
   "outputs": [],
   "source": [
    "def check_even(num):\n",
    "    if num % 2 == 0:\n",
    "        return True\n",
    "    else:\n",
    "        return False"
   ]
  },
  {
   "cell_type": "code",
   "execution_count": 73,
   "id": "0dfd36d4",
   "metadata": {},
   "outputs": [
    {
     "data": {
      "text/plain": [
       "[False, False, True, True, True, False, False, True]"
      ]
     },
     "execution_count": 73,
     "metadata": {},
     "output_type": "execute_result"
    }
   ],
   "source": [
    "nums = [11,33,22,44,66,55,77,88]\n",
    "list(map(check_even, nums))"
   ]
  },
  {
   "cell_type": "code",
   "execution_count": 74,
   "id": "9ab6a175",
   "metadata": {},
   "outputs": [],
   "source": [
    "def even_odd(num):\n",
    "    if num % 2 == 0:\n",
    "        return 'Even'\n",
    "    else:\n",
    "        return 'Odd'"
   ]
  },
  {
   "cell_type": "code",
   "execution_count": 75,
   "id": "b0e8397f",
   "metadata": {},
   "outputs": [
    {
     "data": {
      "text/plain": [
       "['Odd', 'Odd', 'Even', 'Even', 'Even', 'Odd', 'Odd', 'Even']"
      ]
     },
     "execution_count": 75,
     "metadata": {},
     "output_type": "execute_result"
    }
   ],
   "source": [
    "nums = [11,33,22,44,66,55,77,88]\n",
    "list(map(even_odd, nums))"
   ]
  },
  {
   "cell_type": "code",
   "execution_count": 79,
   "id": "d2c74b1d",
   "metadata": {},
   "outputs": [
    {
     "name": "stdout",
     "output_type": "stream",
     "text": [
      "Enter the numebrs : 10 20 30\n"
     ]
    },
    {
     "data": {
      "text/plain": [
       "[10, 20, 30]"
      ]
     },
     "execution_count": 79,
     "metadata": {},
     "output_type": "execute_result"
    }
   ],
   "source": [
    "nums = list(map(int, input('Enter the numebrs : ').split()))\n",
    "nums"
   ]
  },
  {
   "cell_type": "code",
   "execution_count": 80,
   "id": "6b122ea0",
   "metadata": {},
   "outputs": [
    {
     "name": "stdout",
     "output_type": "stream",
     "text": [
      "Enter three numebrs : 10 20 30\n",
      "10 20 30\n"
     ]
    }
   ],
   "source": [
    "a,b,c = list(map(int, input('Enter three numebrs : ').split()))\n",
    "print(a,b,c)"
   ]
  },
  {
   "cell_type": "code",
   "execution_count": 81,
   "id": "78e52f6e",
   "metadata": {},
   "outputs": [
    {
     "name": "stdout",
     "output_type": "stream",
     "text": [
      "10 20 30\n"
     ]
    }
   ],
   "source": [
    "a,b,c = [10,20,30]\n",
    "print(a,b,c)"
   ]
  },
  {
   "cell_type": "code",
   "execution_count": 85,
   "id": "1038dc8a",
   "metadata": {},
   "outputs": [
    {
     "data": {
      "text/plain": [
       "[5, 3, 3, 3, 5]"
      ]
     },
     "execution_count": 85,
     "metadata": {},
     "output_type": "execute_result"
    }
   ],
   "source": [
    "# Given a string, return a list which contains the length of each word\n",
    "s = 'hello how are you doing'\n",
    "length_of_words = list(map(len, s.split()))\n",
    "length_of_words"
   ]
  },
  {
   "cell_type": "markdown",
   "id": "115c7f1d",
   "metadata": {},
   "source": [
    "## Filter\n",
    "- The filter function returns an iterator yielding those items of iterable for which function(item) is true. Meaning you need to filter by a function that returns either True or False. Then passing that into filter (along with your iterable) and you will get back only the results that would return True when passed to the function."
   ]
  },
  {
   "cell_type": "code",
   "execution_count": 9,
   "id": "c750cdc3",
   "metadata": {},
   "outputs": [],
   "source": [
    "def check_even(num):\n",
    "    if num % 2 == 0:\n",
    "        return True\n",
    "    else:\n",
    "        return False"
   ]
  },
  {
   "cell_type": "code",
   "execution_count": 10,
   "id": "3b499c1d",
   "metadata": {},
   "outputs": [],
   "source": [
    "def check_even(num):\n",
    "    return num % 2 == 0"
   ]
  },
  {
   "cell_type": "code",
   "execution_count": 91,
   "id": "84561be1",
   "metadata": {},
   "outputs": [
    {
     "data": {
      "text/plain": [
       "[22, 44, 66, 88]"
      ]
     },
     "execution_count": 91,
     "metadata": {},
     "output_type": "execute_result"
    }
   ],
   "source": [
    "nums = [11,33,22,44,66,55,77,88]\n",
    "list(filter(check_even, nums))"
   ]
  },
  {
   "cell_type": "code",
   "execution_count": 94,
   "id": "99364ac8",
   "metadata": {},
   "outputs": [],
   "source": [
    "def check_prime(num):\n",
    "    if num < 2:\n",
    "        return False\n",
    "    else:\n",
    "        for i in range(2, int(num ** (1/2)) + 1):\n",
    "            if num % i == 0:\n",
    "                return False\n",
    "        else:\n",
    "            return True    "
   ]
  },
  {
   "cell_type": "code",
   "execution_count": 99,
   "id": "6c25b9b9",
   "metadata": {},
   "outputs": [
    {
     "data": {
      "text/plain": [
       "[2,\n",
       " 3,\n",
       " 5,\n",
       " 7,\n",
       " 11,\n",
       " 13,\n",
       " 17,\n",
       " 19,\n",
       " 23,\n",
       " 29,\n",
       " 31,\n",
       " 37,\n",
       " 41,\n",
       " 43,\n",
       " 47,\n",
       " 53,\n",
       " 59,\n",
       " 61,\n",
       " 67,\n",
       " 71,\n",
       " 73,\n",
       " 79,\n",
       " 83,\n",
       " 89,\n",
       " 97]"
      ]
     },
     "execution_count": 99,
     "metadata": {},
     "output_type": "execute_result"
    }
   ],
   "source": [
    "list(filter(check_prime, range(1,101)))"
   ]
  },
  {
   "cell_type": "markdown",
   "id": "0ceeabb3",
   "metadata": {},
   "source": [
    "## Zip"
   ]
  },
  {
   "cell_type": "code",
   "execution_count": 101,
   "id": "d5e880f8",
   "metadata": {},
   "outputs": [
    {
     "data": {
      "text/plain": [
       "[(10, 2), (20, 3), (30, 4), (40, 5), (50, 6)]"
      ]
     },
     "execution_count": 101,
     "metadata": {},
     "output_type": "execute_result"
    }
   ],
   "source": [
    "list1 = [10,20,30,40,50]\n",
    "list2 = [2,3,4,5,6]\n",
    "\n",
    "list(zip(list1, list2))"
   ]
  },
  {
   "cell_type": "code",
   "execution_count": 104,
   "id": "9ca8c146",
   "metadata": {},
   "outputs": [
    {
     "data": {
      "text/plain": [
       "[('Butterscotch', 5, 80), ('Chocolate', 4, 50), ('Vanilla', 3, 40)]"
      ]
     },
     "execution_count": 104,
     "metadata": {},
     "output_type": "execute_result"
    }
   ],
   "source": [
    "icecreams = ['Butterscotch', 'Chocolate', 'Vanilla']\n",
    "nums = [5, 4, 3]\n",
    "prices = [80,50,40]\n",
    "\n",
    "list(zip(icecreams, nums, prices))"
   ]
  },
  {
   "cell_type": "markdown",
   "id": "e3145dc6",
   "metadata": {},
   "source": [
    "# Lambda Expressions"
   ]
  },
  {
   "cell_type": "code",
   "execution_count": 1,
   "id": "0ab53f69",
   "metadata": {},
   "outputs": [
    {
     "data": {
      "text/plain": [
       "<function __main__.<lambda>(num)>"
      ]
     },
     "execution_count": 1,
     "metadata": {},
     "output_type": "execute_result"
    }
   ],
   "source": [
    "lambda num : num**2"
   ]
  },
  {
   "cell_type": "code",
   "execution_count": 2,
   "id": "3218e04a",
   "metadata": {},
   "outputs": [
    {
     "data": {
      "text/plain": [
       "25"
      ]
     },
     "execution_count": 2,
     "metadata": {},
     "output_type": "execute_result"
    }
   ],
   "source": [
    "sq = lambda num : num**2\n",
    "sq(5)"
   ]
  },
  {
   "cell_type": "code",
   "execution_count": 3,
   "id": "9fd68739",
   "metadata": {},
   "outputs": [
    {
     "data": {
      "text/plain": [
       "11"
      ]
     },
     "execution_count": 3,
     "metadata": {},
     "output_type": "execute_result"
    }
   ],
   "source": [
    "add = lambda num1, num2 : num1 + num2\n",
    "add(5,6)"
   ]
  },
  {
   "cell_type": "code",
   "execution_count": 5,
   "id": "50973e8c",
   "metadata": {},
   "outputs": [
    {
     "data": {
      "text/plain": [
       "'Even'"
      ]
     },
     "execution_count": 5,
     "metadata": {},
     "output_type": "execute_result"
    }
   ],
   "source": [
    "even_odd = lambda num : 'Even' if num % 2 == 0 else 'Odd'\n",
    "even_odd(6)"
   ]
  },
  {
   "cell_type": "code",
   "execution_count": 6,
   "id": "47839a09",
   "metadata": {},
   "outputs": [
    {
     "data": {
      "text/plain": [
       "[1, 4, 9, 16, 25, 36, 49, 64, 81]"
      ]
     },
     "execution_count": 6,
     "metadata": {},
     "output_type": "execute_result"
    }
   ],
   "source": [
    "nums = [1,2,3,4,5,6,7,8,9]\n",
    "list(map(lambda num : num ** 2 , nums))"
   ]
  },
  {
   "cell_type": "code",
   "execution_count": 7,
   "id": "bcffe1fe",
   "metadata": {},
   "outputs": [
    {
     "data": {
      "text/plain": [
       "['Odd', 'Odd', 'Odd', 'Even', 'Even', 'Even', 'Even', 'Odd']"
      ]
     },
     "execution_count": 7,
     "metadata": {},
     "output_type": "execute_result"
    }
   ],
   "source": [
    "nums = [11,33,77,22,66,44,88,99]\n",
    "list(map(lambda num : 'Even' if num % 2 == 0 else 'Odd', nums))"
   ]
  },
  {
   "cell_type": "code",
   "execution_count": 8,
   "id": "8df970cd",
   "metadata": {},
   "outputs": [
    {
     "data": {
      "text/plain": [
       "[False, False, False, True, True, True, True, False]"
      ]
     },
     "execution_count": 8,
     "metadata": {},
     "output_type": "execute_result"
    }
   ],
   "source": [
    "nums = [11,33,77,22,66,44,88,99]\n",
    "list(map(lambda num : True if num % 2 == 0 else False, nums))"
   ]
  },
  {
   "cell_type": "code",
   "execution_count": 11,
   "id": "0b98d2ab",
   "metadata": {},
   "outputs": [
    {
     "data": {
      "text/plain": [
       "[False, False, False, True, True, True, True, False]"
      ]
     },
     "execution_count": 11,
     "metadata": {},
     "output_type": "execute_result"
    }
   ],
   "source": [
    "nums = [11,33,77,22,66,44,88,99]\n",
    "list(map(lambda num : num % 2 == 0, nums))"
   ]
  },
  {
   "cell_type": "code",
   "execution_count": 12,
   "id": "3d7582b0",
   "metadata": {},
   "outputs": [
    {
     "data": {
      "text/plain": [
       "[22, 66, 44, 88]"
      ]
     },
     "execution_count": 12,
     "metadata": {},
     "output_type": "execute_result"
    }
   ],
   "source": [
    "nums = [11,33,77,22,66,44,88,99]\n",
    "list(filter(lambda num : num % 2 == 0, nums))"
   ]
  },
  {
   "cell_type": "code",
   "execution_count": 13,
   "id": "4bc8d9d5",
   "metadata": {},
   "outputs": [
    {
     "data": {
      "text/plain": [
       "[11, 33, 77, 99]"
      ]
     },
     "execution_count": 13,
     "metadata": {},
     "output_type": "execute_result"
    }
   ],
   "source": [
    "nums = [11,33,77,22,66,44,88,99]\n",
    "list(filter(lambda num : False if num % 2 == 0 else True, nums))"
   ]
  },
  {
   "cell_type": "code",
   "execution_count": 14,
   "id": "cdcddc28",
   "metadata": {},
   "outputs": [
    {
     "data": {
      "text/plain": [
       "[11, 33, 77, 99]"
      ]
     },
     "execution_count": 14,
     "metadata": {},
     "output_type": "execute_result"
    }
   ],
   "source": [
    "nums = [11,33,77,22,66,44,88,99]\n",
    "list(filter(lambda num : not num % 2 == 0, nums))"
   ]
  },
  {
   "cell_type": "code",
   "execution_count": 17,
   "id": "bdad848a",
   "metadata": {},
   "outputs": [
    {
     "data": {
      "text/plain": [
       "[3, 5, 5]"
      ]
     },
     "execution_count": 17,
     "metadata": {},
     "output_type": "execute_result"
    }
   ],
   "source": [
    "# Given a list of strings, return a list having number of words of each string\n",
    "strings = ['Good morning everyone',\n",
    "           'how are you all doing',\n",
    "           'are you understanding lambda expressions']\n",
    "\n",
    "\n",
    "list(map(lambda s : len(s.split()) ,strings))"
   ]
  },
  {
   "cell_type": "code",
   "execution_count": null,
   "id": "b85ce531",
   "metadata": {},
   "outputs": [],
   "source": []
  }
 ],
 "metadata": {
  "kernelspec": {
   "display_name": "Python 3",
   "language": "python",
   "name": "python3"
  },
  "language_info": {
   "codemirror_mode": {
    "name": "ipython",
    "version": 3
   },
   "file_extension": ".py",
   "mimetype": "text/x-python",
   "name": "python",
   "nbconvert_exporter": "python",
   "pygments_lexer": "ipython3",
   "version": "3.8.5"
  }
 },
 "nbformat": 4,
 "nbformat_minor": 5
}
