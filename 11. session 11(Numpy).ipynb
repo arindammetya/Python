{
 "cells": [
  {
   "cell_type": "markdown",
   "id": "48b602a1",
   "metadata": {},
   "source": [
    "# NumPy\n",
    "- Short for Numerical Python\n",
    "- Foundational Package for Numerical computing in python\n",
    "- Provides an ndarray object which is an efficient multidimensional array providing fast array oriented operations\n",
    "- Provides a lot of functions"
   ]
  },
  {
   "cell_type": "code",
   "execution_count": 2,
   "id": "a20d2dcd",
   "metadata": {},
   "outputs": [],
   "source": [
    "import numpy as np"
   ]
  },
  {
   "cell_type": "markdown",
   "id": "b698a534",
   "metadata": {},
   "source": [
    "# Creating ndarrays"
   ]
  },
  {
   "cell_type": "markdown",
   "id": "930b97de",
   "metadata": {},
   "source": [
    "##### Creating ndarray from an object"
   ]
  },
  {
   "cell_type": "code",
   "execution_count": 3,
   "id": "0ec6c73f",
   "metadata": {},
   "outputs": [
    {
     "data": {
      "text/plain": [
       "array([1, 2, 3, 4, 5])"
      ]
     },
     "execution_count": 3,
     "metadata": {},
     "output_type": "execute_result"
    }
   ],
   "source": [
    "l1 = [1,2,3,4,5]\n",
    "a1 = np.array(l1)\n",
    "a1"
   ]
  },
  {
   "cell_type": "code",
   "execution_count": 4,
   "id": "1b128006",
   "metadata": {},
   "outputs": [
    {
     "data": {
      "text/plain": [
       "numpy.ndarray"
      ]
     },
     "execution_count": 4,
     "metadata": {},
     "output_type": "execute_result"
    }
   ],
   "source": [
    "type(a1)"
   ]
  },
  {
   "cell_type": "code",
   "execution_count": 5,
   "id": "158049fb",
   "metadata": {},
   "outputs": [
    {
     "data": {
      "text/plain": [
       "array([1, 2, 3, 4, 5])"
      ]
     },
     "execution_count": 5,
     "metadata": {},
     "output_type": "execute_result"
    }
   ],
   "source": [
    "t1 = (1,2,3,4,5)\n",
    "a1 = np.array(t1)\n",
    "a1"
   ]
  },
  {
   "cell_type": "code",
   "execution_count": 6,
   "id": "3c581b56",
   "metadata": {},
   "outputs": [
    {
     "data": {
      "text/plain": [
       "array([ 1,  2,  3,  4,  5,  6,  7,  8,  9, 10])"
      ]
     },
     "execution_count": 6,
     "metadata": {},
     "output_type": "execute_result"
    }
   ],
   "source": [
    "a1 = np.array(range(1,11))\n",
    "a1"
   ]
  },
  {
   "cell_type": "code",
   "execution_count": 7,
   "id": "fa14a09c",
   "metadata": {},
   "outputs": [
    {
     "data": {
      "text/plain": [
       "(10,)"
      ]
     },
     "execution_count": 7,
     "metadata": {},
     "output_type": "execute_result"
    }
   ],
   "source": [
    "a1.shape"
   ]
  },
  {
   "cell_type": "code",
   "execution_count": 8,
   "id": "5b8c4d5c",
   "metadata": {},
   "outputs": [
    {
     "data": {
      "text/plain": [
       "dtype('int32')"
      ]
     },
     "execution_count": 8,
     "metadata": {},
     "output_type": "execute_result"
    }
   ],
   "source": [
    "a1.dtype"
   ]
  },
  {
   "cell_type": "code",
   "execution_count": 9,
   "id": "b4481db3",
   "metadata": {},
   "outputs": [
    {
     "data": {
      "text/plain": [
       "1"
      ]
     },
     "execution_count": 9,
     "metadata": {},
     "output_type": "execute_result"
    }
   ],
   "source": [
    "a1.ndim"
   ]
  },
  {
   "cell_type": "code",
   "execution_count": 10,
   "id": "f27eb8c9",
   "metadata": {},
   "outputs": [
    {
     "data": {
      "text/plain": [
       "array([[1, 2, 3],\n",
       "       [4, 5, 6]])"
      ]
     },
     "execution_count": 10,
     "metadata": {},
     "output_type": "execute_result"
    }
   ],
   "source": [
    "a1 = np.array([[1,2,3], [4,5,6]])\n",
    "a1"
   ]
  },
  {
   "cell_type": "code",
   "execution_count": 11,
   "id": "9438e890",
   "metadata": {},
   "outputs": [
    {
     "data": {
      "text/plain": [
       "(2, 3)"
      ]
     },
     "execution_count": 11,
     "metadata": {},
     "output_type": "execute_result"
    }
   ],
   "source": [
    "a1.shape"
   ]
  },
  {
   "cell_type": "code",
   "execution_count": 12,
   "id": "41f7c058",
   "metadata": {},
   "outputs": [
    {
     "data": {
      "text/plain": [
       "2"
      ]
     },
     "execution_count": 12,
     "metadata": {},
     "output_type": "execute_result"
    }
   ],
   "source": [
    "a1.ndim"
   ]
  },
  {
   "cell_type": "code",
   "execution_count": 13,
   "id": "de27d121",
   "metadata": {},
   "outputs": [
    {
     "data": {
      "text/plain": [
       "array([[[ 1,  2],\n",
       "        [ 3,  4],\n",
       "        [10, 11]],\n",
       "\n",
       "       [[ 5,  6],\n",
       "        [ 7,  8],\n",
       "        [12, 13]]])"
      ]
     },
     "execution_count": 13,
     "metadata": {},
     "output_type": "execute_result"
    }
   ],
   "source": [
    "a1 = np.array([[[1,2],[3,4],[10,11]], [[5,6], [7,8], [12,13]]])\n",
    "a1"
   ]
  },
  {
   "cell_type": "code",
   "execution_count": 14,
   "id": "edf1bb80",
   "metadata": {},
   "outputs": [
    {
     "data": {
      "text/plain": [
       "(2, 3, 2)"
      ]
     },
     "execution_count": 14,
     "metadata": {},
     "output_type": "execute_result"
    }
   ],
   "source": [
    "a1.shape"
   ]
  },
  {
   "cell_type": "code",
   "execution_count": 15,
   "id": "d332ed1d",
   "metadata": {},
   "outputs": [
    {
     "data": {
      "text/plain": [
       "3"
      ]
     },
     "execution_count": 15,
     "metadata": {},
     "output_type": "execute_result"
    }
   ],
   "source": [
    "a1.ndim"
   ]
  },
  {
   "cell_type": "code",
   "execution_count": 16,
   "id": "947fe253",
   "metadata": {},
   "outputs": [
    {
     "data": {
      "text/plain": [
       "array([1., 2., 3., 4., 5.])"
      ]
     },
     "execution_count": 16,
     "metadata": {},
     "output_type": "execute_result"
    }
   ],
   "source": [
    "a = np.array([1,2,3,4,5], dtype = float)\n",
    "a"
   ]
  },
  {
   "cell_type": "code",
   "execution_count": 17,
   "id": "994d3467",
   "metadata": {},
   "outputs": [
    {
     "data": {
      "text/plain": [
       "dtype('float64')"
      ]
     },
     "execution_count": 17,
     "metadata": {},
     "output_type": "execute_result"
    }
   ],
   "source": [
    "a.dtype"
   ]
  },
  {
   "cell_type": "code",
   "execution_count": 18,
   "id": "2897ad65",
   "metadata": {},
   "outputs": [
    {
     "data": {
      "text/plain": [
       "array([1, 2, 3, 4, 5])"
      ]
     },
     "execution_count": 18,
     "metadata": {},
     "output_type": "execute_result"
    }
   ],
   "source": [
    "a = np.array([1.5,2.6,3.1,4.8,5.2], dtype = int)\n",
    "a"
   ]
  },
  {
   "cell_type": "code",
   "execution_count": 19,
   "id": "2d9f48a5",
   "metadata": {},
   "outputs": [
    {
     "data": {
      "text/plain": [
       "dtype('int32')"
      ]
     },
     "execution_count": 19,
     "metadata": {},
     "output_type": "execute_result"
    }
   ],
   "source": [
    "a.dtype"
   ]
  },
  {
   "cell_type": "markdown",
   "id": "a19bafa4",
   "metadata": {},
   "source": [
    "### Typecasting ndarrays"
   ]
  },
  {
   "cell_type": "code",
   "execution_count": 20,
   "id": "bfd7f8ea",
   "metadata": {},
   "outputs": [
    {
     "data": {
      "text/plain": [
       "array([1, 2, 3, 4, 5])"
      ]
     },
     "execution_count": 20,
     "metadata": {},
     "output_type": "execute_result"
    }
   ],
   "source": [
    "a = np.array([1,2,3,4,5])\n",
    "a"
   ]
  },
  {
   "cell_type": "code",
   "execution_count": 21,
   "id": "2c3b485a",
   "metadata": {},
   "outputs": [
    {
     "data": {
      "text/plain": [
       "array([1., 2., 3., 4., 5.])"
      ]
     },
     "execution_count": 21,
     "metadata": {},
     "output_type": "execute_result"
    }
   ],
   "source": [
    "a = a.astype(float)\n",
    "a"
   ]
  },
  {
   "cell_type": "code",
   "execution_count": 22,
   "id": "1b37b7a0",
   "metadata": {},
   "outputs": [
    {
     "data": {
      "text/plain": [
       "array([1, 2, 3, 4, 5])"
      ]
     },
     "execution_count": 22,
     "metadata": {},
     "output_type": "execute_result"
    }
   ],
   "source": [
    "a = a.astype(int)\n",
    "a"
   ]
  },
  {
   "cell_type": "markdown",
   "id": "d65a4787",
   "metadata": {},
   "source": [
    "### Creating ndarrays by specifying a range"
   ]
  },
  {
   "cell_type": "code",
   "execution_count": 23,
   "id": "5accb3c3",
   "metadata": {},
   "outputs": [
    {
     "data": {
      "text/plain": [
       "array([0, 1, 2, 3, 4, 5, 6, 7, 8, 9])"
      ]
     },
     "execution_count": 23,
     "metadata": {},
     "output_type": "execute_result"
    }
   ],
   "source": [
    "a1 = np.arange(0,10)\n",
    "a1"
   ]
  },
  {
   "cell_type": "code",
   "execution_count": 24,
   "id": "931de951",
   "metadata": {},
   "outputs": [
    {
     "data": {
      "text/plain": [
       "array([ 0,  2,  4,  6,  8, 10, 12, 14, 16, 18, 20])"
      ]
     },
     "execution_count": 24,
     "metadata": {},
     "output_type": "execute_result"
    }
   ],
   "source": [
    "a1 = np.arange(0,21,2)\n",
    "a1"
   ]
  },
  {
   "cell_type": "code",
   "execution_count": 25,
   "id": "e42e6e5c",
   "metadata": {},
   "outputs": [
    {
     "data": {
      "text/plain": [
       "array([0, 1, 2, 3, 4, 5, 6, 7, 8, 9])"
      ]
     },
     "execution_count": 25,
     "metadata": {},
     "output_type": "execute_result"
    }
   ],
   "source": [
    "a1 = np.arange(10)       # (0,10,1)\n",
    "a1"
   ]
  },
  {
   "cell_type": "code",
   "execution_count": 26,
   "id": "929265bb",
   "metadata": {},
   "outputs": [
    {
     "data": {
      "text/plain": [
       "array([0., 1., 2., 3., 4., 5., 6., 7., 8., 9.])"
      ]
     },
     "execution_count": 26,
     "metadata": {},
     "output_type": "execute_result"
    }
   ],
   "source": [
    "a1 = np.arange(10, dtype = float)\n",
    "a1"
   ]
  },
  {
   "cell_type": "markdown",
   "id": "f6faed38",
   "metadata": {},
   "source": [
    "### Creating ndarrays of ones"
   ]
  },
  {
   "cell_type": "code",
   "execution_count": 27,
   "id": "0865c257",
   "metadata": {},
   "outputs": [
    {
     "data": {
      "text/plain": [
       "array([[1., 1., 1., 1., 1.],\n",
       "       [1., 1., 1., 1., 1.],\n",
       "       [1., 1., 1., 1., 1.],\n",
       "       [1., 1., 1., 1., 1.],\n",
       "       [1., 1., 1., 1., 1.]])"
      ]
     },
     "execution_count": 27,
     "metadata": {},
     "output_type": "execute_result"
    }
   ],
   "source": [
    "np.ones((5,5))"
   ]
  },
  {
   "cell_type": "code",
   "execution_count": 28,
   "id": "a65193f3",
   "metadata": {},
   "outputs": [
    {
     "data": {
      "text/plain": [
       "array([[1, 1, 1, 1, 1],\n",
       "       [1, 1, 1, 1, 1],\n",
       "       [1, 1, 1, 1, 1],\n",
       "       [1, 1, 1, 1, 1],\n",
       "       [1, 1, 1, 1, 1]])"
      ]
     },
     "execution_count": 28,
     "metadata": {},
     "output_type": "execute_result"
    }
   ],
   "source": [
    "np.ones((5,5), dtype = int)"
   ]
  },
  {
   "cell_type": "markdown",
   "id": "184c418c",
   "metadata": {},
   "source": [
    "### Creating ndarray of zeros"
   ]
  },
  {
   "cell_type": "code",
   "execution_count": 29,
   "id": "ed7ce00e",
   "metadata": {},
   "outputs": [
    {
     "data": {
      "text/plain": [
       "array([[0., 0., 0., 0.],\n",
       "       [0., 0., 0., 0.],\n",
       "       [0., 0., 0., 0.]])"
      ]
     },
     "execution_count": 29,
     "metadata": {},
     "output_type": "execute_result"
    }
   ],
   "source": [
    "np.zeros((3,4))"
   ]
  },
  {
   "cell_type": "markdown",
   "id": "559c9cc0",
   "metadata": {},
   "source": [
    "### Creating ndarray of a specific value"
   ]
  },
  {
   "cell_type": "code",
   "execution_count": 30,
   "id": "b31eb642",
   "metadata": {},
   "outputs": [
    {
     "data": {
      "text/plain": [
       "array([[6, 6, 6, 6, 6],\n",
       "       [6, 6, 6, 6, 6],\n",
       "       [6, 6, 6, 6, 6],\n",
       "       [6, 6, 6, 6, 6]])"
      ]
     },
     "execution_count": 30,
     "metadata": {},
     "output_type": "execute_result"
    }
   ],
   "source": [
    "np.full((4,5), fill_value = 6)"
   ]
  },
  {
   "cell_type": "markdown",
   "id": "b5a1be10",
   "metadata": {},
   "source": [
    "### Creating an identity matrix"
   ]
  },
  {
   "cell_type": "code",
   "execution_count": 31,
   "id": "4632d45e",
   "metadata": {},
   "outputs": [
    {
     "data": {
      "text/plain": [
       "array([[1., 0., 0.],\n",
       "       [0., 1., 0.],\n",
       "       [0., 0., 1.]])"
      ]
     },
     "execution_count": 31,
     "metadata": {},
     "output_type": "execute_result"
    }
   ],
   "source": [
    "np.eye(3)"
   ]
  },
  {
   "cell_type": "markdown",
   "id": "c64e365d",
   "metadata": {},
   "source": [
    "# --------------------------------------------------------------------------------------\n",
    "# Operations on ndarrays"
   ]
  },
  {
   "cell_type": "code",
   "execution_count": 32,
   "id": "f39f1c9f",
   "metadata": {},
   "outputs": [
    {
     "data": {
      "text/plain": [
       "array([1, 2, 3, 4, 5, 6])"
      ]
     },
     "execution_count": 32,
     "metadata": {},
     "output_type": "execute_result"
    }
   ],
   "source": [
    "a1 = np.array([1,2,3,4,5,6])\n",
    "a1"
   ]
  },
  {
   "cell_type": "code",
   "execution_count": 33,
   "id": "3e6e9c18",
   "metadata": {},
   "outputs": [
    {
     "ename": "TypeError",
     "evalue": "can only concatenate list (not \"int\") to list",
     "output_type": "error",
     "traceback": [
      "\u001b[1;31m---------------------------------------------------------------------------\u001b[0m",
      "\u001b[1;31mTypeError\u001b[0m                                 Traceback (most recent call last)",
      "\u001b[1;32m~\\AppData\\Local\\Temp/ipykernel_19504/79704895.py\u001b[0m in \u001b[0;36m<module>\u001b[1;34m\u001b[0m\n\u001b[0;32m      1\u001b[0m \u001b[1;31m# list\u001b[0m\u001b[1;33m\u001b[0m\u001b[1;33m\u001b[0m\u001b[0m\n\u001b[0;32m      2\u001b[0m \u001b[0ml\u001b[0m \u001b[1;33m=\u001b[0m \u001b[1;33m[\u001b[0m\u001b[1;36m1\u001b[0m\u001b[1;33m,\u001b[0m\u001b[1;36m2\u001b[0m\u001b[1;33m,\u001b[0m\u001b[1;36m3\u001b[0m\u001b[1;33m,\u001b[0m\u001b[1;36m4\u001b[0m\u001b[1;33m,\u001b[0m\u001b[1;36m5\u001b[0m\u001b[1;33m,\u001b[0m\u001b[1;36m6\u001b[0m\u001b[1;33m]\u001b[0m\u001b[1;33m\u001b[0m\u001b[1;33m\u001b[0m\u001b[0m\n\u001b[1;32m----> 3\u001b[1;33m \u001b[0ml\u001b[0m \u001b[1;33m+\u001b[0m \u001b[1;36m2\u001b[0m\u001b[1;33m\u001b[0m\u001b[1;33m\u001b[0m\u001b[0m\n\u001b[0m",
      "\u001b[1;31mTypeError\u001b[0m: can only concatenate list (not \"int\") to list"
     ]
    }
   ],
   "source": [
    "# list\n",
    "l = [1,2,3,4,5,6]\n",
    "l + 2"
   ]
  },
  {
   "cell_type": "code",
   "execution_count": null,
   "id": "c80ac025",
   "metadata": {},
   "outputs": [],
   "source": [
    "a1 + 2"
   ]
  },
  {
   "cell_type": "code",
   "execution_count": null,
   "id": "592d45b4",
   "metadata": {},
   "outputs": [],
   "source": [
    "l1 = [1,2,3,4,5]\n",
    "l2 = [6,7,8,9,10]\n",
    "l1 + l2         # concatenation"
   ]
  },
  {
   "cell_type": "code",
   "execution_count": null,
   "id": "f933fa79",
   "metadata": {},
   "outputs": [],
   "source": [
    "a1 = np.array([1,2,3,4,5,6])             # Shapes must be same\n",
    "a2 = np.array([4,5,6,7,8,9])"
   ]
  },
  {
   "cell_type": "code",
   "execution_count": null,
   "id": "75add5ce",
   "metadata": {},
   "outputs": [],
   "source": [
    "a1 + a2"
   ]
  },
  {
   "cell_type": "code",
   "execution_count": null,
   "id": "235c4769",
   "metadata": {},
   "outputs": [],
   "source": [
    "a1 + [2,3,4,5,6,7]"
   ]
  },
  {
   "cell_type": "code",
   "execution_count": null,
   "id": "4d770ab6",
   "metadata": {},
   "outputs": [],
   "source": [
    "a1 - 2"
   ]
  },
  {
   "cell_type": "code",
   "execution_count": null,
   "id": "906e5e2c",
   "metadata": {},
   "outputs": [],
   "source": [
    "a1 - a2"
   ]
  },
  {
   "cell_type": "code",
   "execution_count": null,
   "id": "9d2b2438",
   "metadata": {},
   "outputs": [],
   "source": [
    "a1 * 2"
   ]
  },
  {
   "cell_type": "code",
   "execution_count": null,
   "id": "8466f03c",
   "metadata": {},
   "outputs": [],
   "source": [
    "print(a1)\n",
    "print(a2)"
   ]
  },
  {
   "cell_type": "code",
   "execution_count": null,
   "id": "ec59a0ac",
   "metadata": {},
   "outputs": [],
   "source": [
    "a1 * a2"
   ]
  },
  {
   "cell_type": "code",
   "execution_count": null,
   "id": "8224ec6e",
   "metadata": {},
   "outputs": [],
   "source": [
    "a1 = np.array([2,4,6,8,10])\n",
    "a1 / 2"
   ]
  },
  {
   "cell_type": "code",
   "execution_count": null,
   "id": "7ff1a085",
   "metadata": {},
   "outputs": [],
   "source": [
    "a1 / a2"
   ]
  },
  {
   "cell_type": "code",
   "execution_count": null,
   "id": "8ae890e4",
   "metadata": {},
   "outputs": [],
   "source": [
    "a1 // 2"
   ]
  },
  {
   "cell_type": "code",
   "execution_count": null,
   "id": "c8f2bebc",
   "metadata": {},
   "outputs": [],
   "source": [
    "a1 // a2"
   ]
  },
  {
   "cell_type": "code",
   "execution_count": null,
   "id": "4e6e2943",
   "metadata": {},
   "outputs": [],
   "source": [
    "a1 % 3"
   ]
  },
  {
   "cell_type": "code",
   "execution_count": null,
   "id": "6e6ae6be",
   "metadata": {},
   "outputs": [],
   "source": [
    "a1 ** 2"
   ]
  },
  {
   "cell_type": "code",
   "execution_count": null,
   "id": "213977a7",
   "metadata": {},
   "outputs": [],
   "source": [
    "a2 = np.array([2,3,4,5,6])\n",
    "a1 ** a2"
   ]
  },
  {
   "cell_type": "code",
   "execution_count": null,
   "id": "8a2c1cc1",
   "metadata": {},
   "outputs": [],
   "source": [
    "a1"
   ]
  },
  {
   "cell_type": "code",
   "execution_count": null,
   "id": "9d2e049a",
   "metadata": {},
   "outputs": [],
   "source": [
    "2 / a1"
   ]
  },
  {
   "cell_type": "code",
   "execution_count": null,
   "id": "276ce36b",
   "metadata": {},
   "outputs": [],
   "source": [
    "l1 = [1,2,3,4,5,6]\n",
    "l1 < 4"
   ]
  },
  {
   "cell_type": "code",
   "execution_count": null,
   "id": "f97975cd",
   "metadata": {},
   "outputs": [],
   "source": [
    "a1 = np.array([1,2,3,4,5,6])\n",
    "a1 < 4"
   ]
  },
  {
   "cell_type": "code",
   "execution_count": null,
   "id": "7311118b",
   "metadata": {},
   "outputs": [],
   "source": [
    "a1 = np.array([2,1,4,5,3,6])\n",
    "a2 = np.array([3,4,2,1,6,7])"
   ]
  },
  {
   "cell_type": "code",
   "execution_count": null,
   "id": "8ae763c4",
   "metadata": {},
   "outputs": [],
   "source": [
    "a1 < a2"
   ]
  },
  {
   "cell_type": "code",
   "execution_count": null,
   "id": "58a3e420",
   "metadata": {},
   "outputs": [],
   "source": [
    "a1 > a2"
   ]
  },
  {
   "cell_type": "code",
   "execution_count": null,
   "id": "ebbb7afc",
   "metadata": {},
   "outputs": [],
   "source": [
    "a1 <= a2"
   ]
  },
  {
   "cell_type": "code",
   "execution_count": null,
   "id": "f006c6bc",
   "metadata": {},
   "outputs": [],
   "source": [
    "a1 == a2"
   ]
  },
  {
   "cell_type": "code",
   "execution_count": null,
   "id": "667fc681",
   "metadata": {},
   "outputs": [],
   "source": [
    "# Operation between two ndarrays is not possible if shapes are not same\n",
    "a1 = np.array([1,2,3,4,5])\n",
    "a2 = np.array([2,3,4,5,6,7])\n",
    "\n",
    "a1 + a2"
   ]
  },
  {
   "cell_type": "markdown",
   "id": "26ef4c45",
   "metadata": {},
   "source": [
    "## Indexing and Slicing ndarrays"
   ]
  },
  {
   "cell_type": "code",
   "execution_count": null,
   "id": "c677352f",
   "metadata": {},
   "outputs": [],
   "source": [
    "a = np.arange(11,21)\n",
    "a"
   ]
  },
  {
   "cell_type": "code",
   "execution_count": null,
   "id": "3cbe5227",
   "metadata": {},
   "outputs": [],
   "source": [
    "a[0]"
   ]
  },
  {
   "cell_type": "code",
   "execution_count": null,
   "id": "c653bb1c",
   "metadata": {},
   "outputs": [],
   "source": [
    "a[1]"
   ]
  },
  {
   "cell_type": "code",
   "execution_count": null,
   "id": "ca62ed75",
   "metadata": {},
   "outputs": [],
   "source": [
    "a[6]"
   ]
  },
  {
   "cell_type": "code",
   "execution_count": null,
   "id": "c8f9af86",
   "metadata": {},
   "outputs": [],
   "source": [
    "a[-1]"
   ]
  },
  {
   "cell_type": "code",
   "execution_count": null,
   "id": "d12aaba9",
   "metadata": {},
   "outputs": [],
   "source": [
    "a[-2]"
   ]
  },
  {
   "cell_type": "code",
   "execution_count": null,
   "id": "45a2aecf",
   "metadata": {},
   "outputs": [],
   "source": [
    "a[0:8]"
   ]
  },
  {
   "cell_type": "code",
   "execution_count": null,
   "id": "874068ba",
   "metadata": {},
   "outputs": [],
   "source": [
    "a[0:8:1]"
   ]
  },
  {
   "cell_type": "code",
   "execution_count": null,
   "id": "f8cc27c9",
   "metadata": {},
   "outputs": [],
   "source": [
    "a[::]          # By default start = 0, end = len(a), step = 1"
   ]
  },
  {
   "cell_type": "code",
   "execution_count": null,
   "id": "427d369d",
   "metadata": {},
   "outputs": [],
   "source": [
    "a[-8:-3]"
   ]
  },
  {
   "cell_type": "code",
   "execution_count": null,
   "id": "811ab553",
   "metadata": {},
   "outputs": [],
   "source": [
    "a[::-1]"
   ]
  },
  {
   "cell_type": "markdown",
   "id": "5a7fcf10",
   "metadata": {},
   "source": [
    "## Reshape and Transpose"
   ]
  },
  {
   "cell_type": "code",
   "execution_count": null,
   "id": "693fd4ad",
   "metadata": {},
   "outputs": [],
   "source": [
    "a = np.arange(16)\n",
    "a"
   ]
  },
  {
   "cell_type": "code",
   "execution_count": null,
   "id": "00679360",
   "metadata": {},
   "outputs": [],
   "source": [
    "a.shape"
   ]
  },
  {
   "cell_type": "code",
   "execution_count": null,
   "id": "5b5c06cc",
   "metadata": {},
   "outputs": [],
   "source": [
    "a.ndim"
   ]
  },
  {
   "cell_type": "code",
   "execution_count": null,
   "id": "b2e87f54",
   "metadata": {},
   "outputs": [],
   "source": [
    "a = a.reshape((16,1))\n",
    "a"
   ]
  },
  {
   "cell_type": "code",
   "execution_count": null,
   "id": "bdb24952",
   "metadata": {},
   "outputs": [],
   "source": [
    "a.shape"
   ]
  },
  {
   "cell_type": "code",
   "execution_count": null,
   "id": "f6cba212",
   "metadata": {},
   "outputs": [],
   "source": [
    "a.ndim"
   ]
  },
  {
   "cell_type": "code",
   "execution_count": null,
   "id": "fae44b4d",
   "metadata": {},
   "outputs": [],
   "source": [
    "a = a.reshape((1,16))\n",
    "a"
   ]
  },
  {
   "cell_type": "code",
   "execution_count": null,
   "id": "ab523a04",
   "metadata": {},
   "outputs": [],
   "source": [
    "a.shape"
   ]
  },
  {
   "cell_type": "code",
   "execution_count": null,
   "id": "7e32c6c0",
   "metadata": {},
   "outputs": [],
   "source": [
    "a.ndim"
   ]
  },
  {
   "cell_type": "code",
   "execution_count": null,
   "id": "9696387d",
   "metadata": {},
   "outputs": [],
   "source": [
    "a.reshape((4,4))"
   ]
  },
  {
   "cell_type": "code",
   "execution_count": null,
   "id": "dafe49de",
   "metadata": {},
   "outputs": [],
   "source": [
    "a.reshape((2,2,4))"
   ]
  },
  {
   "cell_type": "code",
   "execution_count": null,
   "id": "a7ae6071",
   "metadata": {},
   "outputs": [],
   "source": [
    "a = np.arange(36)\n",
    "a.reshape((1,36))\n",
    "a.reshape((2,18))\n",
    "a.reshape((3,12))\n",
    "a.reshape((4,9))\n",
    "a.reshape((6,6))\n",
    "a.reshape((9,4))\n",
    "a.reshape((12,3))\n",
    "a.reshape((18,2))\n",
    "a.reshape((36,1))\n",
    "print('Total possible 2d shapes : ', 9)"
   ]
  },
  {
   "cell_type": "code",
   "execution_count": null,
   "id": "1dca10b3",
   "metadata": {},
   "outputs": [],
   "source": [
    "a = np.arange(16).reshape((4,4))\n",
    "a"
   ]
  },
  {
   "cell_type": "code",
   "execution_count": null,
   "id": "52ae59d0",
   "metadata": {},
   "outputs": [],
   "source": [
    "a.T"
   ]
  },
  {
   "cell_type": "markdown",
   "id": "2ea09b5b",
   "metadata": {},
   "source": [
    "# ----------------------------------------------------------------------------------"
   ]
  },
  {
   "cell_type": "markdown",
   "id": "576dfd6d",
   "metadata": {},
   "source": [
    "# Functions"
   ]
  },
  {
   "cell_type": "code",
   "execution_count": 34,
   "id": "43c26b59",
   "metadata": {},
   "outputs": [
    {
     "data": {
      "text/plain": [
       "array([2, 4, 3, 6, 5, 8, 7, 9, 1, 0])"
      ]
     },
     "execution_count": 34,
     "metadata": {},
     "output_type": "execute_result"
    }
   ],
   "source": [
    "a = np.array([2,4,3,6,5,8,7,9,1,0])\n",
    "a"
   ]
  },
  {
   "cell_type": "code",
   "execution_count": 35,
   "id": "94ee554c",
   "metadata": {},
   "outputs": [],
   "source": [
    "a.sort()"
   ]
  },
  {
   "cell_type": "code",
   "execution_count": 36,
   "id": "58fb9098",
   "metadata": {},
   "outputs": [
    {
     "data": {
      "text/plain": [
       "array([0, 1, 2, 3, 4, 5, 6, 7, 8, 9])"
      ]
     },
     "execution_count": 36,
     "metadata": {},
     "output_type": "execute_result"
    }
   ],
   "source": [
    "a"
   ]
  },
  {
   "cell_type": "code",
   "execution_count": 37,
   "id": "59a84780",
   "metadata": {},
   "outputs": [
    {
     "data": {
      "text/plain": [
       "array([ 0,  1,  4,  9, 16, 25, 36, 49, 64, 81])"
      ]
     },
     "execution_count": 37,
     "metadata": {},
     "output_type": "execute_result"
    }
   ],
   "source": [
    "s = np.square(a)\n",
    "s"
   ]
  },
  {
   "cell_type": "code",
   "execution_count": 38,
   "id": "0572dd16",
   "metadata": {},
   "outputs": [
    {
     "data": {
      "text/plain": [
       "array([0., 1., 2., 3., 4., 5., 6., 7., 8., 9.])"
      ]
     },
     "execution_count": 38,
     "metadata": {},
     "output_type": "execute_result"
    }
   ],
   "source": [
    "np.sqrt(s)"
   ]
  },
  {
   "cell_type": "code",
   "execution_count": 39,
   "id": "ec678b93",
   "metadata": {},
   "outputs": [
    {
     "data": {
      "text/plain": [
       "array([2., 3., 4.])"
      ]
     },
     "execution_count": 39,
     "metadata": {},
     "output_type": "execute_result"
    }
   ],
   "source": [
    "a = np.array([8,27,64])\n",
    "np.cbrt(a)"
   ]
  },
  {
   "cell_type": "code",
   "execution_count": 40,
   "id": "83842080",
   "metadata": {},
   "outputs": [
    {
     "data": {
      "text/plain": [
       "array([1, 2, 3, 5, 6, 2, 6])"
      ]
     },
     "execution_count": 40,
     "metadata": {},
     "output_type": "execute_result"
    }
   ],
   "source": [
    "np.abs([-1,2,3,-5,-6,-2,6])"
   ]
  },
  {
   "cell_type": "code",
   "execution_count": 41,
   "id": "7379661f",
   "metadata": {},
   "outputs": [
    {
     "data": {
      "text/plain": [
       "array([2.5, 6.4, 3.8])"
      ]
     },
     "execution_count": 41,
     "metadata": {},
     "output_type": "execute_result"
    }
   ],
   "source": [
    "np.abs([-2.5, 6.4, -3.8])"
   ]
  },
  {
   "cell_type": "code",
   "execution_count": 45,
   "id": "fcd73c74",
   "metadata": {},
   "outputs": [
    {
     "data": {
      "text/plain": [
       "array([5, 7, 9])"
      ]
     },
     "execution_count": 45,
     "metadata": {},
     "output_type": "execute_result"
    }
   ],
   "source": [
    "np.add([1,2,3], [4,5,6])"
   ]
  },
  {
   "cell_type": "code",
   "execution_count": 46,
   "id": "64ef3d57",
   "metadata": {},
   "outputs": [
    {
     "data": {
      "text/plain": [
       "array([3, 3, 3])"
      ]
     },
     "execution_count": 46,
     "metadata": {},
     "output_type": "execute_result"
    }
   ],
   "source": [
    "np.subtract([4,5,6], [1,2,3])"
   ]
  },
  {
   "cell_type": "code",
   "execution_count": 47,
   "id": "21b96c08",
   "metadata": {},
   "outputs": [
    {
     "data": {
      "text/plain": [
       "array([ 2,  6, 12])"
      ]
     },
     "execution_count": 47,
     "metadata": {},
     "output_type": "execute_result"
    }
   ],
   "source": [
    "np.multiply([1,2,3], [2,3,4])"
   ]
  },
  {
   "cell_type": "code",
   "execution_count": 48,
   "id": "150b95e5",
   "metadata": {},
   "outputs": [
    {
     "data": {
      "text/plain": [
       "array([2., 1., 3.])"
      ]
     },
     "execution_count": 48,
     "metadata": {},
     "output_type": "execute_result"
    }
   ],
   "source": [
    "np.divide([4,2,6], [2,2,2])"
   ]
  },
  {
   "cell_type": "code",
   "execution_count": 49,
   "id": "1a4a3be4",
   "metadata": {},
   "outputs": [],
   "source": [
    "a1 = np.array([2,1,4,5,3,6])\n",
    "a2 = np.array([3,4,2,1,6,5])"
   ]
  },
  {
   "cell_type": "code",
   "execution_count": 50,
   "id": "c34f1bde",
   "metadata": {},
   "outputs": [
    {
     "data": {
      "text/plain": [
       "array([3, 4, 4, 5, 6, 6])"
      ]
     },
     "execution_count": 50,
     "metadata": {},
     "output_type": "execute_result"
    }
   ],
   "source": [
    "np.maximum(a1, a2)"
   ]
  },
  {
   "cell_type": "code",
   "execution_count": 51,
   "id": "df8d578b",
   "metadata": {},
   "outputs": [
    {
     "data": {
      "text/plain": [
       "array([2, 1, 2, 1, 3, 5])"
      ]
     },
     "execution_count": 51,
     "metadata": {},
     "output_type": "execute_result"
    }
   ],
   "source": [
    "np.minimum(a1, a2)"
   ]
  },
  {
   "cell_type": "code",
   "execution_count": 52,
   "id": "1472aa74",
   "metadata": {},
   "outputs": [
    {
     "data": {
      "text/plain": [
       "array([False, False,  True,  True, False,  True])"
      ]
     },
     "execution_count": 52,
     "metadata": {},
     "output_type": "execute_result"
    }
   ],
   "source": [
    "np.greater(a1, a2)"
   ]
  },
  {
   "cell_type": "code",
   "execution_count": 53,
   "id": "3bdb95ca",
   "metadata": {},
   "outputs": [
    {
     "data": {
      "text/plain": [
       "array([ True,  True, False, False,  True, False])"
      ]
     },
     "execution_count": 53,
     "metadata": {},
     "output_type": "execute_result"
    }
   ],
   "source": [
    "np.less(a1, a2)"
   ]
  },
  {
   "cell_type": "code",
   "execution_count": 54,
   "id": "889080d0",
   "metadata": {},
   "outputs": [
    {
     "data": {
      "text/plain": [
       "array([ 0,  1,  2,  3,  4,  5,  6,  7,  8,  9, 10, 11, 12, 13, 14, 15, 16,\n",
       "       17, 18, 19, 20])"
      ]
     },
     "execution_count": 54,
     "metadata": {},
     "output_type": "execute_result"
    }
   ],
   "source": [
    "a1 = np.arange(21)\n",
    "a1"
   ]
  },
  {
   "cell_type": "code",
   "execution_count": 55,
   "id": "d517dce0",
   "metadata": {},
   "outputs": [
    {
     "data": {
      "text/plain": [
       "10.0"
      ]
     },
     "execution_count": 55,
     "metadata": {},
     "output_type": "execute_result"
    }
   ],
   "source": [
    "np.mean(a1)"
   ]
  },
  {
   "cell_type": "code",
   "execution_count": 56,
   "id": "83c2b766",
   "metadata": {},
   "outputs": [
    {
     "data": {
      "text/plain": [
       "36.666666666666664"
      ]
     },
     "execution_count": 56,
     "metadata": {},
     "output_type": "execute_result"
    }
   ],
   "source": [
    "np.var(a1)"
   ]
  },
  {
   "cell_type": "code",
   "execution_count": 57,
   "id": "1ec4ced9",
   "metadata": {},
   "outputs": [
    {
     "data": {
      "text/plain": [
       "6.0553007081949835"
      ]
     },
     "execution_count": 57,
     "metadata": {},
     "output_type": "execute_result"
    }
   ],
   "source": [
    "np.std(a1)"
   ]
  },
  {
   "cell_type": "code",
   "execution_count": 58,
   "id": "324dc42b",
   "metadata": {},
   "outputs": [
    {
     "data": {
      "text/plain": [
       "10.0"
      ]
     },
     "execution_count": 58,
     "metadata": {},
     "output_type": "execute_result"
    }
   ],
   "source": [
    "a1.mean()"
   ]
  },
  {
   "cell_type": "code",
   "execution_count": 59,
   "id": "aa18cdf9",
   "metadata": {},
   "outputs": [
    {
     "data": {
      "text/plain": [
       "6.0553007081949835"
      ]
     },
     "execution_count": 59,
     "metadata": {},
     "output_type": "execute_result"
    }
   ],
   "source": [
    "a1.std()"
   ]
  },
  {
   "cell_type": "code",
   "execution_count": 60,
   "id": "7b072b9f",
   "metadata": {},
   "outputs": [
    {
     "data": {
      "text/plain": [
       "36.666666666666664"
      ]
     },
     "execution_count": 60,
     "metadata": {},
     "output_type": "execute_result"
    }
   ],
   "source": [
    "a1.var()"
   ]
  },
  {
   "cell_type": "code",
   "execution_count": 61,
   "id": "a57124e9",
   "metadata": {},
   "outputs": [
    {
     "data": {
      "text/plain": [
       "array([ 1,  2,  3,  4,  5,  6,  7,  8,  9, 10])"
      ]
     },
     "execution_count": 61,
     "metadata": {},
     "output_type": "execute_result"
    }
   ],
   "source": [
    "a = np.arange(1,11)\n",
    "a"
   ]
  },
  {
   "cell_type": "code",
   "execution_count": 62,
   "id": "96ecdd3a",
   "metadata": {},
   "outputs": [
    {
     "data": {
      "text/plain": [
       "array([ 1,  3,  6, 10, 15, 21, 28, 36, 45, 55])"
      ]
     },
     "execution_count": 62,
     "metadata": {},
     "output_type": "execute_result"
    }
   ],
   "source": [
    "a.cumsum()"
   ]
  },
  {
   "cell_type": "code",
   "execution_count": 63,
   "id": "f6bcb12b",
   "metadata": {},
   "outputs": [
    {
     "data": {
      "text/plain": [
       "array([      1,       2,       6,      24,     120,     720,    5040,\n",
       "         40320,  362880, 3628800])"
      ]
     },
     "execution_count": 63,
     "metadata": {},
     "output_type": "execute_result"
    }
   ],
   "source": [
    "a.cumprod()"
   ]
  },
  {
   "cell_type": "code",
   "execution_count": 64,
   "id": "b865991c",
   "metadata": {},
   "outputs": [
    {
     "data": {
      "text/plain": [
       "1"
      ]
     },
     "execution_count": 64,
     "metadata": {},
     "output_type": "execute_result"
    }
   ],
   "source": [
    "a.min()"
   ]
  },
  {
   "cell_type": "code",
   "execution_count": 65,
   "id": "78d77d2c",
   "metadata": {},
   "outputs": [
    {
     "data": {
      "text/plain": [
       "10"
      ]
     },
     "execution_count": 65,
     "metadata": {},
     "output_type": "execute_result"
    }
   ],
   "source": [
    "a.max()"
   ]
  },
  {
   "cell_type": "code",
   "execution_count": 66,
   "id": "fa780865",
   "metadata": {},
   "outputs": [
    {
     "data": {
      "text/plain": [
       "55"
      ]
     },
     "execution_count": 66,
     "metadata": {},
     "output_type": "execute_result"
    }
   ],
   "source": [
    "a.sum()"
   ]
  },
  {
   "cell_type": "code",
   "execution_count": 71,
   "id": "7e0c07ed",
   "metadata": {},
   "outputs": [
    {
     "data": {
      "text/plain": [
       "array([[ 0,  1,  2,  3,  4,  5,  6,  7],\n",
       "       [ 8,  9, 10, 11, 12, 13, 14, 15],\n",
       "       [16, 17, 18, 19, 20, 21, 22, 23],\n",
       "       [24, 25, 26, 27, 28, 29, 30, 31],\n",
       "       [32, 33, 34, 35, 36, 37, 38, 39],\n",
       "       [40, 41, 42, 43, 44, 45, 46, 47],\n",
       "       [48, 49, 50, 51, 52, 53, 54, 55],\n",
       "       [56, 57, 58, 59, 60, 61, 62, 63]])"
      ]
     },
     "execution_count": 71,
     "metadata": {},
     "output_type": "execute_result"
    }
   ],
   "source": [
    "a = np.arange(64).reshape(8,8)\n",
    "a"
   ]
  },
  {
   "cell_type": "code",
   "execution_count": 72,
   "id": "d3bd230c",
   "metadata": {},
   "outputs": [
    {
     "data": {
      "text/plain": [
       "(8, 8)"
      ]
     },
     "execution_count": 72,
     "metadata": {},
     "output_type": "execute_result"
    }
   ],
   "source": [
    "a.shape"
   ]
  },
  {
   "cell_type": "code",
   "execution_count": 73,
   "id": "d47c8415",
   "metadata": {},
   "outputs": [
    {
     "data": {
      "text/plain": [
       "31.5"
      ]
     },
     "execution_count": 73,
     "metadata": {},
     "output_type": "execute_result"
    }
   ],
   "source": [
    "a.mean()"
   ]
  },
  {
   "cell_type": "code",
   "execution_count": 74,
   "id": "44d30455",
   "metadata": {},
   "outputs": [
    {
     "data": {
      "text/plain": [
       "array([28., 29., 30., 31., 32., 33., 34., 35.])"
      ]
     },
     "execution_count": 74,
     "metadata": {},
     "output_type": "execute_result"
    }
   ],
   "source": [
    "a.mean(axis = 0)"
   ]
  },
  {
   "cell_type": "code",
   "execution_count": 75,
   "id": "872a5e21",
   "metadata": {},
   "outputs": [
    {
     "data": {
      "text/plain": [
       "array([ 3.5, 11.5, 19.5, 27.5, 35.5, 43.5, 51.5, 59.5])"
      ]
     },
     "execution_count": 75,
     "metadata": {},
     "output_type": "execute_result"
    }
   ],
   "source": [
    "a.mean(axis = 1)"
   ]
  },
  {
   "cell_type": "code",
   "execution_count": 76,
   "id": "d6b3fa52",
   "metadata": {},
   "outputs": [
    {
     "data": {
      "text/plain": [
       "18.472953201911167"
      ]
     },
     "execution_count": 76,
     "metadata": {},
     "output_type": "execute_result"
    }
   ],
   "source": [
    "a.std()"
   ]
  },
  {
   "cell_type": "code",
   "execution_count": 77,
   "id": "67a27806",
   "metadata": {},
   "outputs": [
    {
     "data": {
      "text/plain": [
       "array([18.33030278, 18.33030278, 18.33030278, 18.33030278, 18.33030278,\n",
       "       18.33030278, 18.33030278, 18.33030278])"
      ]
     },
     "execution_count": 77,
     "metadata": {},
     "output_type": "execute_result"
    }
   ],
   "source": [
    "a.std(axis = 0)"
   ]
  },
  {
   "cell_type": "code",
   "execution_count": 78,
   "id": "ca7cd52a",
   "metadata": {},
   "outputs": [
    {
     "data": {
      "text/plain": [
       "array([2.29128785, 2.29128785, 2.29128785, 2.29128785, 2.29128785,\n",
       "       2.29128785, 2.29128785, 2.29128785])"
      ]
     },
     "execution_count": 78,
     "metadata": {},
     "output_type": "execute_result"
    }
   ],
   "source": [
    "a.std(axis = 1)"
   ]
  },
  {
   "cell_type": "code",
   "execution_count": 79,
   "id": "6d87b9da",
   "metadata": {},
   "outputs": [
    {
     "data": {
      "text/plain": [
       "array([56, 57, 58, 59, 60, 61, 62, 63])"
      ]
     },
     "execution_count": 79,
     "metadata": {},
     "output_type": "execute_result"
    }
   ],
   "source": [
    "a.max(axis = 0)"
   ]
  },
  {
   "cell_type": "code",
   "execution_count": 80,
   "id": "8d75de75",
   "metadata": {},
   "outputs": [
    {
     "data": {
      "text/plain": [
       "array([ 7, 15, 23, 31, 39, 47, 55, 63])"
      ]
     },
     "execution_count": 80,
     "metadata": {},
     "output_type": "execute_result"
    }
   ],
   "source": [
    "a.max(axis = 1)"
   ]
  },
  {
   "cell_type": "code",
   "execution_count": 84,
   "id": "54303ae1",
   "metadata": {},
   "outputs": [
    {
     "data": {
      "text/plain": [
       "array([50, 30, 80, 20, 10, 40])"
      ]
     },
     "execution_count": 84,
     "metadata": {},
     "output_type": "execute_result"
    }
   ],
   "source": [
    "x = np.array([50,30,80,20,10,40])\n",
    "x"
   ]
  },
  {
   "cell_type": "code",
   "execution_count": 85,
   "id": "792a5dcc",
   "metadata": {},
   "outputs": [
    {
     "data": {
      "text/plain": [
       "2"
      ]
     },
     "execution_count": 85,
     "metadata": {},
     "output_type": "execute_result"
    }
   ],
   "source": [
    "np.argmax(x)"
   ]
  },
  {
   "cell_type": "code",
   "execution_count": 86,
   "id": "82e08bd9",
   "metadata": {},
   "outputs": [
    {
     "data": {
      "text/plain": [
       "4"
      ]
     },
     "execution_count": 86,
     "metadata": {},
     "output_type": "execute_result"
    }
   ],
   "source": [
    "np.argmin(x)"
   ]
  },
  {
   "cell_type": "code",
   "execution_count": 87,
   "id": "47c45992",
   "metadata": {},
   "outputs": [
    {
     "data": {
      "text/plain": [
       "80"
      ]
     },
     "execution_count": 87,
     "metadata": {},
     "output_type": "execute_result"
    }
   ],
   "source": [
    "np.max(x)"
   ]
  },
  {
   "cell_type": "code",
   "execution_count": 89,
   "id": "eb539919",
   "metadata": {},
   "outputs": [
    {
     "data": {
      "text/plain": [
       "array([[ 2,  1,  5,  4],\n",
       "       [ 3,  5,  6,  7],\n",
       "       [ 3, 10,  2,  3]])"
      ]
     },
     "execution_count": 89,
     "metadata": {},
     "output_type": "execute_result"
    }
   ],
   "source": [
    "a1 = np.array([2,1,5,4,3,5,6,7,3,10,2,3]).reshape(3,4)\n",
    "a1"
   ]
  },
  {
   "cell_type": "code",
   "execution_count": 90,
   "id": "bd43ceb3",
   "metadata": {},
   "outputs": [
    {
     "data": {
      "text/plain": [
       "array([ 2,  1,  5,  4,  3,  5,  6,  7,  3, 10,  2,  3])"
      ]
     },
     "execution_count": 90,
     "metadata": {},
     "output_type": "execute_result"
    }
   ],
   "source": [
    "a1.ravel()"
   ]
  },
  {
   "cell_type": "code",
   "execution_count": 91,
   "id": "5070183e",
   "metadata": {},
   "outputs": [
    {
     "data": {
      "text/plain": [
       "array([[[ 2,  1,  5,  4],\n",
       "        [ 3,  5,  6,  7],\n",
       "        [ 3, 10,  2,  3]]])"
      ]
     },
     "execution_count": 91,
     "metadata": {},
     "output_type": "execute_result"
    }
   ],
   "source": [
    "a2 = a1.reshape(1,3,4)\n",
    "a2"
   ]
  },
  {
   "cell_type": "code",
   "execution_count": 92,
   "id": "5511f777",
   "metadata": {},
   "outputs": [
    {
     "data": {
      "text/plain": [
       "(1, 3, 4)"
      ]
     },
     "execution_count": 92,
     "metadata": {},
     "output_type": "execute_result"
    }
   ],
   "source": [
    "a2.shape"
   ]
  },
  {
   "cell_type": "code",
   "execution_count": 93,
   "id": "964289fa",
   "metadata": {},
   "outputs": [
    {
     "data": {
      "text/plain": [
       "array([[ 2,  1,  5,  4],\n",
       "       [ 3,  5,  6,  7],\n",
       "       [ 3, 10,  2,  3]])"
      ]
     },
     "execution_count": 93,
     "metadata": {},
     "output_type": "execute_result"
    }
   ],
   "source": [
    "a2 = a2.squeeze()\n",
    "a2"
   ]
  },
  {
   "cell_type": "code",
   "execution_count": 94,
   "id": "01064676",
   "metadata": {},
   "outputs": [
    {
     "data": {
      "text/plain": [
       "(3, 4)"
      ]
     },
     "execution_count": 94,
     "metadata": {},
     "output_type": "execute_result"
    }
   ],
   "source": [
    "a2.shape"
   ]
  },
  {
   "cell_type": "code",
   "execution_count": 98,
   "id": "6168e5d2",
   "metadata": {},
   "outputs": [
    {
     "data": {
      "text/plain": [
       "array([ 10.,  20.,  30.,  40.,  50.,  60.,  70.,  80.,  90., 100.])"
      ]
     },
     "execution_count": 98,
     "metadata": {},
     "output_type": "execute_result"
    }
   ],
   "source": [
    "np.linspace(10,100,10)"
   ]
  },
  {
   "cell_type": "markdown",
   "id": "468036d8",
   "metadata": {},
   "source": [
    "## Concatenation"
   ]
  },
  {
   "cell_type": "code",
   "execution_count": 99,
   "id": "d7db4f9e",
   "metadata": {},
   "outputs": [],
   "source": [
    "a1 = np.array([1,2,3,4])\n",
    "a2 = np.array([5,6,7,8])"
   ]
  },
  {
   "cell_type": "code",
   "execution_count": 101,
   "id": "48bc7b74",
   "metadata": {},
   "outputs": [
    {
     "data": {
      "text/plain": [
       "array([1, 2, 3, 4, 5, 6, 7, 8])"
      ]
     },
     "execution_count": 101,
     "metadata": {},
     "output_type": "execute_result"
    }
   ],
   "source": [
    "np.concatenate((a1,a2))"
   ]
  },
  {
   "cell_type": "code",
   "execution_count": 102,
   "id": "8d4b6f01",
   "metadata": {},
   "outputs": [
    {
     "data": {
      "text/plain": [
       "array([[2, 4, 1],\n",
       "       [6, 5, 8]])"
      ]
     },
     "execution_count": 102,
     "metadata": {},
     "output_type": "execute_result"
    }
   ],
   "source": [
    "a1 = np.array([2,4,1,6,5,8]).reshape(2,3)\n",
    "a1"
   ]
  },
  {
   "cell_type": "code",
   "execution_count": 103,
   "id": "c69677f8",
   "metadata": {},
   "outputs": [
    {
     "data": {
      "text/plain": [
       "array([[5, 2, 6],\n",
       "       [9, 1, 4]])"
      ]
     },
     "execution_count": 103,
     "metadata": {},
     "output_type": "execute_result"
    }
   ],
   "source": [
    "a2 = np.array([5,2,6,9,1,4]).reshape(2,3)\n",
    "a2"
   ]
  },
  {
   "cell_type": "code",
   "execution_count": 104,
   "id": "a4ff8432",
   "metadata": {},
   "outputs": [
    {
     "data": {
      "text/plain": [
       "array([[2, 4, 1],\n",
       "       [6, 5, 8],\n",
       "       [5, 2, 6],\n",
       "       [9, 1, 4]])"
      ]
     },
     "execution_count": 104,
     "metadata": {},
     "output_type": "execute_result"
    }
   ],
   "source": [
    "np.concatenate((a1,a2), axis = 0)"
   ]
  },
  {
   "cell_type": "code",
   "execution_count": 105,
   "id": "94db381c",
   "metadata": {},
   "outputs": [
    {
     "data": {
      "text/plain": [
       "array([[2, 4, 1, 5, 2, 6],\n",
       "       [6, 5, 8, 9, 1, 4]])"
      ]
     },
     "execution_count": 105,
     "metadata": {},
     "output_type": "execute_result"
    }
   ],
   "source": [
    "np.concatenate((a1,a2), axis = 1)"
   ]
  },
  {
   "cell_type": "markdown",
   "id": "a6955405",
   "metadata": {},
   "source": [
    "## Random numbers"
   ]
  },
  {
   "cell_type": "code",
   "execution_count": 125,
   "id": "3a1f88c7",
   "metadata": {},
   "outputs": [
    {
     "data": {
      "text/plain": [
       "6"
      ]
     },
     "execution_count": 125,
     "metadata": {},
     "output_type": "execute_result"
    }
   ],
   "source": [
    "np.random.randint(1,50)"
   ]
  },
  {
   "cell_type": "code",
   "execution_count": 119,
   "id": "a3f6b8dc",
   "metadata": {},
   "outputs": [
    {
     "data": {
      "text/plain": [
       "48"
      ]
     },
     "execution_count": 119,
     "metadata": {},
     "output_type": "execute_result"
    }
   ],
   "source": [
    "np.random.randint(50)"
   ]
  },
  {
   "cell_type": "code",
   "execution_count": 134,
   "id": "7a0644d5",
   "metadata": {},
   "outputs": [
    {
     "data": {
      "text/plain": [
       "array([57, 78, 20, 81, 85, 60, 86, 27, 19, 33])"
      ]
     },
     "execution_count": 134,
     "metadata": {},
     "output_type": "execute_result"
    }
   ],
   "source": [
    "np.random.randint(11,100,10)"
   ]
  },
  {
   "cell_type": "code",
   "execution_count": 137,
   "id": "bd7dd5dc",
   "metadata": {},
   "outputs": [
    {
     "data": {
      "text/plain": [
       "array([[79, 54, 81, 44, 90, 96, 16, 89, 67, 51],\n",
       "       [96, 76, 56, 71, 52, 75, 54, 81, 35, 29],\n",
       "       [81, 56, 19, 69, 28, 91, 39, 91, 87, 97],\n",
       "       [94, 44, 70, 95, 31, 65, 27, 89, 29, 85],\n",
       "       [39, 75, 21, 92, 58, 63, 56, 86, 77, 67],\n",
       "       [59, 81, 77, 89, 58, 64, 73, 66, 14, 95],\n",
       "       [62, 90, 27, 26, 20, 11, 86, 68, 45, 84],\n",
       "       [29, 14, 23, 88, 59, 78, 61, 33, 75, 64],\n",
       "       [48, 84, 88, 42, 62, 88, 49, 95, 49, 11],\n",
       "       [60, 48, 51, 80, 97, 84, 77, 43, 50, 89]])"
      ]
     },
     "execution_count": 137,
     "metadata": {},
     "output_type": "execute_result"
    }
   ],
   "source": [
    "np.random.randint(11,100, (10,10))"
   ]
  },
  {
   "cell_type": "code",
   "execution_count": 138,
   "id": "43c3a562",
   "metadata": {},
   "outputs": [
    {
     "data": {
      "text/plain": [
       "array([ 0.98502532, -0.62125305,  0.89281307, -1.65241048,  1.55960335,\n",
       "        0.55708811,  0.55781383, -0.33486111,  0.77004013,  0.23862805])"
      ]
     },
     "execution_count": 138,
     "metadata": {},
     "output_type": "execute_result"
    }
   ],
   "source": [
    "np.random.randn(10)"
   ]
  },
  {
   "cell_type": "code",
   "execution_count": 139,
   "id": "4e48f006",
   "metadata": {},
   "outputs": [
    {
     "data": {
      "text/plain": [
       "array([[-1.27035597,  1.63614362,  0.04844228, -0.25484751],\n",
       "       [-0.46448102,  1.48545304, -0.27698534, -1.32836221],\n",
       "       [-1.44270861, -0.40310421, -0.56637515,  0.13606168]])"
      ]
     },
     "execution_count": 139,
     "metadata": {},
     "output_type": "execute_result"
    }
   ],
   "source": [
    "np.random.randn(3,4)"
   ]
  },
  {
   "cell_type": "markdown",
   "id": "36d52c44",
   "metadata": {},
   "source": [
    "## Linear Algebra"
   ]
  },
  {
   "cell_type": "code",
   "execution_count": 140,
   "id": "a2214d82",
   "metadata": {},
   "outputs": [
    {
     "data": {
      "text/plain": [
       "array([[ 4,  3,  7,  9],\n",
       "       [ 2,  3,  9,  6],\n",
       "       [ 1,  4,  7,  6],\n",
       "       [11,  4,  8,  7]])"
      ]
     },
     "execution_count": 140,
     "metadata": {},
     "output_type": "execute_result"
    }
   ],
   "source": [
    "a = np.array([4,3,7,9,2,3,9,6,1,4,7,6,11,4,8,7]).reshape((4,4))\n",
    "a"
   ]
  },
  {
   "cell_type": "code",
   "execution_count": 141,
   "id": "0b4b8dfb",
   "metadata": {},
   "outputs": [
    {
     "data": {
      "text/plain": [
       "527.0000000000006"
      ]
     },
     "execution_count": 141,
     "metadata": {},
     "output_type": "execute_result"
    }
   ],
   "source": [
    "from numpy.linalg import det\n",
    "det(a)"
   ]
  },
  {
   "cell_type": "code",
   "execution_count": 142,
   "id": "aecfbbff",
   "metadata": {},
   "outputs": [
    {
     "data": {
      "text/plain": [
       "array([[-0.0170778 , -0.02087287, -0.07969639,  0.10815939],\n",
       "       [-0.22580645, -0.38709677,  0.61290323,  0.09677419],\n",
       "       [-0.10436433,  0.31688805, -0.15370019, -0.0056926 ],\n",
       "       [ 0.27514231, -0.10815939, -0.04933586, -0.07590133]])"
      ]
     },
     "execution_count": 142,
     "metadata": {},
     "output_type": "execute_result"
    }
   ],
   "source": [
    "from numpy.linalg import inv\n",
    "inv(a)"
   ]
  },
  {
   "cell_type": "code",
   "execution_count": 144,
   "id": "f299f48a",
   "metadata": {},
   "outputs": [
    {
     "data": {
      "text/plain": [
       "(array([22.97864964,  3.76499269, -4.34011564, -1.40352668]),\n",
       " array([[-0.51289911, -0.39468612,  0.5270535 ,  0.05108621],\n",
       "        [-0.41676444,  0.52758299,  0.07812217, -0.85784205],\n",
       "        [-0.37954612,  0.5045306 ,  0.33673147,  0.494701  ],\n",
       "        [-0.64744625, -0.55796767, -0.77635266, -0.12949184]]))"
      ]
     },
     "execution_count": 144,
     "metadata": {},
     "output_type": "execute_result"
    }
   ],
   "source": [
    "from numpy.linalg import eig\n",
    "eig(a)"
   ]
  },
  {
   "cell_type": "markdown",
   "id": "9a55eafe",
   "metadata": {},
   "source": [
    "## Conditional Indexing"
   ]
  },
  {
   "cell_type": "code",
   "execution_count": 146,
   "id": "79a83935",
   "metadata": {},
   "outputs": [
    {
     "data": {
      "text/plain": [
       "array([[90, 55, 71, 98, 49, 34, 88, 47],\n",
       "       [87, 21, 53, 74, 24, 52, 26, 35],\n",
       "       [26, 47, 98, 30, 85, 23, 82, 34],\n",
       "       [24, 58, 88, 44, 52, 60, 64, 63],\n",
       "       [85, 82, 93, 64, 37, 72, 93, 73],\n",
       "       [58, 51, 31, 88, 35, 69, 64, 28],\n",
       "       [76, 95, 13, 80, 66, 64, 83, 30],\n",
       "       [23, 42, 54, 64, 95, 28, 92, 61]])"
      ]
     },
     "execution_count": 146,
     "metadata": {},
     "output_type": "execute_result"
    }
   ],
   "source": [
    "a = np.random.randint(11,100,(8,8))\n",
    "a"
   ]
  },
  {
   "cell_type": "code",
   "execution_count": 147,
   "id": "591af569",
   "metadata": {},
   "outputs": [
    {
     "data": {
      "text/plain": [
       "array([[ True,  True,  True,  True, False, False,  True, False],\n",
       "       [ True, False,  True,  True, False,  True, False, False],\n",
       "       [False, False,  True, False,  True, False,  True, False],\n",
       "       [False,  True,  True, False,  True,  True,  True,  True],\n",
       "       [ True,  True,  True,  True, False,  True,  True,  True],\n",
       "       [ True,  True, False,  True, False,  True,  True, False],\n",
       "       [ True,  True, False,  True,  True,  True,  True, False],\n",
       "       [False, False,  True,  True,  True, False,  True,  True]])"
      ]
     },
     "execution_count": 147,
     "metadata": {},
     "output_type": "execute_result"
    }
   ],
   "source": [
    "a > 50"
   ]
  },
  {
   "cell_type": "code",
   "execution_count": 148,
   "id": "3ee72a4f",
   "metadata": {},
   "outputs": [
    {
     "data": {
      "text/plain": [
       "array([90, 55, 71, 98, 88, 87, 53, 74, 52, 98, 85, 82, 58, 88, 52, 60, 64,\n",
       "       63, 85, 82, 93, 64, 72, 93, 73, 58, 51, 88, 69, 64, 76, 95, 80, 66,\n",
       "       64, 83, 54, 64, 95, 92, 61])"
      ]
     },
     "execution_count": 148,
     "metadata": {},
     "output_type": "execute_result"
    }
   ],
   "source": [
    "a[a > 50]"
   ]
  },
  {
   "cell_type": "code",
   "execution_count": 149,
   "id": "eb2cc9a4",
   "metadata": {},
   "outputs": [
    {
     "data": {
      "text/plain": [
       "array([49, 34, 47, 21, 24, 26, 35, 26, 47, 30, 23, 34, 24, 44, 37, 31, 35,\n",
       "       28, 13, 30, 23, 42, 28])"
      ]
     },
     "execution_count": 149,
     "metadata": {},
     "output_type": "execute_result"
    }
   ],
   "source": [
    "a[a < 50]"
   ]
  },
  {
   "cell_type": "code",
   "execution_count": 151,
   "id": "03f67515",
   "metadata": {},
   "outputs": [
    {
     "data": {
      "text/plain": [
       "array([21, 24, 26, 26, 30, 23, 24, 28, 13, 30, 23, 28])"
      ]
     },
     "execution_count": 151,
     "metadata": {},
     "output_type": "execute_result"
    }
   ],
   "source": [
    "a[a <= 30]"
   ]
  },
  {
   "cell_type": "code",
   "execution_count": 152,
   "id": "3a3b44e6",
   "metadata": {},
   "outputs": [
    {
     "data": {
      "text/plain": [
       "array([90, 71, 98, 88, 87, 74, 98, 85, 82, 88, 85, 82, 93, 72, 93, 73, 88,\n",
       "       76, 95, 80, 83, 95, 92])"
      ]
     },
     "execution_count": 152,
     "metadata": {},
     "output_type": "execute_result"
    }
   ],
   "source": [
    "a[a >= 70]"
   ]
  },
  {
   "cell_type": "code",
   "execution_count": 154,
   "id": "1b6b2975",
   "metadata": {},
   "outputs": [
    {
     "data": {
      "text/plain": [
       "array([55, 53, 52, 58, 52, 60, 58, 51, 54])"
      ]
     },
     "execution_count": 154,
     "metadata": {},
     "output_type": "execute_result"
    }
   ],
   "source": [
    "b = a[a >= 50]\n",
    "b[b <= 60]"
   ]
  },
  {
   "cell_type": "markdown",
   "id": "f1c87c44",
   "metadata": {},
   "source": [
    "## Slicing in Multidimensional Arrays"
   ]
  },
  {
   "cell_type": "code",
   "execution_count": 155,
   "id": "cc7f8071",
   "metadata": {},
   "outputs": [
    {
     "data": {
      "text/plain": [
       "array([[93, 26, 63, 14, 28, 58, 91, 96, 54, 12],\n",
       "       [53, 93, 58, 53, 32, 36, 15, 28, 99, 13],\n",
       "       [31, 64, 46, 62, 66, 13, 31, 90, 43, 12],\n",
       "       [70, 64, 89, 67, 77, 13, 34, 54, 83, 81],\n",
       "       [98, 58, 39, 20, 94, 78, 23, 91, 26, 39],\n",
       "       [96, 17, 91, 69, 95, 88, 68, 97, 98, 30],\n",
       "       [53, 54, 65, 85, 36, 22, 11, 55, 43, 75],\n",
       "       [95, 51, 31, 50, 53, 51, 70, 64, 70, 27],\n",
       "       [50, 39, 12, 31, 32, 99, 43, 36, 71, 16],\n",
       "       [43, 52, 53, 78, 42, 99, 92, 63, 18, 25]])"
      ]
     },
     "execution_count": 155,
     "metadata": {},
     "output_type": "execute_result"
    }
   ],
   "source": [
    "a = np.random.randint(10,100,(10,10))\n",
    "a"
   ]
  },
  {
   "cell_type": "code",
   "execution_count": 156,
   "id": "8f204870",
   "metadata": {},
   "outputs": [
    {
     "data": {
      "text/plain": [
       "array([93, 26, 63, 14, 28, 58, 91, 96, 54, 12])"
      ]
     },
     "execution_count": 156,
     "metadata": {},
     "output_type": "execute_result"
    }
   ],
   "source": [
    "a[0]"
   ]
  },
  {
   "cell_type": "code",
   "execution_count": 157,
   "id": "b97cc939",
   "metadata": {},
   "outputs": [
    {
     "data": {
      "text/plain": [
       "array([53, 93, 58, 53, 32, 36, 15, 28, 99, 13])"
      ]
     },
     "execution_count": 157,
     "metadata": {},
     "output_type": "execute_result"
    }
   ],
   "source": [
    "a[1]"
   ]
  },
  {
   "cell_type": "code",
   "execution_count": 158,
   "id": "53033b6d",
   "metadata": {},
   "outputs": [
    {
     "data": {
      "text/plain": [
       "array([[93, 26, 63, 14, 28, 58, 91, 96, 54, 12],\n",
       "       [53, 93, 58, 53, 32, 36, 15, 28, 99, 13],\n",
       "       [31, 64, 46, 62, 66, 13, 31, 90, 43, 12],\n",
       "       [70, 64, 89, 67, 77, 13, 34, 54, 83, 81]])"
      ]
     },
     "execution_count": 158,
     "metadata": {},
     "output_type": "execute_result"
    }
   ],
   "source": [
    "a[0:4]"
   ]
  },
  {
   "cell_type": "code",
   "execution_count": 159,
   "id": "03b2e747",
   "metadata": {},
   "outputs": [
    {
     "data": {
      "text/plain": [
       "array([[70, 64, 89, 67, 77, 13, 34, 54, 83, 81],\n",
       "       [98, 58, 39, 20, 94, 78, 23, 91, 26, 39],\n",
       "       [96, 17, 91, 69, 95, 88, 68, 97, 98, 30],\n",
       "       [53, 54, 65, 85, 36, 22, 11, 55, 43, 75],\n",
       "       [95, 51, 31, 50, 53, 51, 70, 64, 70, 27]])"
      ]
     },
     "execution_count": 159,
     "metadata": {},
     "output_type": "execute_result"
    }
   ],
   "source": [
    "a[3:8]"
   ]
  },
  {
   "cell_type": "code",
   "execution_count": 163,
   "id": "ca0737ad",
   "metadata": {},
   "outputs": [
    {
     "data": {
      "text/plain": [
       "28"
      ]
     },
     "execution_count": 163,
     "metadata": {},
     "output_type": "execute_result"
    }
   ],
   "source": [
    "a[0][4]"
   ]
  },
  {
   "cell_type": "code",
   "execution_count": 166,
   "id": "11779cf4",
   "metadata": {},
   "outputs": [
    {
     "data": {
      "text/plain": [
       "array([[93, 26, 63, 14],\n",
       "       [53, 93, 58, 53],\n",
       "       [31, 64, 46, 62],\n",
       "       [70, 64, 89, 67]])"
      ]
     },
     "execution_count": 166,
     "metadata": {},
     "output_type": "execute_result"
    }
   ],
   "source": [
    "a[0:4 , 0:4]"
   ]
  },
  {
   "cell_type": "code",
   "execution_count": 167,
   "id": "729d8853",
   "metadata": {},
   "outputs": [
    {
     "data": {
      "text/plain": [
       "array([[46, 62, 66],\n",
       "       [89, 67, 77],\n",
       "       [39, 20, 94],\n",
       "       [91, 69, 95],\n",
       "       [65, 85, 36]])"
      ]
     },
     "execution_count": 167,
     "metadata": {},
     "output_type": "execute_result"
    }
   ],
   "source": [
    "a[2:7, 2:5]"
   ]
  },
  {
   "cell_type": "code",
   "execution_count": null,
   "id": "b1b6f32f",
   "metadata": {},
   "outputs": [],
   "source": []
  }
 ],
 "metadata": {
  "kernelspec": {
   "display_name": "Python 3 (ipykernel)",
   "language": "python",
   "name": "python3"
  },
  "language_info": {
   "codemirror_mode": {
    "name": "ipython",
    "version": 3
   },
   "file_extension": ".py",
   "mimetype": "text/x-python",
   "name": "python",
   "nbconvert_exporter": "python",
   "pygments_lexer": "ipython3",
   "version": "3.9.7"
  }
 },
 "nbformat": 4,
 "nbformat_minor": 5
}
