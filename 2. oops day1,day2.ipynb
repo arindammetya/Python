{
 "cells": [
  {
   "cell_type": "code",
   "execution_count": 1,
   "id": "85135f3b",
   "metadata": {},
   "outputs": [],
   "source": [
    "# # oops concept\n",
    "# #oops -> object oriented programming\n",
    "\n",
    "# #why we need oops?\n",
    "# #reusability\n",
    "# #modularity\n",
    "\n",
    "\n",
    "# classes --> blueprint of your code\n",
    "# object--> instance of your class\n",
    "\n",
    "# class -> car-> engine,color,model,speed,company\n",
    "# object -> maruti,bmw\n"
   ]
  },
  {
   "cell_type": "code",
   "execution_count": 4,
   "id": "3e20d328",
   "metadata": {},
   "outputs": [],
   "source": [
    "#Animal: -> name,sound\n",
    "\n",
    "#__init__ -> constructor of the class\n",
    "#--> it get called automatically when you create a new object from the class\n",
    "#--> it is used to set up the initial state or attributed of the object\n",
    "\n",
    "# self--> self is the reference to the instance of the object itself\n",
    "\n",
    "class Animal:\n",
    "    def __init__(self,name,sound):\n",
    "        self.name = name   #dog.name = 'buddy'\n",
    "        self.sound= sound  #dog.sound = 'ertt'\n",
    "        \n",
    "    def make_sound(self):\n",
    "        print(f\" {self.name} makes {self.sound} sound\")\n",
    "        \n",
    "        \n",
    "    "
   ]
  },
  {
   "cell_type": "code",
   "execution_count": 8,
   "id": "17db9352",
   "metadata": {},
   "outputs": [],
   "source": [
    "dog = Animal(\"buddy\",\"ertttt\")\n",
    "#self\n",
    "#object = class_name(attributes defined in init)\n",
    "\n",
    "cat = Animal(\"fluffy\",\"meo\")\n"
   ]
  },
  {
   "cell_type": "code",
   "execution_count": 10,
   "id": "582e00bf",
   "metadata": {},
   "outputs": [
    {
     "data": {
      "text/plain": [
       "'buddy'"
      ]
     },
     "execution_count": 10,
     "metadata": {},
     "output_type": "execute_result"
    }
   ],
   "source": [
    "dog.name\n",
    "\n",
    "self\n",
    "\n"
   ]
  },
  {
   "cell_type": "code",
   "execution_count": 9,
   "id": "eaaf5fe0",
   "metadata": {},
   "outputs": [
    {
     "data": {
      "text/plain": [
       "'fluffy'"
      ]
     },
     "execution_count": 9,
     "metadata": {},
     "output_type": "execute_result"
    }
   ],
   "source": [
    "cat.name"
   ]
  },
  {
   "cell_type": "code",
   "execution_count": 3,
   "id": "68c58222",
   "metadata": {},
   "outputs": [
    {
     "name": "stdout",
     "output_type": "stream",
     "text": [
      "the values of a is  10  and the value of b is  20\n",
      "the value of a is 10 and the value of b is 20\n"
     ]
    }
   ],
   "source": [
    "# F string\n",
    "\n",
    "a=10\n",
    "b=20\n",
    "\n",
    "print(\"the values of a is \",a,\" and the value of b is \",b)\n",
    "\n",
    "print(f\"the value of a is {a} and the value of b is {b}\")"
   ]
  },
  {
   "cell_type": "code",
   "execution_count": null,
   "id": "14fbfbcb",
   "metadata": {},
   "outputs": [],
   "source": [
    "# #\n",
    "\n",
    "# class->blueprint of the object\n",
    "# object--> instance of the class\n",
    "\n",
    "#__init__ -> constructor of the class\n",
    "#--> it get called automatically when you create a new object from the class\n",
    "#--> it is used to set up the initial state or attributed of the object\n",
    "\n",
    "#self -> it is the refernece to the object\n",
    "\n",
    "\n",
    "\n"
   ]
  },
  {
   "cell_type": "code",
   "execution_count": 29,
   "id": "fca6fda5",
   "metadata": {},
   "outputs": [],
   "source": [
    "class person:\n",
    "    def __init__(self,name,age,gender):  #person1 = person(\"suraj\",28,'M')\n",
    "        self.name = name#person1.name='suraj'                 # self   = person(name,age,gender)\n",
    "        self.age = age#perosn1.age=28\n",
    "        self.gender = gender#person1.gender='m'\n",
    "        \n",
    "    def intro(self):\n",
    "        print(f\"my name is {self.name}, and i am {self.age} years old\")"
   ]
  },
  {
   "cell_type": "code",
   "execution_count": 30,
   "id": "76962ad3",
   "metadata": {},
   "outputs": [],
   "source": [
    "person1 = person(\"suraj\",28,'M')"
   ]
  },
  {
   "cell_type": "code",
   "execution_count": 31,
   "id": "1b28dea4",
   "metadata": {},
   "outputs": [
    {
     "data": {
      "text/plain": [
       "'suraj'"
      ]
     },
     "execution_count": 31,
     "metadata": {},
     "output_type": "execute_result"
    }
   ],
   "source": [
    "person1.name\n",
    "#self\n"
   ]
  },
  {
   "cell_type": "code",
   "execution_count": 32,
   "id": "03db0698",
   "metadata": {},
   "outputs": [],
   "source": [
    "person2 = person(\"raj\",38,'M')"
   ]
  },
  {
   "cell_type": "code",
   "execution_count": 33,
   "id": "04e87b56",
   "metadata": {},
   "outputs": [
    {
     "data": {
      "text/plain": [
       "'suraj'"
      ]
     },
     "execution_count": 33,
     "metadata": {},
     "output_type": "execute_result"
    }
   ],
   "source": [
    "person1.name"
   ]
  },
  {
   "cell_type": "code",
   "execution_count": 34,
   "id": "60c55be5",
   "metadata": {},
   "outputs": [
    {
     "data": {
      "text/plain": [
       "'raj'"
      ]
     },
     "execution_count": 34,
     "metadata": {},
     "output_type": "execute_result"
    }
   ],
   "source": [
    "person2.name"
   ]
  },
  {
   "cell_type": "code",
   "execution_count": 35,
   "id": "86fc412c",
   "metadata": {},
   "outputs": [
    {
     "name": "stdout",
     "output_type": "stream",
     "text": [
      "my name is suraj, and i am 28 years old\n"
     ]
    }
   ],
   "source": [
    "person1.intro()"
   ]
  },
  {
   "cell_type": "code",
   "execution_count": 36,
   "id": "29da9a98",
   "metadata": {},
   "outputs": [
    {
     "name": "stdout",
     "output_type": "stream",
     "text": [
      "my name is raj, and i am 38 years old\n"
     ]
    }
   ],
   "source": [
    "person2.intro()"
   ]
  },
  {
   "cell_type": "code",
   "execution_count": 37,
   "id": "57ef6a3b",
   "metadata": {},
   "outputs": [],
   "source": [
    "# #4 pillar of oops\n",
    "\n",
    "# 1 inheritance\n",
    "# 2 polymorphism\n",
    "# 3 encapsulation\n",
    "# 4 abstraction"
   ]
  },
  {
   "cell_type": "code",
   "execution_count": 38,
   "id": "737f1197",
   "metadata": {},
   "outputs": [],
   "source": [
    "#inheritance: -->\n",
    "# 1- single inheritance\n",
    "# 2- multiple inheritance\n",
    "# 3 multilevel inheritance\n",
    "# 4 hierarchical inheritance\n",
    "# 5 hybrid inheritance\n"
   ]
  },
  {
   "cell_type": "code",
   "execution_count": 44,
   "id": "567febf6",
   "metadata": {},
   "outputs": [],
   "source": [
    "class person: #parent class\n",
    "    def __init__(self,name,age,gender):\n",
    "        self.name = name\n",
    "        self.age = age\n",
    "        self.gender = gender\n",
    "        \n",
    "    def greet(self):\n",
    "        print(f\"hello!! my name is {self.name} and my age is {self.age}\")\n",
    "        \n",
    "class player(person): #child\n",
    "    def __init__(self,name,age,gender,game):\n",
    "        self.name = name\n",
    "        self.age = age\n",
    "        self.gender = gender\n",
    "        self.game = game\n",
    "        \n",
    "    def playerdetails(self):#self we have written so that i can refer that for which object we are calling this function\n",
    "        print(f\"player name is {self.name} and age is {self.age}{self.gender} and he plays {self.game}\")"
   ]
  },
  {
   "cell_type": "code",
   "execution_count": 45,
   "id": "7cbca922",
   "metadata": {},
   "outputs": [],
   "source": [
    "person1 = person(\"anil\",24,'M')\n",
    "player1 = player(\"sammar\",25,'M','cricket')"
   ]
  },
  {
   "cell_type": "code",
   "execution_count": 46,
   "id": "8e76ae3c",
   "metadata": {},
   "outputs": [
    {
     "data": {
      "text/plain": [
       "'anil'"
      ]
     },
     "execution_count": 46,
     "metadata": {},
     "output_type": "execute_result"
    }
   ],
   "source": [
    "person1.name"
   ]
  },
  {
   "cell_type": "code",
   "execution_count": 47,
   "id": "228b3e5a",
   "metadata": {},
   "outputs": [
    {
     "data": {
      "text/plain": [
       "'sammar'"
      ]
     },
     "execution_count": 47,
     "metadata": {},
     "output_type": "execute_result"
    }
   ],
   "source": [
    "player1.name"
   ]
  },
  {
   "cell_type": "code",
   "execution_count": 48,
   "id": "681f24c1",
   "metadata": {},
   "outputs": [
    {
     "name": "stdout",
     "output_type": "stream",
     "text": [
      "hello!! my name is anil and my age is 24\n"
     ]
    }
   ],
   "source": [
    "person1.greet()"
   ]
  },
  {
   "cell_type": "code",
   "execution_count": 50,
   "id": "52a748bc",
   "metadata": {},
   "outputs": [
    {
     "name": "stdout",
     "output_type": "stream",
     "text": [
      "hello!! my name is sammar and my age is 25\n"
     ]
    }
   ],
   "source": [
    "player1.greet()"
   ]
  },
  {
   "cell_type": "code",
   "execution_count": 51,
   "id": "52520ea4",
   "metadata": {},
   "outputs": [
    {
     "ename": "AttributeError",
     "evalue": "'person' object has no attribute 'playerdetails'",
     "output_type": "error",
     "traceback": [
      "\u001b[1;31m---------------------------------------------------------------------------\u001b[0m",
      "\u001b[1;31mAttributeError\u001b[0m                            Traceback (most recent call last)",
      "Input \u001b[1;32mIn [51]\u001b[0m, in \u001b[0;36m<cell line: 1>\u001b[1;34m()\u001b[0m\n\u001b[1;32m----> 1\u001b[0m \u001b[43mperson1\u001b[49m\u001b[38;5;241;43m.\u001b[39;49m\u001b[43mplayerdetails\u001b[49m()\n",
      "\u001b[1;31mAttributeError\u001b[0m: 'person' object has no attribute 'playerdetails'"
     ]
    }
   ],
   "source": [
    "person1.playerdetails()"
   ]
  },
  {
   "cell_type": "code",
   "execution_count": 62,
   "id": "208c7d75",
   "metadata": {},
   "outputs": [],
   "source": [
    "#multiple inheritance 2 parent class and 1 child class\n",
    "\n",
    "# person\n",
    "# player\n",
    "# playerstudent\n",
    "\n",
    "class person: #parent class 1\n",
    "    def __init__(self,name,age,gender):\n",
    "        self.name = name\n",
    "        self.age = age\n",
    "        self.gender = gender\n",
    "        \n",
    "    def greet(self):\n",
    "        print(f\"hello!! my name is {self.name} and my age is {self.age}\")\n",
    "        \n",
    "class player: #parent class2\n",
    "    def __init__(self,name,age,gender,game):\n",
    "        self.name = name\n",
    "        self.age = age\n",
    "        self.gender = gender\n",
    "        self.game = game\n",
    "        \n",
    "    def playerdetails(self):#self we have written so that i can refer that for which object we are calling this function\n",
    "        print(f\"player name is {self.name} and age is {self.age}{self.gender} and he plays {self.game}\")\n",
    "    \n",
    "class playerstu(player,person):\n",
    "    def __init__(self,name,age,gender,game,sclass,srollno):\n",
    "        self.name = name\n",
    "        self.age = age\n",
    "        self.gender = gender\n",
    "        self.game = game\n",
    "        self.sclass = sclass\n",
    "        self.srollno = srollno\n",
    "        \n",
    "    def student_details(self):\n",
    "        print(f\"student name is  {self.name} and age is {self.age} and study in {self.sclass} and plays {self.game} for school\")\n",
    "        \n"
   ]
  },
  {
   "cell_type": "code",
   "execution_count": 63,
   "id": "de54655b",
   "metadata": {},
   "outputs": [],
   "source": [
    "p1 = playerstu('suraj',16,'m','cricket',11,22)\n",
    "\n",
    "per1 = person('anil',34,'m')"
   ]
  },
  {
   "cell_type": "code",
   "execution_count": 64,
   "id": "51cfad14",
   "metadata": {},
   "outputs": [
    {
     "data": {
      "text/plain": [
       "'suraj'"
      ]
     },
     "execution_count": 64,
     "metadata": {},
     "output_type": "execute_result"
    }
   ],
   "source": [
    "p1.name"
   ]
  },
  {
   "cell_type": "code",
   "execution_count": 65,
   "id": "bdf140d6",
   "metadata": {},
   "outputs": [
    {
     "name": "stdout",
     "output_type": "stream",
     "text": [
      "hello!! my name is suraj and my age is 16\n"
     ]
    }
   ],
   "source": [
    "p1.greet()"
   ]
  },
  {
   "cell_type": "code",
   "execution_count": 66,
   "id": "fabc306c",
   "metadata": {},
   "outputs": [
    {
     "name": "stdout",
     "output_type": "stream",
     "text": [
      "player name is suraj and age is 16m and he plays cricket\n"
     ]
    }
   ],
   "source": [
    "p1.playerdetails()"
   ]
  },
  {
   "cell_type": "code",
   "execution_count": 67,
   "id": "f081f2c5",
   "metadata": {},
   "outputs": [
    {
     "name": "stdout",
     "output_type": "stream",
     "text": [
      "student name is  suraj and age is 16 and study in 11 and plays cricket for school\n"
     ]
    }
   ],
   "source": [
    "p1.student_details()"
   ]
  },
  {
   "cell_type": "code",
   "execution_count": 68,
   "id": "879db566",
   "metadata": {},
   "outputs": [
    {
     "name": "stdout",
     "output_type": "stream",
     "text": [
      "hello!! my name is anil and my age is 34\n"
     ]
    }
   ],
   "source": [
    "per1.greet()"
   ]
  },
  {
   "cell_type": "code",
   "execution_count": 69,
   "id": "3179543b",
   "metadata": {},
   "outputs": [
    {
     "ename": "AttributeError",
     "evalue": "'person' object has no attribute 'playerdetails'",
     "output_type": "error",
     "traceback": [
      "\u001b[1;31m---------------------------------------------------------------------------\u001b[0m",
      "\u001b[1;31mAttributeError\u001b[0m                            Traceback (most recent call last)",
      "Input \u001b[1;32mIn [69]\u001b[0m, in \u001b[0;36m<cell line: 1>\u001b[1;34m()\u001b[0m\n\u001b[1;32m----> 1\u001b[0m \u001b[43mper1\u001b[49m\u001b[38;5;241;43m.\u001b[39;49m\u001b[43mplayerdetails\u001b[49m()\n",
      "\u001b[1;31mAttributeError\u001b[0m: 'person' object has no attribute 'playerdetails'"
     ]
    }
   ],
   "source": [
    "per1.playerdetails()"
   ]
  },
  {
   "cell_type": "code",
   "execution_count": null,
   "id": "fa4656f0",
   "metadata": {},
   "outputs": [],
   "source": [
    "#multilevel inheritance"
   ]
  },
  {
   "cell_type": "code",
   "execution_count": 1,
   "id": "135c859c",
   "metadata": {},
   "outputs": [],
   "source": [
    "#multiple inheritance 2 parent class and 1 child class\n",
    "\n",
    "# person\n",
    "# player\n",
    "# playerstudent\n",
    "\n",
    "class person: #grandparent\n",
    "    def __init__(self,name,age,gender):\n",
    "        self.name = name\n",
    "        self.age = age\n",
    "        self.gender = gender\n",
    "        \n",
    "    def greet(self):\n",
    "        print(f\"hello!! my name is {self.name} and my age is {self.age}\")\n",
    "        \n",
    "class player(person): #parent\n",
    "    def __init__(self,name,age,gender,game):\n",
    "        self.name = name\n",
    "        self.age = age\n",
    "        self.gender = gender\n",
    "        self.game = game\n",
    "        \n",
    "    def playerdetails(self):#self we have written so that i can refer that for which object we are calling this function\n",
    "        print(f\"player name is {self.name} and age is {self.age}{self.gender} and he plays {self.game}\")\n",
    "    \n",
    "class playerstu(player): #child\n",
    "    def __init__(self,name,age,gender,game,sclass,srollno):\n",
    "        self.name = name\n",
    "        self.age = age\n",
    "        self.gender = gender\n",
    "        self.game = game\n",
    "        self.sclass = sclass\n",
    "        self.srollno = srollno\n",
    "        \n",
    "    def student_details(self):\n",
    "        print(f\"student name is  {self.name} and age is {self.age} and study in {self.sclass} and plays {self.game} for school\")\n",
    "        \n"
   ]
  },
  {
   "cell_type": "code",
   "execution_count": 2,
   "id": "cf774334",
   "metadata": {},
   "outputs": [],
   "source": [
    "\n",
    "per1 = person('anil',34,'m')  grandparent\n",
    "\n",
    "play1 =player('raj',16,'m','cricket')  parent\n",
    "\n",
    "ps1 = playerstu('suraj',16,'m','cricket',11,22)   child\n"
   ]
  },
  {
   "cell_type": "code",
   "execution_count": 3,
   "id": "e0bc7791",
   "metadata": {},
   "outputs": [
    {
     "name": "stdout",
     "output_type": "stream",
     "text": [
      "hello!! my name is suraj and my age is 16\n",
      "None\n",
      "player name is suraj and age is 16m and he plays cricket\n",
      "None\n",
      "student name is  suraj and age is 16 and study in 11 and plays cricket for school\n",
      "None\n"
     ]
    }
   ],
   "source": [
    "print(ps1.greet())\n",
    "print(ps1.playerdetails())\n",
    "print(ps1.student_details())"
   ]
  },
  {
   "cell_type": "code",
   "execution_count": 4,
   "id": "0cfd7039",
   "metadata": {},
   "outputs": [
    {
     "name": "stdout",
     "output_type": "stream",
     "text": [
      "hello!! my name is anil and my age is 34\n",
      "None\n"
     ]
    },
    {
     "ename": "AttributeError",
     "evalue": "'person' object has no attribute 'playerdetails'",
     "output_type": "error",
     "traceback": [
      "\u001b[1;31m---------------------------------------------------------------------------\u001b[0m",
      "\u001b[1;31mAttributeError\u001b[0m                            Traceback (most recent call last)",
      "Input \u001b[1;32mIn [4]\u001b[0m, in \u001b[0;36m<cell line: 2>\u001b[1;34m()\u001b[0m\n\u001b[0;32m      1\u001b[0m \u001b[38;5;28mprint\u001b[39m(per1\u001b[38;5;241m.\u001b[39mgreet())\n\u001b[1;32m----> 2\u001b[0m \u001b[38;5;28mprint\u001b[39m(\u001b[43mper1\u001b[49m\u001b[38;5;241;43m.\u001b[39;49m\u001b[43mplayerdetails\u001b[49m())\n\u001b[0;32m      3\u001b[0m \u001b[38;5;28mprint\u001b[39m(per1\u001b[38;5;241m.\u001b[39mstudent_details())\n",
      "\u001b[1;31mAttributeError\u001b[0m: 'person' object has no attribute 'playerdetails'"
     ]
    }
   ],
   "source": [
    "print(per1.greet())\n",
    "print(per1.playerdetails())\n",
    "print(per1.student_details())"
   ]
  },
  {
   "cell_type": "code",
   "execution_count": 5,
   "id": "abc22295",
   "metadata": {},
   "outputs": [
    {
     "name": "stdout",
     "output_type": "stream",
     "text": [
      "hello!! my name is raj and my age is 16\n",
      "None\n",
      "player name is raj and age is 16m and he plays cricket\n",
      "None\n"
     ]
    },
    {
     "ename": "AttributeError",
     "evalue": "'player' object has no attribute 'student_details'",
     "output_type": "error",
     "traceback": [
      "\u001b[1;31m---------------------------------------------------------------------------\u001b[0m",
      "\u001b[1;31mAttributeError\u001b[0m                            Traceback (most recent call last)",
      "Input \u001b[1;32mIn [5]\u001b[0m, in \u001b[0;36m<cell line: 3>\u001b[1;34m()\u001b[0m\n\u001b[0;32m      1\u001b[0m \u001b[38;5;28mprint\u001b[39m(play1\u001b[38;5;241m.\u001b[39mgreet())\n\u001b[0;32m      2\u001b[0m \u001b[38;5;28mprint\u001b[39m(play1\u001b[38;5;241m.\u001b[39mplayerdetails())\n\u001b[1;32m----> 3\u001b[0m \u001b[38;5;28mprint\u001b[39m(\u001b[43mplay1\u001b[49m\u001b[38;5;241;43m.\u001b[39;49m\u001b[43mstudent_details\u001b[49m())\n",
      "\u001b[1;31mAttributeError\u001b[0m: 'player' object has no attribute 'student_details'"
     ]
    }
   ],
   "source": [
    "print(play1.greet())\n",
    "print(play1.playerdetails())\n",
    "print(play1.student_details())"
   ]
  },
  {
   "cell_type": "code",
   "execution_count": null,
   "id": "80792ec3",
   "metadata": {},
   "outputs": [],
   "source": [
    "Question:\n",
    "\n",
    "Imagine you are designing a system to represent different types of vehicles. Define three classes: Vehicle, Car, and ElectricCar, following the specifications given below. Then, create an instance of ElectricCar and demonstrate how to access its attributes and methods.\n",
    "\n",
    "Specifications:\n",
    "\n",
    "    Vehicle Class:\n",
    "        Attributes: name, color, mileage\n",
    "        Methods:\n",
    "            get_name(): returns the name of the vehicle.\n",
    "            get_color(): returns the color of the vehicle.\n",
    "            get_mileage(): returns the mileage of the vehicle.\n",
    "\n",
    "    Car Class (inherits from Vehicle):\n",
    "        Additional Attributes: name, color, mileage,num_doors, fuel_type\n",
    "        Methods:\n",
    "            get_num_doors(): returns the number of doors.\n",
    "            get_fuel_type(): returns the fuel type.\n",
    "\n",
    "    ElectricCar Class (inherits from Car):\n",
    "        Additional Attribute: name, color, mileage,num_doors, fuel_type,battery_capacity\n",
    "        Methods:\n",
    "            get_battery_capacity(): returns the battery capacity."
   ]
  },
  {
   "cell_type": "code",
   "execution_count": 13,
   "id": "da364a86",
   "metadata": {},
   "outputs": [],
   "source": [
    "class vehicle:\n",
    "    def __init__ (self,name, color, mileage):\n",
    "        self.name = name\n",
    "        self.color = color\n",
    "        self.mileage=mileage\n",
    "        \n",
    "    def get_name(self):\n",
    "        return self.name\n",
    "    \n",
    "    def get_color(self):\n",
    "        return self.color\n",
    "    \n",
    "    def get_mileage(self):\n",
    "        return self.mileage\n",
    "    \n",
    "    \n",
    "class car(vehicle):\n",
    "    \n",
    "    def __init__(self,name, color, mileage,num_doors, fuel_type):\n",
    "        self.name = name\n",
    "        self.color = color\n",
    "        self.mileage=mileage\n",
    "        self.num_doors = num_doors\n",
    "        self.fuel_type = fuel_type\n",
    "        \n",
    "    def get_num_doors(self):\n",
    "        return self.num_doors\n",
    "    \n",
    "    def get_fuel_type(self):\n",
    "        return self.fuel_type\n",
    "    \n",
    "class electriccar(car):\n",
    "    \n",
    "        def __init__(self,name, color, mileage,num_doors, fuel_type,battery_capacity):\n",
    "            self.name = name\n",
    "            self.color = color\n",
    "            self.mileage=mileage\n",
    "            self.num_doors = num_doors\n",
    "            self.fuel_type = fuel_type\n",
    "            self.battery_capacity = battery_capacity\n",
    "        \n",
    "        def get_battery_capacity(self):\n",
    "            return battery_capacity\n",
    "        \n",
    "    \n",
    "        \n",
    "    \n",
    "    "
   ]
  },
  {
   "cell_type": "code",
   "execution_count": 14,
   "id": "84924ede",
   "metadata": {},
   "outputs": [],
   "source": [
    "\n",
    "tesla = electriccar('tesla model S','black',1000,4,'battery',10000)"
   ]
  },
  {
   "cell_type": "code",
   "execution_count": 15,
   "id": "5eecaf9b",
   "metadata": {},
   "outputs": [
    {
     "data": {
      "text/plain": [
       "'tesla model S'"
      ]
     },
     "execution_count": 15,
     "metadata": {},
     "output_type": "execute_result"
    }
   ],
   "source": [
    "tesla.get_name()"
   ]
  },
  {
   "cell_type": "code",
   "execution_count": 16,
   "id": "f818bd6b",
   "metadata": {},
   "outputs": [
    {
     "data": {
      "text/plain": [
       "'black'"
      ]
     },
     "execution_count": 16,
     "metadata": {},
     "output_type": "execute_result"
    }
   ],
   "source": [
    "tesla.get_color()"
   ]
  },
  {
   "cell_type": "code",
   "execution_count": 17,
   "id": "6265ed3a",
   "metadata": {},
   "outputs": [
    {
     "data": {
      "text/plain": [
       "'battery'"
      ]
     },
     "execution_count": 17,
     "metadata": {},
     "output_type": "execute_result"
    }
   ],
   "source": [
    "tesla.get_fuel_type()"
   ]
  },
  {
   "cell_type": "code",
   "execution_count": 18,
   "id": "34116c00",
   "metadata": {},
   "outputs": [],
   "source": [
    "#we will be starting the session by 8:06 let everyone join the session"
   ]
  },
  {
   "cell_type": "code",
   "execution_count": null,
   "id": "19e4a5c1",
   "metadata": {},
   "outputs": [],
   "source": [
    "super()"
   ]
  },
  {
   "cell_type": "code",
   "execution_count": 21,
   "id": "732022cb",
   "metadata": {},
   "outputs": [],
   "source": [
    "class vehicle:\n",
    "    def __init__ (self,name, color, mileage):\n",
    "        self.name = name\n",
    "        self.color = color\n",
    "        self.mileage=mileage\n",
    "        \n",
    "    def get_name(self):\n",
    "        return self.name\n",
    "    \n",
    "    def get_color(self):\n",
    "        return self.color\n",
    "    \n",
    "    def get_mileage(self):\n",
    "        return self.mileage\n",
    "    \n",
    "class car(vehicle):\n",
    "    def __init__(self,name, color, mileage,num_doors, fuel_type):\n",
    "        super().__init__(name,color,mileage)\n",
    "        self.num_doors = num_doors\n",
    "        self.fuel_type = fuel_type\n",
    "        \n",
    "    def get_num_doors(self):\n",
    "        return self.num_doors\n",
    "    \n",
    "    def get_fuel_type(self):\n",
    "        return self.fuel_type\n",
    "    \n",
    "class Electriccar(car):\n",
    "    def __init__(self,name, color, mileage,num_doors, fuel_type,battery_capacity):\n",
    "        super().__init__(name,color,mileage,num_doors,fuel_type)\n",
    "        self.battery_capacity=battery_capacity\n",
    "        \n",
    "    def get_battery_capacity(self):\n",
    "        return self.battery_capacity\n",
    "    \n",
    "\n",
    "        \n",
    "    \n",
    "    \n"
   ]
  },
  {
   "cell_type": "code",
   "execution_count": 22,
   "id": "78b72fd2",
   "metadata": {},
   "outputs": [],
   "source": [
    "tesla1 =Electriccar('tesla model S','black',1000,4,'battery',10000)"
   ]
  },
  {
   "cell_type": "code",
   "execution_count": 23,
   "id": "d9e67392",
   "metadata": {},
   "outputs": [
    {
     "data": {
      "text/plain": [
       "'tesla model S'"
      ]
     },
     "execution_count": 23,
     "metadata": {},
     "output_type": "execute_result"
    }
   ],
   "source": [
    "tesla1.name"
   ]
  },
  {
   "cell_type": "code",
   "execution_count": 24,
   "id": "c74e760f",
   "metadata": {},
   "outputs": [],
   "source": [
    "#hierarhical inheritance:- single parent class but multiple child class"
   ]
  },
  {
   "cell_type": "code",
   "execution_count": 25,
   "id": "89470034",
   "metadata": {},
   "outputs": [],
   "source": [
    "class Animal: #parent\n",
    "    def __init__(self,name,species):\n",
    "        self.name = name\n",
    "        self.species = species\n",
    "        \n",
    "    def speak(self):\n",
    "        print('i am an animal')\n",
    "        \n",
    "        \n",
    "class dog(Animal):\n",
    "    def __init__(self,name,breed):\n",
    "        super().__init__(name,species = 'dog')\n",
    "        self.breed = breed\n",
    "        \n",
    "    def dog_details(self):\n",
    "        print(f\"my name is {self.name} and i am a {self.species}\")\n",
    "\n",
    "class cat(Animal):\n",
    "    def __init__(self,name,color):\n",
    "        super().__init__(name,species = 'cat')\n",
    "        self.color=color\n",
    "        \n",
    "    def cat_details(self):\n",
    "        print(f\"my name is {self.name} and i am a {self.species}\")\n"
   ]
  },
  {
   "cell_type": "code",
   "execution_count": 26,
   "id": "3fd4d86c",
   "metadata": {},
   "outputs": [],
   "source": [
    "my_dog = dog(\"buddy\",\"golden retriever\")\n",
    "my_cat = cat(\"fluffy\",'white')"
   ]
  },
  {
   "cell_type": "code",
   "execution_count": 27,
   "id": "8d2a2cbd",
   "metadata": {},
   "outputs": [
    {
     "data": {
      "text/plain": [
       "'buddy'"
      ]
     },
     "execution_count": 27,
     "metadata": {},
     "output_type": "execute_result"
    }
   ],
   "source": [
    "my_dog.name"
   ]
  },
  {
   "cell_type": "code",
   "execution_count": 29,
   "id": "4ddd1258",
   "metadata": {},
   "outputs": [
    {
     "name": "stdout",
     "output_type": "stream",
     "text": [
      "my name is buddy and i am a dog\n"
     ]
    }
   ],
   "source": [
    "my_dog.dog_details()"
   ]
  },
  {
   "cell_type": "code",
   "execution_count": 30,
   "id": "be20990a",
   "metadata": {},
   "outputs": [
    {
     "name": "stdout",
     "output_type": "stream",
     "text": [
      "i am an animal\n"
     ]
    }
   ],
   "source": [
    "my_dog.speak()"
   ]
  },
  {
   "cell_type": "code",
   "execution_count": 31,
   "id": "2e205bc1",
   "metadata": {},
   "outputs": [
    {
     "data": {
      "text/plain": [
       "'dog'"
      ]
     },
     "execution_count": 31,
     "metadata": {},
     "output_type": "execute_result"
    }
   ],
   "source": [
    "my_dog.species"
   ]
  },
  {
   "cell_type": "markdown",
   "id": "fa2e791a",
   "metadata": {},
   "source": [
    "You are tasked with designing a system to manage different types of employees. Implement two classes, Employee and two subclasses HourlyEmployee and SalariedEmployee, following the specifications below. Then, create instances of both subclasses and demonstrate how to access their attributes and methods.\n",
    "\n",
    "Specifications:\n",
    "\n",
    "    Employee Class:\n",
    "        Attributes: name, address, employee_id\n",
    "        Methods:\n",
    "            get_name(): returns the name of the employee.\n",
    "            get_address(): returns the address of the employee.\n",
    "            get_employee_id(): returns the employee ID.\n",
    "\n",
    "    HourlyEmployee Class (inherits from Employee):\n",
    "        Additional Attribute: hourly_wage\n",
    "        Methods:\n",
    "            get_hourly_wage(): returns the hourly wage.\n",
    "\n",
    "    SalariedEmployee Class (inherits from Employee):\n",
    "        Additional Attribute: annual_salary\n",
    "        Methods:\n",
    "            get_annual_salary(): returns the annual salary."
   ]
  },
  {
   "cell_type": "code",
   "execution_count": 34,
   "id": "deab0bbd",
   "metadata": {},
   "outputs": [],
   "source": [
    "class employee:\n",
    "    \n",
    "    def __init__(self,name, address, employee_id):\n",
    "        self.name = name\n",
    "        self.address = address\n",
    "        self.employee_id= employee_id\n",
    "\n",
    "    def get_name(self):\n",
    "        return self.name\n",
    "    \n",
    "    def get_address(self):\n",
    "        return self.address\n",
    "    \n",
    "    def get_employee_id(self):\n",
    "        return self.employee_id\n",
    "    \n",
    "class hourlyemployee(employee):\n",
    "    \n",
    "    def __init__(self,name, address, employee_id,hourly_wage):\n",
    "        super().__init__(name, address, employee_id)\n",
    "        self.hourly_wage = hourly_wage\n",
    "        \n",
    "        \n",
    "    def get_hourly_wage(self):\n",
    "        return self.hourly_wage\n",
    "    \n",
    "    \n",
    "class salariedemployee(employee):\n",
    "    def __init__(self,name, address, employee_id,annual_salary):\n",
    "        super().__init__(name, address, employee_id)\n",
    "        self.annual_salary=annual_salary\n",
    "        \n",
    "    def get_annual_Salary(self):\n",
    "        return self.annual_Salary\n",
    "    \n",
    "\n",
    "        \n",
    "    "
   ]
  },
  {
   "cell_type": "code",
   "execution_count": 35,
   "id": "d6733273",
   "metadata": {},
   "outputs": [],
   "source": [
    "hourly_employee =hourlyemployee(\"suraj\",'asdf',3245,2000)\n",
    "salaried_employee = salariedemployee('divya','wert',234,1200000)"
   ]
  },
  {
   "cell_type": "code",
   "execution_count": 36,
   "id": "9ed6b1a1",
   "metadata": {},
   "outputs": [
    {
     "data": {
      "text/plain": [
       "'suraj'"
      ]
     },
     "execution_count": 36,
     "metadata": {},
     "output_type": "execute_result"
    }
   ],
   "source": [
    "hourly_employee.name"
   ]
  },
  {
   "cell_type": "code",
   "execution_count": 37,
   "id": "82d8a16f",
   "metadata": {},
   "outputs": [
    {
     "data": {
      "text/plain": [
       "'asdf'"
      ]
     },
     "execution_count": 37,
     "metadata": {},
     "output_type": "execute_result"
    }
   ],
   "source": [
    "hourly_employee.get_address()"
   ]
  },
  {
   "cell_type": "code",
   "execution_count": 39,
   "id": "de07e3f5",
   "metadata": {},
   "outputs": [],
   "source": [
    "class employee:\n",
    "    \n",
    "    def __init__(self,name, address, employee_id):\n",
    "        self.name = name\n",
    "        self.address = address\n",
    "        self.employee_id= employee_id\n",
    "\n",
    "    def get_name(self):\n",
    "        print(f\"my name is {self.name}\")\n",
    "    \n",
    "    def get_address(self):\n",
    "        return self.address\n",
    "    \n",
    "    def get_employee_id(self):\n",
    "        return self.employee_id\n",
    "    \n",
    "class hourlyemployee(employee):\n",
    "    \n",
    "    def __init__(self,name, address, employee_id,hourly_wage):\n",
    "        super().__init__(name, address, employee_id)\n",
    "        self.hourly_wage = hourly_wage\n",
    "        \n",
    "        \n",
    "    def get_hourly_wage(self):\n",
    "        return self.hourly_wage\n",
    "    \n",
    "    \n",
    "class salariedemployee(employee):\n",
    "    def __init__(self,name, address, employee_id,annual_salary):\n",
    "        super().__init__(name, address, employee_id)\n",
    "        self.annual_salary=annual_salary\n",
    "        \n",
    "    def get_annual_Salary(self):\n",
    "        return self.annual_Salary\n",
    "    \n",
    "\n",
    "        \n",
    "    "
   ]
  },
  {
   "cell_type": "code",
   "execution_count": 40,
   "id": "eb6d560a",
   "metadata": {},
   "outputs": [],
   "source": [
    "salaried_employee = salariedemployee('divya','wert',234,1200000)"
   ]
  },
  {
   "cell_type": "code",
   "execution_count": 41,
   "id": "32afae2d",
   "metadata": {
    "scrolled": true
   },
   "outputs": [
    {
     "name": "stdout",
     "output_type": "stream",
     "text": [
      "my name is divya\n"
     ]
    }
   ],
   "source": [
    "salaried_employee.get_name()"
   ]
  },
  {
   "cell_type": "code",
   "execution_count": 42,
   "id": "d384bd76",
   "metadata": {},
   "outputs": [
    {
     "data": {
      "text/plain": [
       "'wert'"
      ]
     },
     "execution_count": 42,
     "metadata": {},
     "output_type": "execute_result"
    }
   ],
   "source": [
    "salaried_employee.get_address()"
   ]
  },
  {
   "cell_type": "code",
   "execution_count": 49,
   "id": "64b7f479",
   "metadata": {},
   "outputs": [
    {
     "name": "stdout",
     "output_type": "stream",
     "text": [
      "my name is divya\n"
     ]
    }
   ],
   "source": [
    "objectname = salaried_employee.get_name()"
   ]
  },
  {
   "cell_type": "code",
   "execution_count": 50,
   "id": "1e0bfc30",
   "metadata": {},
   "outputs": [],
   "source": [
    "objectname"
   ]
  },
  {
   "cell_type": "code",
   "execution_count": 52,
   "id": "30ba6783",
   "metadata": {},
   "outputs": [],
   "source": [
    "objectname1 = salaried_employee.get_address()"
   ]
  },
  {
   "cell_type": "code",
   "execution_count": 53,
   "id": "3e4f769c",
   "metadata": {},
   "outputs": [
    {
     "data": {
      "text/plain": [
       "'wert'"
      ]
     },
     "execution_count": 53,
     "metadata": {},
     "output_type": "execute_result"
    }
   ],
   "source": [
    "objectname1"
   ]
  },
  {
   "cell_type": "code",
   "execution_count": 54,
   "id": "ca9bad69",
   "metadata": {},
   "outputs": [],
   "source": [
    "#hybrid inheritance-> combination of multiple and hierarchical inheritance is known as hybrid inheritance\n",
    "\n",
    "\n",
    "class A:\n",
    "    def method_a(self):\n",
    "        print(\"method A from class A\")\n",
    "        \n",
    "class B(A):\n",
    "    def method_b(self):\n",
    "        print(\"method B from class B\")\n",
    "        \n",
    "class C(A):\n",
    "    def method_c(self):\n",
    "        print(\"method C from class C\")\n",
    "\n",
    "class D(B,C):\n",
    "    def method_d(self):\n",
    "        print(\"method D from class D\")\n",
    "    \n",
    "\n"
   ]
  },
  {
   "cell_type": "code",
   "execution_count": 55,
   "id": "25dffbee",
   "metadata": {},
   "outputs": [],
   "source": [
    "d_obj = D()"
   ]
  },
  {
   "cell_type": "code",
   "execution_count": 56,
   "id": "8d2c44f4",
   "metadata": {},
   "outputs": [
    {
     "name": "stdout",
     "output_type": "stream",
     "text": [
      "method A from class A\n"
     ]
    }
   ],
   "source": [
    "d_obj.method_a()"
   ]
  },
  {
   "cell_type": "code",
   "execution_count": 57,
   "id": "e7dee19e",
   "metadata": {},
   "outputs": [
    {
     "name": "stdout",
     "output_type": "stream",
     "text": [
      "method B from class B\n"
     ]
    }
   ],
   "source": [
    "d_obj.method_b()"
   ]
  },
  {
   "cell_type": "code",
   "execution_count": 58,
   "id": "5af12a9d",
   "metadata": {},
   "outputs": [
    {
     "name": "stdout",
     "output_type": "stream",
     "text": [
      "method C from class C\n"
     ]
    }
   ],
   "source": [
    "d_obj.method_c()"
   ]
  },
  {
   "cell_type": "code",
   "execution_count": 59,
   "id": "6dd663ea",
   "metadata": {},
   "outputs": [
    {
     "name": "stdout",
     "output_type": "stream",
     "text": [
      "method D from class D\n"
     ]
    }
   ],
   "source": [
    "d_obj.method_d()"
   ]
  },
  {
   "cell_type": "code",
   "execution_count": 60,
   "id": "0697403d",
   "metadata": {},
   "outputs": [],
   "source": [
    "# #\n",
    "# single inheritance-> 1 parent 1 child\n",
    "# multiple inheritance->2 parent 1 child\n",
    "# multilevel inheritance-> 1 gp 1 parent 1 child\n",
    "# hierarchical inheritance-> 1 parent multiple child\n",
    "# hybrid  inheritance-> combination of multiple and hierarchical inheritance\n"
   ]
  },
  {
   "cell_type": "code",
   "execution_count": 66,
   "id": "0356eb04",
   "metadata": {},
   "outputs": [
    {
     "name": "stdout",
     "output_type": "stream",
     "text": [
      "20\n",
      "suraj\n",
      "1\n",
      "True\n"
     ]
    }
   ],
   "source": [
    "#polymorphism\n",
    "\n",
    "# poly   +    morphism\n",
    "\n",
    "# many         forms\n",
    "\n",
    "a=10\n",
    "b=10\n",
    "print(a+b)\n",
    "print(\"suraj\")\n",
    "print(1)\n",
    "print(True)\n",
    "\n",
    "\n"
   ]
  },
  {
   "cell_type": "code",
   "execution_count": 70,
   "id": "92bf36b4",
   "metadata": {},
   "outputs": [],
   "source": [
    "class Animal:\n",
    "    def sound(self):\n",
    "        pass #pass is like a placeholder that will help you to place your future code\n",
    "    \n",
    "class dog(Animal):\n",
    "    def sound(self):\n",
    "        return('woof')\n",
    "    \n",
    "class cat(Animal):\n",
    "    def sound(self):\n",
    "        return('meow')\n",
    "    \n",
    "class cow(Animal):\n",
    "    def sound(self):\n",
    "        return('moo')\n",
    "    \n",
    "    "
   ]
  },
  {
   "cell_type": "code",
   "execution_count": 71,
   "id": "44b74807",
   "metadata": {},
   "outputs": [],
   "source": [
    "dog1 = dog()\n",
    "cat1= cat()\n",
    "cow1=cow()"
   ]
  },
  {
   "cell_type": "code",
   "execution_count": 72,
   "id": "a8c4dd6a",
   "metadata": {},
   "outputs": [
    {
     "data": {
      "text/plain": [
       "'woof'"
      ]
     },
     "execution_count": 72,
     "metadata": {},
     "output_type": "execute_result"
    }
   ],
   "source": [
    "dog1.sound()"
   ]
  },
  {
   "cell_type": "code",
   "execution_count": 73,
   "id": "386355dc",
   "metadata": {},
   "outputs": [
    {
     "data": {
      "text/plain": [
       "'meow'"
      ]
     },
     "execution_count": 73,
     "metadata": {},
     "output_type": "execute_result"
    }
   ],
   "source": [
    "cat1.sound()"
   ]
  },
  {
   "cell_type": "code",
   "execution_count": 74,
   "id": "fe78e885",
   "metadata": {},
   "outputs": [
    {
     "data": {
      "text/plain": [
       "'moo'"
      ]
     },
     "execution_count": 74,
     "metadata": {},
     "output_type": "execute_result"
    }
   ],
   "source": [
    "cow1.sound()"
   ]
  },
  {
   "cell_type": "code",
   "execution_count": 75,
   "id": "b40ed5b7",
   "metadata": {},
   "outputs": [],
   "source": [
    "# #encapsulation\n",
    "\n",
    "\n",
    "# # public attributes\n",
    "# # private attributes\n",
    "\n",
    "# function-> getters--> get the value of attributes and setters--> used to change the values of attributes\n"
   ]
  },
  {
   "cell_type": "code",
   "execution_count": 100,
   "id": "85c3c42e",
   "metadata": {},
   "outputs": [],
   "source": [
    "class person:\n",
    "    def __init__(self,name,age,gender):  #person1 = person(\"suraj\",28,'M')\n",
    "        self.name = name#public attribute                # self   = person(name,age,gender)\n",
    "        self.__age = age#private\n",
    "        self.gender = gender#person1.gender='m'\n",
    "        \n",
    "    def get_age(self):\n",
    "        print(f\" i am {self.__age} years old\")\n",
    "        \n",
    "        \n",
    "    def set_age(self,newage):  #person1.set_age(24)\n",
    "        self.__age=newage      # self.set_age(newage)"
   ]
  },
  {
   "cell_type": "code",
   "execution_count": 101,
   "id": "334ff2e1",
   "metadata": {},
   "outputs": [],
   "source": [
    "person1 = person(\"anil\",34,'M')"
   ]
  },
  {
   "cell_type": "code",
   "execution_count": 97,
   "id": "9f92de6f",
   "metadata": {},
   "outputs": [],
   "source": [
    "person1.name = 'suraj' #public attribute"
   ]
  },
  {
   "cell_type": "code",
   "execution_count": 98,
   "id": "cbeabf9f",
   "metadata": {},
   "outputs": [
    {
     "data": {
      "text/plain": [
       "'suraj'"
      ]
     },
     "execution_count": 98,
     "metadata": {},
     "output_type": "execute_result"
    }
   ],
   "source": [
    "person1.name"
   ]
  },
  {
   "cell_type": "code",
   "execution_count": 102,
   "id": "1dd49830",
   "metadata": {},
   "outputs": [
    {
     "ename": "AttributeError",
     "evalue": "'person' object has no attribute '__age'",
     "output_type": "error",
     "traceback": [
      "\u001b[1;31m---------------------------------------------------------------------------\u001b[0m",
      "\u001b[1;31mAttributeError\u001b[0m                            Traceback (most recent call last)",
      "Input \u001b[1;32mIn [102]\u001b[0m, in \u001b[0;36m<cell line: 1>\u001b[1;34m()\u001b[0m\n\u001b[1;32m----> 1\u001b[0m \u001b[43mperson1\u001b[49m\u001b[38;5;241;43m.\u001b[39;49m\u001b[43m__age\u001b[49m\n",
      "\u001b[1;31mAttributeError\u001b[0m: 'person' object has no attribute '__age'"
     ]
    }
   ],
   "source": [
    "person1.__age"
   ]
  },
  {
   "cell_type": "code",
   "execution_count": 103,
   "id": "7ff863d0",
   "metadata": {},
   "outputs": [
    {
     "name": "stdout",
     "output_type": "stream",
     "text": [
      " i am 34 years old\n"
     ]
    }
   ],
   "source": [
    "person1.get_age()"
   ]
  },
  {
   "cell_type": "code",
   "execution_count": 104,
   "id": "bf38ae31",
   "metadata": {},
   "outputs": [],
   "source": [
    "person1.set_age(24)"
   ]
  },
  {
   "cell_type": "code",
   "execution_count": 105,
   "id": "22aadee3",
   "metadata": {},
   "outputs": [
    {
     "name": "stdout",
     "output_type": "stream",
     "text": [
      " i am 24 years old\n"
     ]
    }
   ],
   "source": [
    "person1.get_age()"
   ]
  },
  {
   "cell_type": "code",
   "execution_count": 23,
   "id": "274eda0a",
   "metadata": {},
   "outputs": [],
   "source": [
    "class bankaccount:\n",
    "    def __init__(self,account_holder, balance = 0): #balance is having default value 0\n",
    "        self.__account_holder = account_holder\n",
    "        self.__balance = balance\n",
    "        \n",
    "    def get_account_holder(self):\n",
    "        return self.__account_holder\n",
    "    \n",
    "    def get_balance(self):\n",
    "        return self.__balance\n",
    "    \n",
    "    def deposit(self,amount):#setter -> because they are helping to change the value of balance as we can't chage it directly outside teh class\n",
    "        if amount>0:\n",
    "            self.__balance += amount #->self.__balance = self.__balance + amount\n",
    "            print(f\"Deposit of {amount} successfull. New Balance: {self.__balance}\")\n",
    "            \n",
    "        else:\n",
    "            print(\"Invalid deposit amount\")\n",
    "        \n",
    "    def withdraw(self,amount):#setter -> because they are helping to change the value of balance as we can't chage it directly outside teh class\n",
    "        if 0 < amount <= self.__balance:\n",
    "            self.__balance -= amount #->self.__balance = self.__balance - amount\n",
    "            print(f\"Withdrawal of {amount} is successfull. New balance is {self.__balance}\")\n",
    "            \n",
    "        else:\n",
    "            print(\"invalid withdrwaral amount or insufficient funds.\")\n",
    "    \n",
    "        "
   ]
  },
  {
   "cell_type": "code",
   "execution_count": 24,
   "id": "a54a2466",
   "metadata": {},
   "outputs": [],
   "source": [
    "my_account = bankaccount('Suraj')\n",
    "account2 = bankaccount('tarsame',45000)"
   ]
  },
  {
   "cell_type": "code",
   "execution_count": 25,
   "id": "af11dd56",
   "metadata": {},
   "outputs": [
    {
     "data": {
      "text/plain": [
       "0"
      ]
     },
     "execution_count": 25,
     "metadata": {},
     "output_type": "execute_result"
    }
   ],
   "source": [
    "my_account.get_balance()"
   ]
  },
  {
   "cell_type": "code",
   "execution_count": 33,
   "id": "403c928d",
   "metadata": {},
   "outputs": [
    {
     "data": {
      "text/plain": [
       "45000"
      ]
     },
     "execution_count": 33,
     "metadata": {},
     "output_type": "execute_result"
    }
   ],
   "source": [
    "account2.get_balance()"
   ]
  },
  {
   "cell_type": "code",
   "execution_count": 34,
   "id": "e3babaec",
   "metadata": {},
   "outputs": [],
   "source": [
    "my_account.__balance = 90 # this is not going to happen"
   ]
  },
  {
   "cell_type": "code",
   "execution_count": 35,
   "id": "d100dfe9",
   "metadata": {},
   "outputs": [
    {
     "data": {
      "text/plain": [
       "90"
      ]
     },
     "execution_count": 35,
     "metadata": {},
     "output_type": "execute_result"
    }
   ],
   "source": [
    "my_account.__balance"
   ]
  },
  {
   "cell_type": "code",
   "execution_count": 36,
   "id": "49d0737d",
   "metadata": {},
   "outputs": [
    {
     "data": {
      "text/plain": [
       "0"
      ]
     },
     "execution_count": 36,
     "metadata": {},
     "output_type": "execute_result"
    }
   ],
   "source": [
    "my_account.get_balance()"
   ]
  },
  {
   "cell_type": "code",
   "execution_count": 37,
   "id": "40c8537c",
   "metadata": {},
   "outputs": [],
   "source": [
    "account2.__balance=9"
   ]
  },
  {
   "cell_type": "code",
   "execution_count": 38,
   "id": "c5059bfb",
   "metadata": {},
   "outputs": [
    {
     "data": {
      "text/plain": [
       "9"
      ]
     },
     "execution_count": 38,
     "metadata": {},
     "output_type": "execute_result"
    }
   ],
   "source": [
    "account2.__balance"
   ]
  },
  {
   "cell_type": "code",
   "execution_count": 39,
   "id": "e225c054",
   "metadata": {},
   "outputs": [
    {
     "data": {
      "text/plain": [
       "45000"
      ]
     },
     "execution_count": 39,
     "metadata": {},
     "output_type": "execute_result"
    }
   ],
   "source": [
    "account2.get_balance()"
   ]
  },
  {
   "cell_type": "code",
   "execution_count": 40,
   "id": "c93593eb",
   "metadata": {},
   "outputs": [
    {
     "name": "stdout",
     "output_type": "stream",
     "text": [
      "Deposit of 40000 successfull. New Balance: 40000\n"
     ]
    }
   ],
   "source": [
    "my_account.deposit(40000)"
   ]
  },
  {
   "cell_type": "code",
   "execution_count": 41,
   "id": "7544bbd6",
   "metadata": {},
   "outputs": [
    {
     "data": {
      "text/plain": [
       "40000"
      ]
     },
     "execution_count": 41,
     "metadata": {},
     "output_type": "execute_result"
    }
   ],
   "source": [
    "my_account.get_balance()"
   ]
  },
  {
   "cell_type": "code",
   "execution_count": 46,
   "id": "9b551574",
   "metadata": {},
   "outputs": [],
   "source": [
    "#abstraction\n",
    "\n",
    "\n",
    "from abc import ABC,abstractmethod\n",
    "\n",
    "class car(ABC):\n",
    "    @abstractmethod\n",
    "    def mileage(self):\n",
    "        pass\n",
    "    \n",
    "class toyota(car):\n",
    "    def mileage(self):\n",
    "        print(\"the mileage is 30\")\n",
    "        \n",
    "class suzuki(car):\n",
    "    def mileage(self):\n",
    "        print(\"the mileage is 10\")\n",
    "    \n",
    "\n"
   ]
  },
  {
   "cell_type": "code",
   "execution_count": 48,
   "id": "cec54aab",
   "metadata": {},
   "outputs": [],
   "source": [
    "t= toyota()\n",
    "s= suzuki()"
   ]
  },
  {
   "cell_type": "code",
   "execution_count": 49,
   "id": "2d5bd6c9",
   "metadata": {},
   "outputs": [
    {
     "name": "stdout",
     "output_type": "stream",
     "text": [
      "the mileage is 30\n"
     ]
    }
   ],
   "source": [
    "t.mileage()"
   ]
  },
  {
   "cell_type": "code",
   "execution_count": 51,
   "id": "84e63d7c",
   "metadata": {},
   "outputs": [
    {
     "name": "stdout",
     "output_type": "stream",
     "text": [
      "the mileage is 10\n"
     ]
    }
   ],
   "source": [
    "s.mileage()"
   ]
  },
  {
   "cell_type": "code",
   "execution_count": null,
   "id": "e9c53919",
   "metadata": {},
   "outputs": [],
   "source": []
  }
 ],
 "metadata": {
  "kernelspec": {
   "display_name": "Python 3 (ipykernel)",
   "language": "python",
   "name": "python3"
  },
  "language_info": {
   "codemirror_mode": {
    "name": "ipython",
    "version": 3
   },
   "file_extension": ".py",
   "mimetype": "text/x-python",
   "name": "python",
   "nbconvert_exporter": "python",
   "pygments_lexer": "ipython3",
   "version": "3.12.4"
  }
 },
 "nbformat": 4,
 "nbformat_minor": 5
}
