{
 "cells": [
  {
   "cell_type": "markdown",
   "id": "d6707da4",
   "metadata": {},
   "source": [
    "# Object Oriented Programming\n",
    "- Inheritance\n",
    "- Polymorphism\n",
    "- Encapsulation\n",
    "- Abstraction"
   ]
  },
  {
   "cell_type": "code",
   "execution_count": 9,
   "id": "a001e5a0",
   "metadata": {},
   "outputs": [],
   "source": [
    "class Person:\n",
    "    def __init__(self, fname, lname, age):\n",
    "        self.first_name = fname\n",
    "        self.last_name = lname\n",
    "        self.age = age\n",
    "        \n",
    "    def show(self):\n",
    "        print('The details are : ')\n",
    "        print('First Name : ', self.first_name)\n",
    "        print('Last Name  : ', self.last_name)\n",
    "        print('Age        : ', self.age)"
   ]
  },
  {
   "cell_type": "code",
   "execution_count": 10,
   "id": "9fc9f610",
   "metadata": {},
   "outputs": [],
   "source": [
    "p1 = Person('Abhay', 'Kumar', 45)\n",
    "p2 = Person('Amith', 'Ashokan', 35)"
   ]
  },
  {
   "cell_type": "code",
   "execution_count": 7,
   "id": "66fcf574",
   "metadata": {},
   "outputs": [
    {
     "data": {
      "text/plain": [
       "'Abhay'"
      ]
     },
     "execution_count": 7,
     "metadata": {},
     "output_type": "execute_result"
    }
   ],
   "source": [
    "p1.first_name"
   ]
  },
  {
   "cell_type": "code",
   "execution_count": 8,
   "id": "b52547f7",
   "metadata": {},
   "outputs": [
    {
     "data": {
      "text/plain": [
       "'Amith'"
      ]
     },
     "execution_count": 8,
     "metadata": {},
     "output_type": "execute_result"
    }
   ],
   "source": [
    "p2.first_name"
   ]
  },
  {
   "cell_type": "code",
   "execution_count": 11,
   "id": "5a135831",
   "metadata": {},
   "outputs": [
    {
     "name": "stdout",
     "output_type": "stream",
     "text": [
      "The details are : \n",
      "First Name :  Abhay\n",
      "Last Name  :  Kumar\n",
      "Age        :  45\n"
     ]
    }
   ],
   "source": [
    "p1.show()"
   ]
  },
  {
   "cell_type": "code",
   "execution_count": 12,
   "id": "a4597354",
   "metadata": {},
   "outputs": [
    {
     "name": "stdout",
     "output_type": "stream",
     "text": [
      "The details are : \n",
      "First Name :  Amith\n",
      "Last Name  :  Ashokan\n",
      "Age        :  35\n"
     ]
    }
   ],
   "source": [
    "p2.show()"
   ]
  },
  {
   "cell_type": "code",
   "execution_count": 19,
   "id": "9b5ced29",
   "metadata": {},
   "outputs": [],
   "source": [
    "class Person:\n",
    "    def __init__(self):\n",
    "        self.first_name = None\n",
    "        self.last_name = None\n",
    "        self.age = None\n",
    "        \n",
    "    def set_details(self, fname, lname, age):\n",
    "        self.first_name = fname\n",
    "        self.last_name = lname\n",
    "        self.age = age\n",
    "        \n",
    "    def show(self):\n",
    "        print('The details are : ')\n",
    "        print('First Name : ', self.first_name)\n",
    "        print('Last Name  : ', self.last_name)\n",
    "        print('Age        : ', self.age)"
   ]
  },
  {
   "cell_type": "code",
   "execution_count": 20,
   "id": "ee430e6f",
   "metadata": {},
   "outputs": [],
   "source": [
    "p1 = Person()"
   ]
  },
  {
   "cell_type": "code",
   "execution_count": 21,
   "id": "eb0ea517",
   "metadata": {},
   "outputs": [],
   "source": [
    "p1.first_name"
   ]
  },
  {
   "cell_type": "code",
   "execution_count": 22,
   "id": "9302af86",
   "metadata": {},
   "outputs": [],
   "source": [
    "p1.set_details('Abhay', 'Kumar', 45)"
   ]
  },
  {
   "cell_type": "code",
   "execution_count": 23,
   "id": "b664a7e6",
   "metadata": {},
   "outputs": [
    {
     "data": {
      "text/plain": [
       "'Abhay'"
      ]
     },
     "execution_count": 23,
     "metadata": {},
     "output_type": "execute_result"
    }
   ],
   "source": [
    "p1.first_name"
   ]
  },
  {
   "cell_type": "code",
   "execution_count": 74,
   "id": "c6c69663",
   "metadata": {},
   "outputs": [],
   "source": [
    "class Person:\n",
    "    def __init__(self):\n",
    "        self.first_name = None\n",
    "        self.last_name  = None\n",
    "        self.gender     = None\n",
    "        self.age        = None\n",
    "        self.city       = None\n",
    "        self.state      = None\n",
    "        self.country    = None\n",
    "        \n",
    "    def set_details(self, fname, lname, gender, age, city, state, country):\n",
    "        self.first_name = fname\n",
    "        self.last_name  = lname\n",
    "        self.gender     = gender\n",
    "        self.age        = age\n",
    "        self.city       = city\n",
    "        self.state      = state\n",
    "        self.country    = country\n",
    "        \n",
    "    def show_details(self):\n",
    "        print('The details are : ')\n",
    "        print('First Name  : ', self.first_name)\n",
    "        print('Last Name   : ', self.last_name)\n",
    "        print('Gender      : ', self.gender)\n",
    "        print('Age         : ', self.age)\n",
    "        print('City        : ', self.city)\n",
    "        print('State       : ', self.state)\n",
    "        print('Country     : ', self.country)\n",
    "        \n",
    "    def update_city(self, new_city):\n",
    "        self.city = new_city\n",
    "        print('The city for {} {} has been updated to {}'.format(self.first_name, self.last_name, self.city))\n",
    "        \n",
    "    def update_state(self, new_state):\n",
    "        self.state = new_state\n",
    "        print('The state for {} {} has been updated to {}'.format(self.first_name, self.last_name, self.state))\n",
    "        \n",
    "    def update_country(self, new_country):\n",
    "        self.country = new_country\n",
    "        print('The country for {} {} has been updated to {}'.format(self.first_name, self.last_name, self.country))"
   ]
  },
  {
   "cell_type": "code",
   "execution_count": 30,
   "id": "387d7453",
   "metadata": {},
   "outputs": [],
   "source": [
    "p1 = Person()"
   ]
  },
  {
   "cell_type": "code",
   "execution_count": 31,
   "id": "54d793ed",
   "metadata": {},
   "outputs": [],
   "source": [
    "p1.set_details('Surendar', 'Pandi', 'male', 40, 'bangalore', 'karnataka', 'India')"
   ]
  },
  {
   "cell_type": "code",
   "execution_count": 32,
   "id": "18e762a8",
   "metadata": {},
   "outputs": [
    {
     "name": "stdout",
     "output_type": "stream",
     "text": [
      "The details are : \n",
      "First Name :  Surendar\n",
      "Last Name  :  Pandi\n",
      "Gender     :  male\n",
      "Age        :  40\n",
      "City       :  bangalore\n",
      "State      :  karnataka\n",
      "Country    :  India\n"
     ]
    }
   ],
   "source": [
    "p1.show_details()"
   ]
  },
  {
   "cell_type": "code",
   "execution_count": 33,
   "id": "cb5f8e4f",
   "metadata": {},
   "outputs": [
    {
     "name": "stdout",
     "output_type": "stream",
     "text": [
      "The city for Surendar Pandi has been updated to Pune\n"
     ]
    }
   ],
   "source": [
    "p1.update_city('Pune')"
   ]
  },
  {
   "cell_type": "code",
   "execution_count": 34,
   "id": "785aca6d",
   "metadata": {},
   "outputs": [
    {
     "name": "stdout",
     "output_type": "stream",
     "text": [
      "The state for Surendar Pandi has been updated to Maharashtra\n"
     ]
    }
   ],
   "source": [
    "p1.update_state('Maharashtra')"
   ]
  },
  {
   "cell_type": "code",
   "execution_count": 35,
   "id": "cd201a91",
   "metadata": {},
   "outputs": [
    {
     "name": "stdout",
     "output_type": "stream",
     "text": [
      "The details are : \n",
      "First Name :  Surendar\n",
      "Last Name  :  Pandi\n",
      "Gender     :  male\n",
      "Age        :  40\n",
      "City       :  Pune\n",
      "State      :  Maharashtra\n",
      "Country    :  India\n"
     ]
    }
   ],
   "source": [
    "p1.show_details()"
   ]
  },
  {
   "cell_type": "markdown",
   "id": "26bfa5d3",
   "metadata": {},
   "source": [
    "# Inheritance"
   ]
  },
  {
   "cell_type": "code",
   "execution_count": 98,
   "id": "a0315e94",
   "metadata": {},
   "outputs": [],
   "source": [
    "class Person:\n",
    "    def __init__(self):\n",
    "        self.first_name = None\n",
    "        self.last_name  = None\n",
    "        self.gender     = None\n",
    "        self.age        = None\n",
    "        self.city       = None\n",
    "        self.state      = None\n",
    "        self.country    = None\n",
    "        \n",
    "    def set_details(self, fname, lname, gender, age, city, state, country):\n",
    "        self.first_name = fname\n",
    "        self.last_name  = lname\n",
    "        self.gender     = gender\n",
    "        self.age        = age\n",
    "        self.city       = city\n",
    "        self.state      = state\n",
    "        self.country    = country\n",
    "        \n",
    "    def show_details(self):\n",
    "        print('The details are : ')\n",
    "        print('First Name  : ', self.first_name)\n",
    "        print('Last Name   : ', self.last_name)\n",
    "        print('Gender      : ', self.gender)\n",
    "        print('Age         : ', self.age)\n",
    "        print('City        : ', self.city)\n",
    "        print('State       : ', self.state)\n",
    "        print('Country     : ', self.country)\n",
    "        \n",
    "    def update_city(self, new_city):\n",
    "        self.city = new_city\n",
    "        print('The city for {} {} has been updated to {}'.format(self.first_name, self.last_name, self.city))\n",
    "        \n",
    "    def update_state(self, new_state):\n",
    "        self.state = new_state\n",
    "        print('The state for {} {} has been updated to {}'.format(self.first_name, self.last_name, self.state))\n",
    "        \n",
    "    def update_country(self, new_country):\n",
    "        self.country = new_country\n",
    "        print('The country for {} {} has been updated to {}'.format(self.first_name, self.last_name, self.country))"
   ]
  },
  {
   "cell_type": "code",
   "execution_count": 39,
   "id": "c0c44abc",
   "metadata": {},
   "outputs": [],
   "source": [
    "class Employee(Person):\n",
    "    pass    "
   ]
  },
  {
   "cell_type": "code",
   "execution_count": 40,
   "id": "443c8a5d",
   "metadata": {},
   "outputs": [],
   "source": [
    "e1 = Employee()"
   ]
  },
  {
   "cell_type": "code",
   "execution_count": 42,
   "id": "dae89ea5",
   "metadata": {},
   "outputs": [],
   "source": [
    "e1.set_details('Surendar', 'Pandi', 'male', 40, 'bangalore', 'karnataka', 'India')"
   ]
  },
  {
   "cell_type": "code",
   "execution_count": 43,
   "id": "8231d1db",
   "metadata": {},
   "outputs": [
    {
     "name": "stdout",
     "output_type": "stream",
     "text": [
      "The details are : \n",
      "First Name :  Surendar\n",
      "Last Name  :  Pandi\n",
      "Gender     :  male\n",
      "Age        :  40\n",
      "City       :  bangalore\n",
      "State      :  karnataka\n",
      "Country    :  India\n"
     ]
    }
   ],
   "source": [
    "e1.show_details()"
   ]
  },
  {
   "cell_type": "code",
   "execution_count": 104,
   "id": "ce29d672",
   "metadata": {},
   "outputs": [],
   "source": [
    "class Employee(Person):\n",
    "    def __init__(self):\n",
    "        super().__init__()\n",
    "        self.emp_id  = None\n",
    "        self.desg    = None\n",
    "        self.dept    = None\n",
    "        self.salary  = None\n",
    "        self.hod     = None\n",
    "        \n",
    "    def set_details(self, fname, lname, gender, age, city, state, country, emp_id, desg, dept, salary, hod):\n",
    "        super().set_details(fname, lname, gender, age, city, state, country)\n",
    "        self.emp_id = emp_id\n",
    "        self.desg   = desg\n",
    "        self.dept   = dept\n",
    "        self.salary = salary\n",
    "        self.hod    = hod\n",
    "       \n",
    "    def show_details(self):\n",
    "        super().show_details()\n",
    "        print('Employee Id : ', self.emp_id)\n",
    "        print('Designation : ', self.desg)\n",
    "        print('Department  : ', self.dept)\n",
    "        print('HOD         : ', self.hod)\n",
    "        print('Salary      : ', self.salary)\n",
    "        \n",
    "    def update_desg(self,new_desg):\n",
    "        self.desg = new_desg\n",
    "        print('The designation for employee {} has been updated to {}'.format(self.emp_id, self.desg))\n",
    "        \n",
    "    def update_dept(self,new_dept):\n",
    "        self.dept = new_dept\n",
    "        print('The department for employee {} has been changed to {}'.format(self.emp_id, self.desg))\n",
    "        \n",
    "    def update_hod(self, new_hod):\n",
    "        self.hod = new_hod\n",
    "        print('The HOD for employee {} has been changed to {}'.format(self.emp_id, self.hod))\n",
    "        \n",
    "    def inc10(self):\n",
    "        self.salary = self.salary * 1.1\n",
    "        print('The salary for employee {} has been changed to {}'.format(self.emp_id, self.salary))\n",
    "        \n",
    "    def dec10(self):\n",
    "        self.salary = self.salary * 0.9\n",
    "        print('The salary for employee {} has been changed to {}'.format(self.emp_id, self.salary))\n",
    "        \n",
    "    def increment(self, percentage):\n",
    "        self.salary = self.salary + self.salary * percentage/100\n",
    "        print('The salary for employee {} has been changed to {}'.format(self.emp_id, self.salary))\n",
    "        \n",
    "    def increase_salary(self, amount):\n",
    "        self.salary = self.salary + amount\n",
    "        print('The salary for employee {} has been changed to {}'.format(self.emp_id, self.salary))\n",
    "        \n",
    "    def decrease_salary(self, amount):\n",
    "        self.salary = self.salary - amount\n",
    "        print('The salary for employee {} has been changed to {}'.format(self.emp_id, self.salary))"
   ]
  },
  {
   "cell_type": "code",
   "execution_count": 105,
   "id": "3f774164",
   "metadata": {},
   "outputs": [],
   "source": [
    "e1 = Employee()"
   ]
  },
  {
   "cell_type": "code",
   "execution_count": 106,
   "id": "76a7ac87",
   "metadata": {},
   "outputs": [],
   "source": [
    "e1.set_details('Nazreen', 'Begam', 'female', 30, 'Hyderabad', 'Telangana', 'India', 101, 'data analyst', 'analytics', 80000, 'Utkarsh Sharma')"
   ]
  },
  {
   "cell_type": "code",
   "execution_count": 107,
   "id": "76af184d",
   "metadata": {},
   "outputs": [
    {
     "name": "stdout",
     "output_type": "stream",
     "text": [
      "The details are : \n",
      "First Name  :  Nazreen\n",
      "Last Name   :  Begam\n",
      "Gender      :  female\n",
      "Age         :  30\n",
      "City        :  Hyderabad\n",
      "State       :  Telangana\n",
      "Country     :  India\n",
      "Employee Id :  101\n",
      "Designation :  data analyst\n",
      "Department  :  analytics\n",
      "HOD         :  Utkarsh Sharma\n",
      "Salary      :  80000\n"
     ]
    }
   ],
   "source": [
    "e1.show_details()"
   ]
  },
  {
   "cell_type": "code",
   "execution_count": 108,
   "id": "5e9d5f33",
   "metadata": {},
   "outputs": [
    {
     "name": "stdout",
     "output_type": "stream",
     "text": [
      "The city for Nazreen Begam has been updated to Mirzapur\n",
      "The state for Nazreen Begam has been updated to UttarPradesh\n",
      "The details are : \n",
      "First Name  :  Nazreen\n",
      "Last Name   :  Begam\n",
      "Gender      :  female\n",
      "Age         :  30\n",
      "City        :  Mirzapur\n",
      "State       :  UttarPradesh\n",
      "Country     :  India\n",
      "Employee Id :  101\n",
      "Designation :  data analyst\n",
      "Department  :  analytics\n",
      "HOD         :  Utkarsh Sharma\n",
      "Salary      :  80000\n"
     ]
    }
   ],
   "source": [
    "e1.update_city('Mirzapur')\n",
    "e1.update_state('UttarPradesh')\n",
    "e1.show_details()"
   ]
  },
  {
   "cell_type": "code",
   "execution_count": 109,
   "id": "6587f084",
   "metadata": {},
   "outputs": [
    {
     "name": "stdout",
     "output_type": "stream",
     "text": [
      "The designation for employee 101 has been updated to Data Engineer\n"
     ]
    }
   ],
   "source": [
    "e1.update_desg('Data Engineer')"
   ]
  },
  {
   "cell_type": "code",
   "execution_count": 110,
   "id": "43e5f6f8",
   "metadata": {},
   "outputs": [
    {
     "name": "stdout",
     "output_type": "stream",
     "text": [
      "The department for employee 101 has been changed to Data Engineer\n"
     ]
    }
   ],
   "source": [
    "e1.update_dept('Engineering')"
   ]
  },
  {
   "cell_type": "code",
   "execution_count": 111,
   "id": "8781c213",
   "metadata": {},
   "outputs": [
    {
     "name": "stdout",
     "output_type": "stream",
     "text": [
      "The HOD for employee 101 has been changed to Janki Thakkar\n"
     ]
    }
   ],
   "source": [
    "e1.update_hod('Janki Thakkar')"
   ]
  },
  {
   "cell_type": "code",
   "execution_count": 112,
   "id": "f8a8b539",
   "metadata": {},
   "outputs": [
    {
     "name": "stdout",
     "output_type": "stream",
     "text": [
      "The details are : \n",
      "First Name  :  Nazreen\n",
      "Last Name   :  Begam\n",
      "Gender      :  female\n",
      "Age         :  30\n",
      "City        :  Mirzapur\n",
      "State       :  UttarPradesh\n",
      "Country     :  India\n",
      "Employee Id :  101\n",
      "Designation :  Data Engineer\n",
      "Department  :  Engineering\n",
      "HOD         :  Janki Thakkar\n",
      "Salary      :  80000\n"
     ]
    }
   ],
   "source": [
    "e1.show_details()"
   ]
  },
  {
   "cell_type": "code",
   "execution_count": 113,
   "id": "2882ff23",
   "metadata": {},
   "outputs": [
    {
     "name": "stdout",
     "output_type": "stream",
     "text": [
      "The salary for employee 101 has been changed to 88000.0\n"
     ]
    }
   ],
   "source": [
    "e1.inc10()"
   ]
  },
  {
   "cell_type": "code",
   "execution_count": 114,
   "id": "006af279",
   "metadata": {},
   "outputs": [
    {
     "data": {
      "text/plain": [
       "88000.0"
      ]
     },
     "execution_count": 114,
     "metadata": {},
     "output_type": "execute_result"
    }
   ],
   "source": [
    "e1.salary"
   ]
  },
  {
   "cell_type": "code",
   "execution_count": 115,
   "id": "08be5321",
   "metadata": {},
   "outputs": [
    {
     "name": "stdout",
     "output_type": "stream",
     "text": [
      "The salary for employee 101 has been changed to 100000.0\n"
     ]
    }
   ],
   "source": [
    "e1.increase_salary(12000)"
   ]
  },
  {
   "cell_type": "code",
   "execution_count": 116,
   "id": "7d2355e8",
   "metadata": {},
   "outputs": [
    {
     "data": {
      "text/plain": [
       "100000.0"
      ]
     },
     "execution_count": 116,
     "metadata": {},
     "output_type": "execute_result"
    }
   ],
   "source": [
    "e1.salary"
   ]
  },
  {
   "cell_type": "code",
   "execution_count": 117,
   "id": "0c51c93f",
   "metadata": {},
   "outputs": [
    {
     "name": "stdout",
     "output_type": "stream",
     "text": [
      "The salary for employee 101 has been changed to 90000.0\n"
     ]
    }
   ],
   "source": [
    "e1.dec10()"
   ]
  },
  {
   "cell_type": "code",
   "execution_count": 118,
   "id": "b82b5c9a",
   "metadata": {},
   "outputs": [
    {
     "name": "stdout",
     "output_type": "stream",
     "text": [
      "The salary for employee 101 has been changed to 80000.0\n"
     ]
    }
   ],
   "source": [
    "e1.decrease_salary(10000)"
   ]
  },
  {
   "cell_type": "code",
   "execution_count": 119,
   "id": "3ccb30e9",
   "metadata": {},
   "outputs": [
    {
     "data": {
      "text/plain": [
       "80000.0"
      ]
     },
     "execution_count": 119,
     "metadata": {},
     "output_type": "execute_result"
    }
   ],
   "source": [
    "e1.salary"
   ]
  },
  {
   "cell_type": "code",
   "execution_count": 120,
   "id": "4f06df39",
   "metadata": {},
   "outputs": [
    {
     "name": "stdout",
     "output_type": "stream",
     "text": [
      "The details are : \n",
      "First Name  :  Nazreen\n",
      "Last Name   :  Begam\n",
      "Gender      :  female\n",
      "Age         :  30\n",
      "City        :  Mirzapur\n",
      "State       :  UttarPradesh\n",
      "Country     :  India\n",
      "Employee Id :  101\n",
      "Designation :  Data Engineer\n",
      "Department  :  Engineering\n",
      "HOD         :  Janki Thakkar\n",
      "Salary      :  80000.0\n"
     ]
    }
   ],
   "source": [
    "e1.show_details()"
   ]
  },
  {
   "cell_type": "code",
   "execution_count": 121,
   "id": "376affeb",
   "metadata": {},
   "outputs": [
    {
     "name": "stdout",
     "output_type": "stream",
     "text": [
      "The salary for employee 101 has been changed to 100000.0\n"
     ]
    },
    {
     "data": {
      "text/plain": [
       "100000.0"
      ]
     },
     "execution_count": 121,
     "metadata": {},
     "output_type": "execute_result"
    }
   ],
   "source": [
    "e1.increase_salary(20000)\n",
    "e1.salary"
   ]
  },
  {
   "cell_type": "code",
   "execution_count": 122,
   "id": "facf3d4e",
   "metadata": {},
   "outputs": [
    {
     "name": "stdout",
     "output_type": "stream",
     "text": [
      "The salary for employee 101 has been changed to 150000.0\n"
     ]
    }
   ],
   "source": [
    "e1.increment(50)"
   ]
  },
  {
   "cell_type": "code",
   "execution_count": 141,
   "id": "94658d32",
   "metadata": {},
   "outputs": [],
   "source": [
    "class Organisation(Employee):\n",
    "    def __init__(self, name):\n",
    "        self.org_name = name\n",
    "        self.employees = {}\n",
    "        \n",
    "    def add_employee(self, fname, lname, gender, age, city, state, country, emp_id, desg, dept, salary, hod):\n",
    "        if emp_id not in self.employees.keys():\n",
    "            emp = Employee()\n",
    "            emp.set_details(fname, lname, gender, age, city, state, country, emp_id, desg, dept, salary, hod)\n",
    "            self.employees[emp_id] = emp\n",
    "            print('Employee added successfuly')\n",
    "        else:\n",
    "            print('Employee id already exists')\n",
    "            \n",
    "    def remove_employee(self, emp_id):\n",
    "        if emp_id in employees.keys():\n",
    "            self.employees.pop(emp_id)\n",
    "            print('Employee removed successfully')\n",
    "        else:\n",
    "            print('Employee does not exist')\n",
    "            \n",
    "    def show_employees(self):\n",
    "        for emp_id in self.employees.keys():\n",
    "            self.employees[emp_id].show_details()\n",
    "            print('\\n****************************************************')"
   ]
  },
  {
   "cell_type": "code",
   "execution_count": 142,
   "id": "ca7be8a8",
   "metadata": {},
   "outputs": [],
   "source": [
    "org1 = Organisation('beta_people')"
   ]
  },
  {
   "cell_type": "code",
   "execution_count": 143,
   "id": "074c3a37",
   "metadata": {},
   "outputs": [],
   "source": [
    "org1.show_employees()"
   ]
  },
  {
   "cell_type": "code",
   "execution_count": 144,
   "id": "5ad5c25b",
   "metadata": {},
   "outputs": [
    {
     "name": "stdout",
     "output_type": "stream",
     "text": [
      "Employee added successfuly\n"
     ]
    }
   ],
   "source": [
    "org1.add_employee('Arindam', 'Metya', 'male', 29, 'Kolkata', 'WB', 'IN', 101, 'TL', 'Data', 10000, 'Utkarsh Sharma')"
   ]
  },
  {
   "cell_type": "code",
   "execution_count": 145,
   "id": "02ed098b",
   "metadata": {},
   "outputs": [
    {
     "name": "stdout",
     "output_type": "stream",
     "text": [
      "Employee added successfuly\n"
     ]
    }
   ],
   "source": [
    "org1.add_employee('sourabh' , 'verma' , 'male' , 28 ,'kota' , 'rajasthan' , 'india' , 102 , 'mentor' , 'mentorship' , 30000 , 'aditya mittal')"
   ]
  },
  {
   "cell_type": "code",
   "execution_count": 146,
   "id": "5cc10231",
   "metadata": {},
   "outputs": [
    {
     "name": "stdout",
     "output_type": "stream",
     "text": [
      "Employee added successfuly\n"
     ]
    }
   ],
   "source": [
    "org1.add_employee('Partha', 'Mandal', 'Male', '26', 'Barrackpore', 'West Bengal', 'India', '44', 'SDE', 'Data Science', '44,000', 'Uttam Sir')\n"
   ]
  },
  {
   "cell_type": "code",
   "execution_count": 147,
   "id": "ceaac3a7",
   "metadata": {},
   "outputs": [
    {
     "name": "stdout",
     "output_type": "stream",
     "text": [
      "The details are : \n",
      "First Name  :  Arindam\n",
      "Last Name   :  Metya\n",
      "Gender      :  male\n",
      "Age         :  29\n",
      "City        :  Kolkata\n",
      "State       :  WB\n",
      "Country     :  IN\n",
      "Employee Id :  101\n",
      "Designation :  TL\n",
      "Department  :  Data\n",
      "HOD         :  Utkarsh Sharma\n",
      "Salary      :  10000\n",
      "\n",
      "****************************************************\n",
      "The details are : \n",
      "First Name  :  sourabh\n",
      "Last Name   :  verma\n",
      "Gender      :  male\n",
      "Age         :  28\n",
      "City        :  kota\n",
      "State       :  rajasthan\n",
      "Country     :  india\n",
      "Employee Id :  102\n",
      "Designation :  mentor\n",
      "Department  :  mentorship\n",
      "HOD         :  aditya mittal\n",
      "Salary      :  30000\n",
      "\n",
      "****************************************************\n",
      "The details are : \n",
      "First Name  :  Partha\n",
      "Last Name   :  Mandal\n",
      "Gender      :  Male\n",
      "Age         :  26\n",
      "City        :  Barrackpore\n",
      "State       :  West Bengal\n",
      "Country     :  India\n",
      "Employee Id :  44\n",
      "Designation :  SDE\n",
      "Department  :  Data Science\n",
      "HOD         :  Uttam Sir\n",
      "Salary      :  44,000\n",
      "\n",
      "****************************************************\n"
     ]
    }
   ],
   "source": [
    "org1.show_employees()"
   ]
  },
  {
   "cell_type": "code",
   "execution_count": null,
   "id": "09adc21f",
   "metadata": {},
   "outputs": [],
   "source": []
  }
 ],
 "metadata": {
  "kernelspec": {
   "display_name": "Python 3 (ipykernel)",
   "language": "python",
   "name": "python3"
  },
  "language_info": {
   "codemirror_mode": {
    "name": "ipython",
    "version": 3
   },
   "file_extension": ".py",
   "mimetype": "text/x-python",
   "name": "python",
   "nbconvert_exporter": "python",
   "pygments_lexer": "ipython3",
   "version": "3.9.7"
  }
 },
 "nbformat": 4,
 "nbformat_minor": 5
}
