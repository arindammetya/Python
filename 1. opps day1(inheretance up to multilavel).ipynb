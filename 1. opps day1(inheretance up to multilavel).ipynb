{
 "cells": [
  {
   "cell_type": "code",
   "execution_count": 1,
   "id": "71bffdc8",
   "metadata": {},
   "outputs": [],
   "source": [
    "# # oops concept\n",
    "# #oops -> object oriented programming\n",
    "\n",
    "# #why we need oops?\n",
    "# #reusability\n",
    "# #modularity\n",
    "\n",
    "\n",
    "# classes --> blueprint of your code\n",
    "# object--> instance of your class\n",
    "\n",
    "# class -> car-> engine,color,model,speed,company\n",
    "# object -> maruti,bmw\n"
   ]
  },
  {
   "cell_type": "code",
   "execution_count": 4,
   "id": "bacef8f5",
   "metadata": {},
   "outputs": [],
   "source": [
    "#Animal: -> name,sound\n",
    "\n",
    "#__init__ -> constructor of the class\n",
    "#--> it get called automatically when you create a new object from the class\n",
    "#--> it is used to set up the initial state or attributed of the object\n",
    "\n",
    "# self--> self is the reference to the instance of the object itself\n",
    "\n",
    "class Animal:\n",
    "    def __init__(self,name,sound):\n",
    "        self.name = name   #dog.name = 'buddy'\n",
    "        self.sound= sound  #dog.sound = 'ertt'\n",
    "        \n",
    "    def make_sound(self):\n",
    "        print(f\" {self.name} makes {self.sound} sound\")\n",
    "        \n",
    "        \n",
    "    "
   ]
  },
  {
   "cell_type": "code",
   "execution_count": 8,
   "id": "c7361500",
   "metadata": {},
   "outputs": [],
   "source": [
    "dog = Animal(\"buddy\",\"ertttt\")\n",
    "#self\n",
    "#object = class_name(attributes defined in init)\n",
    "\n",
    "cat = Animal(\"fluffy\",\"meo\")\n"
   ]
  },
  {
   "cell_type": "code",
   "execution_count": 10,
   "id": "a0bbb5fc",
   "metadata": {},
   "outputs": [
    {
     "data": {
      "text/plain": [
       "'buddy'"
      ]
     },
     "execution_count": 10,
     "metadata": {},
     "output_type": "execute_result"
    }
   ],
   "source": [
    "dog.name\n",
    "\n",
    "self\n",
    "\n"
   ]
  },
  {
   "cell_type": "code",
   "execution_count": 9,
   "id": "1137f496",
   "metadata": {},
   "outputs": [
    {
     "data": {
      "text/plain": [
       "'fluffy'"
      ]
     },
     "execution_count": 9,
     "metadata": {},
     "output_type": "execute_result"
    }
   ],
   "source": [
    "cat.name"
   ]
  },
  {
   "cell_type": "code",
   "execution_count": 3,
   "id": "9a091cec",
   "metadata": {},
   "outputs": [
    {
     "name": "stdout",
     "output_type": "stream",
     "text": [
      "the values of a is  10  and the value of b is  20\n",
      "the value of a is 10 and the value of b is 20\n"
     ]
    }
   ],
   "source": [
    "# F string\n",
    "\n",
    "a=10\n",
    "b=20\n",
    "\n",
    "print(\"the values of a is \",a,\" and the value of b is \",b)\n",
    "\n",
    "print(f\"the value of a is {a} and the value of b is {b}\")"
   ]
  },
  {
   "cell_type": "code",
   "execution_count": null,
   "id": "2b60d8fc",
   "metadata": {},
   "outputs": [],
   "source": [
    "# #\n",
    "\n",
    "# class->blueprint of the object\n",
    "# object--> instance of the class\n",
    "\n",
    "#__init__ -> constructor of the class\n",
    "#--> it get called automatically when you create a new object from the class\n",
    "#--> it is used to set up the initial state or attributed of the object\n",
    "\n",
    "#self -> it is the refernece to the object\n",
    "\n",
    "\n",
    "\n"
   ]
  },
  {
   "cell_type": "code",
   "execution_count": 29,
   "id": "b71f89a2",
   "metadata": {},
   "outputs": [],
   "source": [
    "class person:\n",
    "    def __init__(self,name,age,gender):  #person1 = person(\"suraj\",28,'M')\n",
    "        self.name = name#person1.name='suraj'                 # self   = person(name,age,gender)\n",
    "        self.age = age#perosn1.age=28\n",
    "        self.gender = gender#person1.gender='m'\n",
    "        \n",
    "    def intro(self):\n",
    "        print(f\"my name is {self.name}, and i am {self.age} years old\")"
   ]
  },
  {
   "cell_type": "code",
   "execution_count": 30,
   "id": "59fd0e5c",
   "metadata": {},
   "outputs": [],
   "source": [
    "person1 = person(\"suraj\",28,'M')"
   ]
  },
  {
   "cell_type": "code",
   "execution_count": 31,
   "id": "dd083260",
   "metadata": {},
   "outputs": [
    {
     "data": {
      "text/plain": [
       "'suraj'"
      ]
     },
     "execution_count": 31,
     "metadata": {},
     "output_type": "execute_result"
    }
   ],
   "source": [
    "person1.name\n",
    "#self\n"
   ]
  },
  {
   "cell_type": "code",
   "execution_count": 32,
   "id": "5c298781",
   "metadata": {},
   "outputs": [],
   "source": [
    "person2 = person(\"raj\",38,'M')"
   ]
  },
  {
   "cell_type": "code",
   "execution_count": 33,
   "id": "5a3c9c66",
   "metadata": {},
   "outputs": [
    {
     "data": {
      "text/plain": [
       "'suraj'"
      ]
     },
     "execution_count": 33,
     "metadata": {},
     "output_type": "execute_result"
    }
   ],
   "source": [
    "person1.name"
   ]
  },
  {
   "cell_type": "code",
   "execution_count": 34,
   "id": "f65d519a",
   "metadata": {},
   "outputs": [
    {
     "data": {
      "text/plain": [
       "'raj'"
      ]
     },
     "execution_count": 34,
     "metadata": {},
     "output_type": "execute_result"
    }
   ],
   "source": [
    "person2.name"
   ]
  },
  {
   "cell_type": "code",
   "execution_count": 35,
   "id": "bebe17dd",
   "metadata": {},
   "outputs": [
    {
     "name": "stdout",
     "output_type": "stream",
     "text": [
      "my name is suraj, and i am 28 years old\n"
     ]
    }
   ],
   "source": [
    "person1.intro()"
   ]
  },
  {
   "cell_type": "code",
   "execution_count": 36,
   "id": "58e4e388",
   "metadata": {},
   "outputs": [
    {
     "name": "stdout",
     "output_type": "stream",
     "text": [
      "my name is raj, and i am 38 years old\n"
     ]
    }
   ],
   "source": [
    "person2.intro()"
   ]
  },
  {
   "cell_type": "code",
   "execution_count": 37,
   "id": "bd1cf163",
   "metadata": {},
   "outputs": [],
   "source": [
    "# #4 pillar of oops\n",
    "\n",
    "# 1 inheritance\n",
    "# 2 polymorphism\n",
    "# 3 encapsulation\n",
    "# 4 abstraction"
   ]
  },
  {
   "cell_type": "code",
   "execution_count": 38,
   "id": "736a3cfa",
   "metadata": {},
   "outputs": [],
   "source": [
    "#inheritance: -->\n",
    "# 1- single inheritance\n",
    "# 2- multiple inheritance\n",
    "# 3 multilevel inheritance\n",
    "# 4 hierarchical inheritance\n",
    "# 5 hybrid inheritance\n"
   ]
  },
  {
   "cell_type": "code",
   "execution_count": 44,
   "id": "3a2afd6c",
   "metadata": {},
   "outputs": [],
   "source": [
    "class person: #parent class\n",
    "    def __init__(self,name,age,gender):\n",
    "        self.name = name\n",
    "        self.age = age\n",
    "        self.gender = gender\n",
    "        \n",
    "    def greet(self):\n",
    "        print(f\"hello!! my name is {self.name} and my age is {self.age}\")\n",
    "        \n",
    "class player(person): #child\n",
    "    def __init__(self,name,age,gender,game):\n",
    "        self.name = name\n",
    "        self.age = age\n",
    "        self.gender = gender\n",
    "        self.game = game\n",
    "        \n",
    "    def playerdetails(self):#self we have written so that i can refer that for which object we are calling this function\n",
    "        print(f\"player name is {self.name} and age is {self.age}{self.gender} and he plays {self.game}\")"
   ]
  },
  {
   "cell_type": "code",
   "execution_count": 45,
   "id": "7763726c",
   "metadata": {},
   "outputs": [],
   "source": [
    "person1 = person(\"anil\",24,'M')\n",
    "player1 = player(\"sammar\",25,'M','cricket')"
   ]
  },
  {
   "cell_type": "code",
   "execution_count": 46,
   "id": "6e9525d9",
   "metadata": {},
   "outputs": [
    {
     "data": {
      "text/plain": [
       "'anil'"
      ]
     },
     "execution_count": 46,
     "metadata": {},
     "output_type": "execute_result"
    }
   ],
   "source": [
    "person1.name"
   ]
  },
  {
   "cell_type": "code",
   "execution_count": 47,
   "id": "4d5271aa",
   "metadata": {},
   "outputs": [
    {
     "data": {
      "text/plain": [
       "'sammar'"
      ]
     },
     "execution_count": 47,
     "metadata": {},
     "output_type": "execute_result"
    }
   ],
   "source": [
    "player1.name"
   ]
  },
  {
   "cell_type": "code",
   "execution_count": 48,
   "id": "98293103",
   "metadata": {},
   "outputs": [
    {
     "name": "stdout",
     "output_type": "stream",
     "text": [
      "hello!! my name is anil and my age is 24\n"
     ]
    }
   ],
   "source": [
    "person1.greet()"
   ]
  },
  {
   "cell_type": "code",
   "execution_count": 50,
   "id": "8465fb96",
   "metadata": {},
   "outputs": [
    {
     "name": "stdout",
     "output_type": "stream",
     "text": [
      "hello!! my name is sammar and my age is 25\n"
     ]
    }
   ],
   "source": [
    "player1.greet()"
   ]
  },
  {
   "cell_type": "code",
   "execution_count": 51,
   "id": "0eb4ffa2",
   "metadata": {},
   "outputs": [
    {
     "ename": "AttributeError",
     "evalue": "'person' object has no attribute 'playerdetails'",
     "output_type": "error",
     "traceback": [
      "\u001b[1;31m---------------------------------------------------------------------------\u001b[0m",
      "\u001b[1;31mAttributeError\u001b[0m                            Traceback (most recent call last)",
      "Input \u001b[1;32mIn [51]\u001b[0m, in \u001b[0;36m<cell line: 1>\u001b[1;34m()\u001b[0m\n\u001b[1;32m----> 1\u001b[0m \u001b[43mperson1\u001b[49m\u001b[38;5;241;43m.\u001b[39;49m\u001b[43mplayerdetails\u001b[49m()\n",
      "\u001b[1;31mAttributeError\u001b[0m: 'person' object has no attribute 'playerdetails'"
     ]
    }
   ],
   "source": [
    "person1.playerdetails()"
   ]
  },
  {
   "cell_type": "code",
   "execution_count": 62,
   "id": "419c8677",
   "metadata": {},
   "outputs": [],
   "source": [
    "#multiple inheritance 2 parent class and 1 child class\n",
    "\n",
    "# person\n",
    "# player\n",
    "# playerstudent\n",
    "\n",
    "class person: #parent class 1\n",
    "    def __init__(self,name,age,gender):\n",
    "        self.name = name\n",
    "        self.age = age\n",
    "        self.gender = gender\n",
    "        \n",
    "    def greet(self):\n",
    "        print(f\"hello!! my name is {self.name} and my age is {self.age}\")\n",
    "        \n",
    "class player: #parent class2\n",
    "    def __init__(self,name,age,gender,game):\n",
    "        self.name = name\n",
    "        self.age = age\n",
    "        self.gender = gender\n",
    "        self.game = game\n",
    "        \n",
    "    def playerdetails(self):#self we have written so that i can refer that for which object we are calling this function\n",
    "        print(f\"player name is {self.name} and age is {self.age}{self.gender} and he plays {self.game}\")\n",
    "    \n",
    "class playerstu(player,person):\n",
    "    def __init__(self,name,age,gender,game,sclass,srollno):\n",
    "        self.name = name\n",
    "        self.age = age\n",
    "        self.gender = gender\n",
    "        self.game = game\n",
    "        self.sclass = sclass\n",
    "        self.srollno = srollno\n",
    "        \n",
    "    def student_details(self):\n",
    "        print(f\"student name is  {self.name} and age is {self.age} and study in {self.sclass} and plays {self.game} for school\")\n",
    "        \n"
   ]
  },
  {
   "cell_type": "code",
   "execution_count": 63,
   "id": "4b74e22a",
   "metadata": {},
   "outputs": [],
   "source": [
    "p1 = playerstu('suraj',16,'m','cricket',11,22)\n",
    "\n",
    "per1 = person('anil',34,'m')"
   ]
  },
  {
   "cell_type": "code",
   "execution_count": 64,
   "id": "e15accec",
   "metadata": {},
   "outputs": [
    {
     "data": {
      "text/plain": [
       "'suraj'"
      ]
     },
     "execution_count": 64,
     "metadata": {},
     "output_type": "execute_result"
    }
   ],
   "source": [
    "p1.name"
   ]
  },
  {
   "cell_type": "code",
   "execution_count": 65,
   "id": "bb84b730",
   "metadata": {},
   "outputs": [
    {
     "name": "stdout",
     "output_type": "stream",
     "text": [
      "hello!! my name is suraj and my age is 16\n"
     ]
    }
   ],
   "source": [
    "p1.greet()"
   ]
  },
  {
   "cell_type": "code",
   "execution_count": 66,
   "id": "78863497",
   "metadata": {},
   "outputs": [
    {
     "name": "stdout",
     "output_type": "stream",
     "text": [
      "player name is suraj and age is 16m and he plays cricket\n"
     ]
    }
   ],
   "source": [
    "p1.playerdetails()"
   ]
  },
  {
   "cell_type": "code",
   "execution_count": 67,
   "id": "b9ee10ae",
   "metadata": {},
   "outputs": [
    {
     "name": "stdout",
     "output_type": "stream",
     "text": [
      "student name is  suraj and age is 16 and study in 11 and plays cricket for school\n"
     ]
    }
   ],
   "source": [
    "p1.student_details()"
   ]
  },
  {
   "cell_type": "code",
   "execution_count": 68,
   "id": "d229bdf9",
   "metadata": {},
   "outputs": [
    {
     "name": "stdout",
     "output_type": "stream",
     "text": [
      "hello!! my name is anil and my age is 34\n"
     ]
    }
   ],
   "source": [
    "per1.greet()"
   ]
  },
  {
   "cell_type": "code",
   "execution_count": 69,
   "id": "93fb4289",
   "metadata": {},
   "outputs": [
    {
     "ename": "AttributeError",
     "evalue": "'person' object has no attribute 'playerdetails'",
     "output_type": "error",
     "traceback": [
      "\u001b[1;31m---------------------------------------------------------------------------\u001b[0m",
      "\u001b[1;31mAttributeError\u001b[0m                            Traceback (most recent call last)",
      "Input \u001b[1;32mIn [69]\u001b[0m, in \u001b[0;36m<cell line: 1>\u001b[1;34m()\u001b[0m\n\u001b[1;32m----> 1\u001b[0m \u001b[43mper1\u001b[49m\u001b[38;5;241;43m.\u001b[39;49m\u001b[43mplayerdetails\u001b[49m()\n",
      "\u001b[1;31mAttributeError\u001b[0m: 'person' object has no attribute 'playerdetails'"
     ]
    }
   ],
   "source": [
    "per1.playerdetails()"
   ]
  },
  {
   "cell_type": "code",
   "execution_count": null,
   "id": "ce49f2f4",
   "metadata": {},
   "outputs": [],
   "source": [
    "#multilevel inheritance"
   ]
  },
  {
   "cell_type": "code",
   "execution_count": 1,
   "id": "93f733c4",
   "metadata": {},
   "outputs": [],
   "source": [
    "#multiple inheritance 2 parent class and 1 child class\n",
    "\n",
    "# person\n",
    "# player\n",
    "# playerstudent\n",
    "\n",
    "class person: #grandparent\n",
    "    def __init__(self,name,age,gender):\n",
    "        self.name = name\n",
    "        self.age = age\n",
    "        self.gender = gender\n",
    "        \n",
    "    def greet(self):\n",
    "        print(f\"hello!! my name is {self.name} and my age is {self.age}\")\n",
    "        \n",
    "class player(person): #parent\n",
    "    def __init__(self,name,age,gender,game):\n",
    "        self.name = name\n",
    "        self.age = age\n",
    "        self.gender = gender\n",
    "        self.game = game\n",
    "        \n",
    "    def playerdetails(self):#self we have written so that i can refer that for which object we are calling this function\n",
    "        print(f\"player name is {self.name} and age is {self.age}{self.gender} and he plays {self.game}\")\n",
    "    \n",
    "class playerstu(player): #child\n",
    "    def __init__(self,name,age,gender,game,sclass,srollno):\n",
    "        self.name = name\n",
    "        self.age = age\n",
    "        self.gender = gender\n",
    "        self.game = game\n",
    "        self.sclass = sclass\n",
    "        self.srollno = srollno\n",
    "        \n",
    "    def student_details(self):\n",
    "        print(f\"student name is  {self.name} and age is {self.age} and study in {self.sclass} and plays {self.game} for school\")\n",
    "        \n"
   ]
  },
  {
   "cell_type": "code",
   "execution_count": 2,
   "id": "e70b2a6e",
   "metadata": {},
   "outputs": [],
   "source": [
    "\n",
    "per1 = person('anil',34,'m')  grandparent\n",
    "\n",
    "play1 =player('raj',16,'m','cricket')  parent\n",
    "\n",
    "ps1 = playerstu('suraj',16,'m','cricket',11,22)   child\n"
   ]
  },
  {
   "cell_type": "code",
   "execution_count": 3,
   "id": "2e191f67",
   "metadata": {},
   "outputs": [
    {
     "name": "stdout",
     "output_type": "stream",
     "text": [
      "hello!! my name is suraj and my age is 16\n",
      "None\n",
      "player name is suraj and age is 16m and he plays cricket\n",
      "None\n",
      "student name is  suraj and age is 16 and study in 11 and plays cricket for school\n",
      "None\n"
     ]
    }
   ],
   "source": [
    "print(ps1.greet())\n",
    "print(ps1.playerdetails())\n",
    "print(ps1.student_details())"
   ]
  },
  {
   "cell_type": "code",
   "execution_count": 4,
   "id": "c32adf54",
   "metadata": {},
   "outputs": [
    {
     "name": "stdout",
     "output_type": "stream",
     "text": [
      "hello!! my name is anil and my age is 34\n",
      "None\n"
     ]
    },
    {
     "ename": "AttributeError",
     "evalue": "'person' object has no attribute 'playerdetails'",
     "output_type": "error",
     "traceback": [
      "\u001b[1;31m---------------------------------------------------------------------------\u001b[0m",
      "\u001b[1;31mAttributeError\u001b[0m                            Traceback (most recent call last)",
      "Input \u001b[1;32mIn [4]\u001b[0m, in \u001b[0;36m<cell line: 2>\u001b[1;34m()\u001b[0m\n\u001b[0;32m      1\u001b[0m \u001b[38;5;28mprint\u001b[39m(per1\u001b[38;5;241m.\u001b[39mgreet())\n\u001b[1;32m----> 2\u001b[0m \u001b[38;5;28mprint\u001b[39m(\u001b[43mper1\u001b[49m\u001b[38;5;241;43m.\u001b[39;49m\u001b[43mplayerdetails\u001b[49m())\n\u001b[0;32m      3\u001b[0m \u001b[38;5;28mprint\u001b[39m(per1\u001b[38;5;241m.\u001b[39mstudent_details())\n",
      "\u001b[1;31mAttributeError\u001b[0m: 'person' object has no attribute 'playerdetails'"
     ]
    }
   ],
   "source": [
    "print(per1.greet())\n",
    "print(per1.playerdetails())\n",
    "print(per1.student_details())"
   ]
  },
  {
   "cell_type": "code",
   "execution_count": 5,
   "id": "3b88a1dc",
   "metadata": {},
   "outputs": [
    {
     "name": "stdout",
     "output_type": "stream",
     "text": [
      "hello!! my name is raj and my age is 16\n",
      "None\n",
      "player name is raj and age is 16m and he plays cricket\n",
      "None\n"
     ]
    },
    {
     "ename": "AttributeError",
     "evalue": "'player' object has no attribute 'student_details'",
     "output_type": "error",
     "traceback": [
      "\u001b[1;31m---------------------------------------------------------------------------\u001b[0m",
      "\u001b[1;31mAttributeError\u001b[0m                            Traceback (most recent call last)",
      "Input \u001b[1;32mIn [5]\u001b[0m, in \u001b[0;36m<cell line: 3>\u001b[1;34m()\u001b[0m\n\u001b[0;32m      1\u001b[0m \u001b[38;5;28mprint\u001b[39m(play1\u001b[38;5;241m.\u001b[39mgreet())\n\u001b[0;32m      2\u001b[0m \u001b[38;5;28mprint\u001b[39m(play1\u001b[38;5;241m.\u001b[39mplayerdetails())\n\u001b[1;32m----> 3\u001b[0m \u001b[38;5;28mprint\u001b[39m(\u001b[43mplay1\u001b[49m\u001b[38;5;241;43m.\u001b[39;49m\u001b[43mstudent_details\u001b[49m())\n",
      "\u001b[1;31mAttributeError\u001b[0m: 'player' object has no attribute 'student_details'"
     ]
    }
   ],
   "source": [
    "print(play1.greet())\n",
    "print(play1.playerdetails())\n",
    "print(play1.student_details())"
   ]
  },
  {
   "cell_type": "code",
   "execution_count": null,
   "id": "d1b18777",
   "metadata": {},
   "outputs": [],
   "source": [
    "Question:\n",
    "\n",
    "Imagine you are designing a system to represent different types of vehicles. Define three classes: Vehicle, Car, and ElectricCar, following the specifications given below. Then, create an instance of ElectricCar and demonstrate how to access its attributes and methods.\n",
    "\n",
    "Specifications:\n",
    "\n",
    "    Vehicle Class:\n",
    "        Attributes: name, color, mileage\n",
    "        Methods:\n",
    "            get_name(): returns the name of the vehicle.\n",
    "            get_color(): returns the color of the vehicle.\n",
    "            get_mileage(): returns the mileage of the vehicle.\n",
    "\n",
    "    Car Class (inherits from Vehicle):\n",
    "        Additional Attributes: name, color, mileage,num_doors, fuel_type\n",
    "        Methods:\n",
    "            get_num_doors(): returns the number of doors.\n",
    "            get_fuel_type(): returns the fuel type.\n",
    "\n",
    "    ElectricCar Class (inherits from Car):\n",
    "        Additional Attribute: name, color, mileage,num_doors, fuel_type,battery_capacity\n",
    "        Methods:\n",
    "            get_battery_capacity(): returns the battery capacity."
   ]
  },
  {
   "cell_type": "code",
   "execution_count": 13,
   "id": "009e19bb",
   "metadata": {},
   "outputs": [],
   "source": [
    "class vehicle:\n",
    "    def __init__ (self,name, color, mileage):\n",
    "        self.name = name\n",
    "        self.color = color\n",
    "        self.mileage=mileage\n",
    "        \n",
    "    def get_name(self):\n",
    "        return self.name\n",
    "    \n",
    "    def get_color(self):\n",
    "        return self.color\n",
    "    \n",
    "    def get_mileage(self):\n",
    "        return self.mileage\n",
    "    \n",
    "    \n",
    "class car(vehicle):\n",
    "    \n",
    "    def __init__(self,name, color, mileage,num_doors, fuel_type):\n",
    "        self.name = name\n",
    "        self.color = color\n",
    "        self.mileage=mileage\n",
    "        self.num_doors = num_doors\n",
    "        self.fuel_type = fuel_type\n",
    "        \n",
    "    def get_num_doors(self):\n",
    "        return self.num_doors\n",
    "    \n",
    "    def get_fuel_type(self):\n",
    "        return self.fuel_type\n",
    "    \n",
    "class electriccar(car):\n",
    "    \n",
    "        def __init__(self,name, color, mileage,num_doors, fuel_type,battery_capacity):\n",
    "            self.name = name\n",
    "            self.color = color\n",
    "            self.mileage=mileage\n",
    "            self.num_doors = num_doors\n",
    "            self.fuel_type = fuel_type\n",
    "            self.battery_capacity = battery_capacity\n",
    "        \n",
    "        def get_battery_capacity(self):\n",
    "            return battery_capacity\n",
    "        \n",
    "    \n",
    "        \n",
    "    \n",
    "    "
   ]
  },
  {
   "cell_type": "code",
   "execution_count": 14,
   "id": "c6e44435",
   "metadata": {},
   "outputs": [],
   "source": [
    "\n",
    "tesla = electriccar('tesla model S','black',1000,4,'battery',10000)"
   ]
  },
  {
   "cell_type": "code",
   "execution_count": 15,
   "id": "e6d60da9",
   "metadata": {},
   "outputs": [
    {
     "data": {
      "text/plain": [
       "'tesla model S'"
      ]
     },
     "execution_count": 15,
     "metadata": {},
     "output_type": "execute_result"
    }
   ],
   "source": [
    "tesla.get_name()"
   ]
  },
  {
   "cell_type": "code",
   "execution_count": 16,
   "id": "1a2d1bc9",
   "metadata": {},
   "outputs": [
    {
     "data": {
      "text/plain": [
       "'black'"
      ]
     },
     "execution_count": 16,
     "metadata": {},
     "output_type": "execute_result"
    }
   ],
   "source": [
    "tesla.get_color()"
   ]
  },
  {
   "cell_type": "code",
   "execution_count": 17,
   "id": "818fdf41",
   "metadata": {},
   "outputs": [
    {
     "data": {
      "text/plain": [
       "'battery'"
      ]
     },
     "execution_count": 17,
     "metadata": {},
     "output_type": "execute_result"
    }
   ],
   "source": [
    "tesla.get_fuel_type()"
   ]
  },
  {
   "cell_type": "code",
   "execution_count": null,
   "id": "e0a0804b",
   "metadata": {},
   "outputs": [],
   "source": []
  }
 ],
 "metadata": {
  "kernelspec": {
   "display_name": "Python 3 (ipykernel)",
   "language": "python",
   "name": "python3"
  },
  "language_info": {
   "codemirror_mode": {
    "name": "ipython",
    "version": 3
   },
   "file_extension": ".py",
   "mimetype": "text/x-python",
   "name": "python",
   "nbconvert_exporter": "python",
   "pygments_lexer": "ipython3",
   "version": "3.9.12"
  }
 },
 "nbformat": 4,
 "nbformat_minor": 5
}
