{
 "cells": [
  {
   "cell_type": "markdown",
   "id": "3a40cff9",
   "metadata": {},
   "source": [
    "# Loops\n",
    "- Initialization : Where to start\n",
    "- Condition : Where to stop\n",
    "- Step size : Steps to take before next iteration"
   ]
  },
  {
   "cell_type": "markdown",
   "id": "85a1092e",
   "metadata": {},
   "source": [
    "# For Loop"
   ]
  },
  {
   "cell_type": "code",
   "execution_count": 1,
   "id": "be2160e4",
   "metadata": {},
   "outputs": [
    {
     "name": "stdout",
     "output_type": "stream",
     "text": [
      "Hello\n",
      "Hello\n",
      "Hello\n",
      "Hello\n",
      "Hello\n"
     ]
    }
   ],
   "source": [
    "for i in range(0,5,1):\n",
    "    print('Hello')"
   ]
  },
  {
   "cell_type": "code",
   "execution_count": 2,
   "id": "b91416eb",
   "metadata": {},
   "outputs": [
    {
     "name": "stdout",
     "output_type": "stream",
     "text": [
      "Hello\n",
      "Hello\n",
      "Hello\n",
      "Hello\n",
      "Hello\n",
      "Hello\n",
      "Hello\n",
      "Hello\n",
      "Hello\n",
      "Hello\n"
     ]
    }
   ],
   "source": [
    "for i in range(0,10,1):\n",
    "    print('Hello')"
   ]
  },
  {
   "cell_type": "code",
   "execution_count": 5,
   "id": "cf8c82ef",
   "metadata": {},
   "outputs": [
    {
     "name": "stdout",
     "output_type": "stream",
     "text": [
      "Hello\n",
      "Hello\n",
      "Hello\n",
      "Hello\n",
      "Hello\n"
     ]
    }
   ],
   "source": [
    "for i in range(0,10,2):\n",
    "    print('Hello')"
   ]
  },
  {
   "cell_type": "code",
   "execution_count": 6,
   "id": "2cd8b369",
   "metadata": {},
   "outputs": [
    {
     "name": "stdout",
     "output_type": "stream",
     "text": [
      "Value of i :  0\n",
      "Value of i :  1\n",
      "Value of i :  2\n",
      "Value of i :  3\n",
      "Value of i :  4\n"
     ]
    }
   ],
   "source": [
    "for i in range(0,5,1):\n",
    "    print('Value of i : ', i)"
   ]
  },
  {
   "cell_type": "code",
   "execution_count": 8,
   "id": "b24753f4",
   "metadata": {},
   "outputs": [
    {
     "name": "stdout",
     "output_type": "stream",
     "text": [
      "Value of i :  0\n",
      "Value of i :  2\n",
      "Value of i :  4\n",
      "Value of i :  6\n",
      "Value of i :  8\n"
     ]
    }
   ],
   "source": [
    "for i in range(0,10,2):\n",
    "    print('Value of i : ', i)"
   ]
  },
  {
   "cell_type": "code",
   "execution_count": 10,
   "id": "5a65357f",
   "metadata": {},
   "outputs": [
    {
     "name": "stdout",
     "output_type": "stream",
     "text": [
      "Value of i :  0\n",
      "Keep practicing\n",
      "Motivation is the key\n",
      "\n",
      "Value of i :  1\n",
      "Keep practicing\n",
      "Motivation is the key\n",
      "\n",
      "Value of i :  2\n",
      "Keep practicing\n",
      "Motivation is the key\n",
      "\n",
      "Value of i :  3\n",
      "Keep practicing\n",
      "Motivation is the key\n",
      "\n",
      "Value of i :  4\n",
      "Keep practicing\n",
      "Motivation is the key\n",
      "\n"
     ]
    }
   ],
   "source": [
    "for i in range(0,5,1):\n",
    "    print('Value of i : ', i)\n",
    "    print('Keep practicing')\n",
    "    print('Motivation is the key')\n",
    "    print()"
   ]
  },
  {
   "cell_type": "code",
   "execution_count": 12,
   "id": "70c6f2db",
   "metadata": {},
   "outputs": [
    {
     "name": "stdout",
     "output_type": "stream",
     "text": [
      "Value of i :  0\n",
      "Value of i :  1\n",
      "Value of i :  2\n",
      "Value of i :  3\n",
      "Value of i :  4\n"
     ]
    }
   ],
   "source": [
    "for i in range(0,5):                                  # Default step size is 1\n",
    "    print('Value of i : ', i)"
   ]
  },
  {
   "cell_type": "code",
   "execution_count": 18,
   "id": "0c30ed0a",
   "metadata": {},
   "outputs": [
    {
     "name": "stdout",
     "output_type": "stream",
     "text": [
      "Value of i :  0\n",
      "Value of i :  1\n",
      "Value of i :  2\n",
      "Value of i :  3\n",
      "Value of i :  4\n"
     ]
    }
   ],
   "source": [
    "for i in range(5):                                   # Default starting value is 0\n",
    "    print('Value of i : ', i)"
   ]
  },
  {
   "cell_type": "code",
   "execution_count": 21,
   "id": "06644e6c",
   "metadata": {},
   "outputs": [
    {
     "name": "stdout",
     "output_type": "stream",
     "text": [
      "Enter the number : 10\n",
      "1  2  3  4  5  6  7  8  9  10  "
     ]
    }
   ],
   "source": [
    "# Take a number num as input from the user and print all numbers upto num starting from 1 in the same line\n",
    "num = int(input('Enter the number : '))\n",
    "\n",
    "for i in range(1,num+1):\n",
    "    print(i, end = '  ')"
   ]
  },
  {
   "cell_type": "code",
   "execution_count": 22,
   "id": "72450da4",
   "metadata": {},
   "outputs": [
    {
     "name": "stdout",
     "output_type": "stream",
     "text": [
      "1 is odd\n",
      "2 is even\n",
      "3 is odd\n",
      "4 is even\n",
      "5 is odd\n",
      "6 is even\n",
      "7 is odd\n",
      "8 is even\n",
      "9 is odd\n",
      "10 is even\n"
     ]
    }
   ],
   "source": [
    "# Print even or odd for numbers 1 to 10\n",
    "for i in range(1,11):\n",
    "    if i % 2 == 0:\n",
    "        print(i,'is even')\n",
    "    else:\n",
    "        print(i,'is odd')    "
   ]
  },
  {
   "cell_type": "code",
   "execution_count": 23,
   "id": "df012f2f",
   "metadata": {},
   "outputs": [
    {
     "name": "stdout",
     "output_type": "stream",
     "text": [
      "20  30  40  10  50  "
     ]
    }
   ],
   "source": [
    "# Given a list of numbers print the elemnets of list one by one\n",
    "nums = [20,30,40,10,50]\n",
    "for i in range(len(nums)):\n",
    "    print(nums[i], end = '  ')"
   ]
  },
  {
   "cell_type": "markdown",
   "id": "73b55161",
   "metadata": {},
   "source": [
    "### Using for loop as an iterator"
   ]
  },
  {
   "cell_type": "code",
   "execution_count": 24,
   "id": "7e92b221",
   "metadata": {},
   "outputs": [
    {
     "name": "stdout",
     "output_type": "stream",
     "text": [
      "20  30  40  10  50  "
     ]
    }
   ],
   "source": [
    "for i in nums:\n",
    "    print(i, end = '  ')"
   ]
  },
  {
   "cell_type": "code",
   "execution_count": 26,
   "id": "12f7f65c",
   "metadata": {},
   "outputs": [
    {
     "name": "stdout",
     "output_type": "stream",
     "text": [
      "2  4  5  1  6  "
     ]
    }
   ],
   "source": [
    "nums = (2,4,5,1,6)\n",
    "for i in nums:\n",
    "    print(i, end = '  ')"
   ]
  },
  {
   "cell_type": "code",
   "execution_count": 27,
   "id": "f33e5251",
   "metadata": {},
   "outputs": [
    {
     "name": "stdout",
     "output_type": "stream",
     "text": [
      "H  e  l  l  o  "
     ]
    }
   ],
   "source": [
    "s = 'Hello'\n",
    "for i in s:\n",
    "    print(i, end = '  ')"
   ]
  },
  {
   "cell_type": "code",
   "execution_count": 29,
   "id": "f9787f51",
   "metadata": {},
   "outputs": [
    {
     "name": "stdout",
     "output_type": "stream",
     "text": [
      "name\n",
      "age\n",
      "city\n"
     ]
    }
   ],
   "source": [
    "nums = {'name' : 'Ankit', 'age' : 30, 'city' : 'karachi'}                # Iterable over keys\n",
    "for i in nums:\n",
    "    print(i)"
   ]
  },
  {
   "cell_type": "code",
   "execution_count": 30,
   "id": "df0e6153",
   "metadata": {},
   "outputs": [
    {
     "name": "stdout",
     "output_type": "stream",
     "text": [
      "22 is an even number\n",
      "11 is an odd number\n",
      "55 is an odd number\n",
      "44 is an even number\n",
      "33 is an odd number\n",
      "66 is an even number\n",
      "88 is an even number\n",
      "77 is an odd number\n"
     ]
    }
   ],
   "source": [
    "# Given a list of numbers print even for even elements and odd for odd elements\n",
    "nums = [22,11,55,44,33,66,88,77]\n",
    "for num in nums:\n",
    "    if num % 2 == 0:\n",
    "        print(num, 'is an even number')\n",
    "    else:\n",
    "        print(num, 'is an odd number')"
   ]
  },
  {
   "cell_type": "code",
   "execution_count": 31,
   "id": "0520fc21",
   "metadata": {},
   "outputs": [
    {
     "name": "stdout",
     "output_type": "stream",
     "text": [
      "Enter the string : Baba baba black sheep\n",
      "Baba\n",
      "baba\n",
      "black\n",
      "sheep\n"
     ]
    }
   ],
   "source": [
    "# Take a string as input from the user and print the words one by one\n",
    "s = input('Enter the string : ')\n",
    "words = s.split()\n",
    "for word in words:\n",
    "    print(word)"
   ]
  },
  {
   "cell_type": "code",
   "execution_count": 35,
   "id": "b10fead1",
   "metadata": {},
   "outputs": [
    {
     "name": "stdout",
     "output_type": "stream",
     "text": [
      "Enter the number : 100\n"
     ]
    }
   ],
   "source": [
    "# Given a list of numbers take a number as input from the user and print 'the number is present' if the number is present in the list\n",
    "nums = [22,11,55,44,33,66,88,77]\n",
    "x = int(input('Enter the number : '))\n",
    "\n",
    "for num in nums:\n",
    "    if num == x:\n",
    "        print(x, 'is present in the list')"
   ]
  },
  {
   "cell_type": "markdown",
   "id": "4ce0c2ac",
   "metadata": {},
   "source": [
    "## break\n",
    "- Used to terminate the loop"
   ]
  },
  {
   "cell_type": "code",
   "execution_count": 39,
   "id": "fc0170bb",
   "metadata": {},
   "outputs": [
    {
     "name": "stdout",
     "output_type": "stream",
     "text": [
      "Enter the number : 22\n",
      "22 is present in the list\n",
      "Number of iterations :  26\n"
     ]
    }
   ],
   "source": [
    "nums = [22,11,55,44,33,66,88,77,10,20,30,40,50,60,70,80,90,15,25,35,45,55,65,75,85,95]\n",
    "x = int(input('Enter the number : '))\n",
    "\n",
    "count = 0\n",
    "for num in nums:\n",
    "    count += 1\n",
    "    if num == x:\n",
    "        print(x, 'is present in the list')\n",
    "        \n",
    "print('Number of iterations : ', count)"
   ]
  },
  {
   "cell_type": "code",
   "execution_count": 43,
   "id": "557328be",
   "metadata": {},
   "outputs": [
    {
     "name": "stdout",
     "output_type": "stream",
     "text": [
      "Enter the number : 22\n",
      "22 is present in the list\n",
      "Number of iterations :  1\n"
     ]
    }
   ],
   "source": [
    "nums = [22,11,55,44,33,66,88,77,10,20,30,40,50,60,70,80,90,15,25,35,45,55,65,75,85,95]\n",
    "x = int(input('Enter the number : '))\n",
    "\n",
    "count = 0\n",
    "for num in nums:\n",
    "    count += 1\n",
    "    if num == x:\n",
    "        print(x, 'is present in the list')\n",
    "        break\n",
    "        \n",
    "print('Number of iterations : ', count)"
   ]
  },
  {
   "cell_type": "code",
   "execution_count": 52,
   "id": "45d0c08b",
   "metadata": {},
   "outputs": [
    {
     "name": "stdout",
     "output_type": "stream",
     "text": [
      "Enter the number : 11\n",
      "11 is present in the list\n"
     ]
    }
   ],
   "source": [
    "# Given a list of numbers take a number as input from the user and check whether the number is present in the list or not\n",
    "nums = [22,11,55,44,33,66,88,77,10,20,30,40,50,60,70,80,90,15,25,35,45,55,65,75,85,95]\n",
    "\n",
    "x = int(input('Enter the number : '))\n",
    "\n",
    "flag = 0\n",
    "for num in nums:\n",
    "    if num == x:\n",
    "        flag = 1\n",
    "        break\n",
    "\n",
    "#print(flag)\n",
    "if flag == 1:\n",
    "    print(x,'is present in the list')\n",
    "else:\n",
    "    print(x,'is not present in the list')"
   ]
  },
  {
   "cell_type": "markdown",
   "id": "a128fb54",
   "metadata": {},
   "source": [
    "## for else loop in python"
   ]
  },
  {
   "cell_type": "code",
   "execution_count": 55,
   "id": "b9938078",
   "metadata": {},
   "outputs": [
    {
     "name": "stdout",
     "output_type": "stream",
     "text": [
      "Enter the number : 100\n",
      "100 is not present in the list\n"
     ]
    }
   ],
   "source": [
    "nums = [22,11,55,44,33,66,88,77,10,20,30,40,50,60,70,80,90,15,25,35,45,55,65,75,85,95]\n",
    "x = int(input('Enter the number : '))\n",
    "\n",
    "for num in nums:\n",
    "    if num == x:\n",
    "        print(x, 'is present in the list')\n",
    "        break\n",
    "else:\n",
    "    print(x,'is not present in the list')"
   ]
  },
  {
   "cell_type": "markdown",
   "id": "5dccdc6d",
   "metadata": {},
   "source": [
    "## nested loops"
   ]
  },
  {
   "cell_type": "code",
   "execution_count": 57,
   "id": "7f2cdf5b",
   "metadata": {},
   "outputs": [
    {
     "name": "stdout",
     "output_type": "stream",
     "text": [
      "Hello  Hello  \n",
      "Hello  Hello  \n",
      "Hello  Hello  \n"
     ]
    }
   ],
   "source": [
    "for i in range(3):\n",
    "    for j in range(2):\n",
    "        print('Hello', end = '  ')\n",
    "    print()"
   ]
  },
  {
   "cell_type": "markdown",
   "id": "49f45bf2",
   "metadata": {},
   "source": [
    "# ============================================================\n",
    "# While Loop"
   ]
  },
  {
   "cell_type": "code",
   "execution_count": 2,
   "id": "4e748ba4",
   "metadata": {},
   "outputs": [
    {
     "name": "stdout",
     "output_type": "stream",
     "text": [
      "0\n",
      "1\n",
      "2\n",
      "3\n",
      "4\n"
     ]
    }
   ],
   "source": [
    "i = 0\n",
    "while i < 5:                                                # for i in range(0,5,1)\n",
    "    print(i)\n",
    "    i += 1"
   ]
  },
  {
   "cell_type": "code",
   "execution_count": 3,
   "id": "f2196b35",
   "metadata": {},
   "outputs": [
    {
     "name": "stdout",
     "output_type": "stream",
     "text": [
      "1 is odd\n",
      "2 is even\n",
      "3 is odd\n",
      "4 is even\n",
      "5 is odd\n",
      "6 is even\n",
      "7 is odd\n",
      "8 is even\n",
      "9 is odd\n",
      "10 is even\n"
     ]
    }
   ],
   "source": [
    "i = 1\n",
    "while i < 11:\n",
    "    if i % 2 == 0:\n",
    "        print(i,'is even')\n",
    "    else:\n",
    "        print(i,'is odd') \n",
    "    i += 1"
   ]
  },
  {
   "cell_type": "code",
   "execution_count": 6,
   "id": "6ba64e4c",
   "metadata": {},
   "outputs": [
    {
     "name": "stdout",
     "output_type": "stream",
     "text": [
      "22 is even\n",
      "11 is odd\n",
      "55 is odd\n",
      "44 is even\n",
      "33 is odd\n",
      "66 is even\n",
      "88 is even\n",
      "77 is odd\n"
     ]
    }
   ],
   "source": [
    "nums = [22,11,55,44,33,66,88,77]\n",
    "i = 0\n",
    "while i < len(nums):\n",
    "    if nums[i] % 2 == 0:\n",
    "        print(nums[i], 'is even')\n",
    "    else:\n",
    "        print(nums[i], 'is odd')\n",
    "    i += 1"
   ]
  },
  {
   "cell_type": "code",
   "execution_count": 9,
   "id": "5c3786da",
   "metadata": {},
   "outputs": [
    {
     "name": "stdout",
     "output_type": "stream",
     "text": [
      "Enter the number : 88\n",
      "The number 88 is present in the list\n"
     ]
    }
   ],
   "source": [
    "nums = [11,55,22,77,44,66,88,91,31,46,53,50]\n",
    "\n",
    "x = int(input('Enter the number : '))\n",
    "i = 0\n",
    "while i < len(nums):\n",
    "    if nums[i] == x:\n",
    "        print('The number {} is present in the list'.format(x))\n",
    "        break\n",
    "    i += 1\n",
    "else:\n",
    "    print('The number {} is not present in the list'.format(x))"
   ]
  },
  {
   "cell_type": "code",
   "execution_count": 13,
   "id": "2807a6ca",
   "metadata": {},
   "outputs": [
    {
     "name": "stdout",
     "output_type": "stream",
     "text": [
      "{11: 5, 22: 2, 33: 3}\n"
     ]
    }
   ],
   "source": [
    "# given a list of numbers find the frequency of occurrence of distinct numbers\n",
    "nums = [11,22,33,11,33,22,11,11,33,11]\n",
    "\n",
    "freq = {}\n",
    "for num in nums:\n",
    "    if num in freq.keys():\n",
    "        freq[num] += 1\n",
    "    else:\n",
    "        freq[num] = 1\n",
    "        \n",
    "print(freq)"
   ]
  },
  {
   "cell_type": "code",
   "execution_count": 21,
   "id": "29974c6d",
   "metadata": {},
   "outputs": [
    {
     "name": "stdout",
     "output_type": "stream",
     "text": [
      "Enter the number : 11\n",
      "11 is a prime number\n"
     ]
    }
   ],
   "source": [
    "# create a program that takes a number as input and prints whether it is prime or not\n",
    "num = int(input('Enter the number : '))\n",
    "\n",
    "if num < 2:\n",
    "    print(num,'is not a prime number')\n",
    "else:\n",
    "    for i in range(2, (num // 2) + 1):\n",
    "        if num % i == 0:\n",
    "            print(num, 'is not a prime number')\n",
    "            break\n",
    "    else:\n",
    "        print(num, 'is a prime number')"
   ]
  },
  {
   "cell_type": "code",
   "execution_count": 22,
   "id": "ea64c0da",
   "metadata": {},
   "outputs": [
    {
     "name": "stdout",
     "output_type": "stream",
     "text": [
      "Enter the number : 13\n",
      "13 is a prime number\n"
     ]
    }
   ],
   "source": [
    "num = int(input('Enter the number : '))\n",
    "\n",
    "if num < 2:\n",
    "    print(num,'is not a prime number')\n",
    "else:\n",
    "    for i in range(2, int(num ** (1/2)) + 1):\n",
    "        if num % i == 0:\n",
    "            print(num, 'is not a prime number')\n",
    "            break\n",
    "    else:\n",
    "        print(num, 'is a prime number')"
   ]
  },
  {
   "cell_type": "code",
   "execution_count": null,
   "id": "b5a295dc",
   "metadata": {},
   "outputs": [],
   "source": []
  }
 ],
 "metadata": {
  "kernelspec": {
   "display_name": "Python 3",
   "language": "python",
   "name": "python3"
  },
  "language_info": {
   "codemirror_mode": {
    "name": "ipython",
    "version": 3
   },
   "file_extension": ".py",
   "mimetype": "text/x-python",
   "name": "python",
   "nbconvert_exporter": "python",
   "pygments_lexer": "ipython3",
   "version": "3.8.5"
  }
 },
 "nbformat": 4,
 "nbformat_minor": 5
}
