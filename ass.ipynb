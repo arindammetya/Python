{
 "cells": [
  {
   "cell_type": "code",
   "execution_count": 1,
   "id": "eeb0d2a4-2e39-4c27-98df-8c6988196c33",
   "metadata": {},
   "outputs": [
    {
     "data": {
      "text/plain": [
       "162.8894626777442"
      ]
     },
     "execution_count": 1,
     "metadata": {},
     "output_type": "execute_result"
    }
   ],
   "source": [
    "##Q1\n",
    "\n",
    "##Using Python script as a calculator\n",
    "##Create the variables n, r, p and assign them values 10, 5, and 100 respectively. Then evaluate the following expression in the Python console.\n",
    "##𝐴 = 𝑝 (1 + 𝑟/ 100)n\n",
    "\n",
    "\n",
    "def calculate_compound_amount(p, r, n):\n",
    "    A = p * (1 + r / 100) ** n\n",
    "    return A\n",
    "\n",
    "\n",
    "p = 100  \n",
    "r = 5          \n",
    "n = 10        \n",
    "\n",
    "amount = calculate_compound_amount(p, r, n)\n",
    "\n",
    "amount\n",
    "\n",
    "##*** So the answer is option b [162.89]"
   ]
  },
  {
   "cell_type": "code",
   "execution_count": 7,
   "id": "c91288c2-19b7-4a60-836f-be4733720e8b",
   "metadata": {},
   "outputs": [
    {
     "name": "stdout",
     "output_type": "stream",
     "text": [
      "There are 20 students in the class, with 10 who play at least one sport.\n"
     ]
    }
   ],
   "source": [
    "##Q2\n",
    "##In a given string format operation, how will you print the given string.\n",
    "## A = 10\n",
    "## B = 20\n",
    "## Str = \"There are {} students in the class, with {} who play at least one sport.\"\n",
    "## a. print(string.format(a,b)) b. print(string+a+b)\n",
    "## c. print(string.format(b,a)) d. None of the above\n",
    "\n",
    "A = 10\n",
    "B = 20\n",
    "\n",
    "Str = \"There are {} students in the class, with {} who play at least one sport.\"\n",
    "print(Str.format(B,A))\n",
    "\n",
    "##*** So the answer is option d [None of the above] ## option c is correct but the variable name is different that's why i choose option d"
   ]
  },
  {
   "cell_type": "code",
   "execution_count": 17,
   "id": "eb3c0330-48e9-48c6-90c0-39d15fb1162c",
   "metadata": {},
   "outputs": [
    {
     "name": "stdout",
     "output_type": "stream",
     "text": [
      "It goes without saying, \"Time is Money\", and none can deny it.\n"
     ]
    }
   ],
   "source": [
    "##Q3\n",
    "#In a given sample string, How do you print a double quoted string in between a regular\n",
    "#string using the escape character?\n",
    "#Sample output = It goes without saying, “Time is Money”, and none can deny it.\n",
    "#a. print(“It goes without saying, \\“Time is Money\\”, and none can deny it.”)\n",
    "#b. print(“It goes without saying, \\Time is Money\\, and none can deny it.”)\n",
    "#c. print(“It goes without saying” + “Time is Money” + “and none can deny it.”) d. None of the above.\n",
    "\n",
    "print(\"It goes without saying, \\\"Time is Money\\\", and none can deny it.\")\n",
    "\n",
    "##*** So the Answer is option A [print(\"It goes without saying, \\\"Time is Money\\\", and none can deny it.\")]"
   ]
  },
  {
   "cell_type": "code",
   "execution_count": 21,
   "id": "00677bfc-1fec-4b95-992d-b5c6cac8ba21",
   "metadata": {},
   "outputs": [
    {
     "data": {
      "text/plain": [
       "3"
      ]
     },
     "execution_count": 21,
     "metadata": {},
     "output_type": "execute_result"
    }
   ],
   "source": [
    "##Q4\n",
    "#What will be the output of the following code?\n",
    "x = lambda a,b: a//b\n",
    "x(10,3)\n",
    "\n",
    "##*** So the answer is option B [3]"
   ]
  },
  {
   "cell_type": "code",
   "execution_count": 23,
   "id": "b454fd23-6bce-42d7-9236-98131d797bde",
   "metadata": {},
   "outputs": [
    {
     "name": "stdout",
     "output_type": "stream",
     "text": [
      "Greater\n"
     ]
    }
   ],
   "source": [
    "##Q5\n",
    "#What will be the output of the following code?\n",
    "\n",
    "A = 10\n",
    "B = 12\n",
    "print(\"Smaller\") if A == B else print(\"Greater\") if A < B else print(\"True\")\n",
    "\n",
    "##*** So the Answer is option C [Greater]\n"
   ]
  },
  {
   "cell_type": "code",
   "execution_count": 25,
   "id": "319f4d85-ae38-4239-92f5-f4d88ad342ef",
   "metadata": {},
   "outputs": [
    {
     "name": "stdout",
     "output_type": "stream",
     "text": [
      "[2, 7, 3, 5, 4, 6]\n"
     ]
    },
    {
     "ename": "NameError",
     "evalue": "name 'numpy' is not defined",
     "output_type": "error",
     "traceback": [
      "\u001b[0;31m---------------------------------------------------------------------------\u001b[0m",
      "\u001b[0;31mNameError\u001b[0m                                 Traceback (most recent call last)",
      "Cell \u001b[0;32mIn[25], line 7\u001b[0m\n\u001b[1;32m      5\u001b[0m my_list1 \u001b[38;5;241m=\u001b[39m [\u001b[38;5;241m2\u001b[39m,\u001b[38;5;241m7\u001b[39m,\u001b[38;5;241m3\u001b[39m,\u001b[38;5;241m5\u001b[39m,\u001b[38;5;241m4\u001b[39m,\u001b[38;5;241m6\u001b[39m]\n\u001b[1;32m      6\u001b[0m \u001b[38;5;28mprint\u001b[39m(my_list1)\n\u001b[0;32m----> 7\u001b[0m arr_1 \u001b[38;5;241m=\u001b[39m numpy\u001b[38;5;241m.\u001b[39marray(my_list1, dtype \u001b[38;5;241m=\u001b[39m \u001b[38;5;28mint\u001b[39m)\n\u001b[1;32m      8\u001b[0m \u001b[38;5;28mprint\u001b[39m(arr_1)\n",
      "\u001b[0;31mNameError\u001b[0m: name 'numpy' is not defined"
     ]
    }
   ],
   "source": [
    "##Q6\n",
    "##What will be the output of the following code?\n",
    "import os\n",
    "import numpy as np\n",
    "\n",
    "my_list1 = [2,7,3,5,4,6]\n",
    "print(my_list1)\n",
    "arr_1 = numpy.array(my_list1, dtype = int)\n",
    "print(arr_1)\n",
    "\n",
    "##*** So the Answer is option C [NameError: name 'numpy' is not defined]"
   ]
  },
  {
   "cell_type": "code",
   "execution_count": 37,
   "id": "f0b885c7-c25a-4af0-8801-0bdf093e0506",
   "metadata": {},
   "outputs": [
    {
     "data": {
      "text/plain": [
       "'Learn'"
      ]
     },
     "execution_count": 37,
     "metadata": {},
     "output_type": "execute_result"
    }
   ],
   "source": [
    "##Q7\n",
    "## Create a string called ‘string’ with the value as “Machine Learning”. Which code(s) is/are appropriate to slice the substring “Learn”?\n",
    "\n",
    "string = 'Machine Learning'\n",
    "\n",
    "string[slice(8,13,1)]\n",
    "\n",
    "##*** So the Answer is option D [string[slice(8,13,1)]]\n"
   ]
  },
  {
   "cell_type": "code",
   "execution_count": 41,
   "id": "c31fa5ab-3855-4fd9-be99-9f870de87b0e",
   "metadata": {},
   "outputs": [
    {
     "name": "stdout",
     "output_type": "stream",
     "text": [
      "10\n",
      "14\n",
      "18\n",
      "22\n"
     ]
    }
   ],
   "source": [
    "##Q8\n",
    "#Create a sequence of numbers from 10 to 25 and increment by 4. What is the index of the\n",
    "#value 18\n",
    "\n",
    "for i in range(10,25,4):\n",
    "    print(i)\n",
    "##*** So the Answer is option B [2]\n"
   ]
  },
  {
   "cell_type": "code",
   "execution_count": 43,
   "id": "32ea871b-9655-4abd-b9f9-a366c871170d",
   "metadata": {},
   "outputs": [
    {
     "name": "stdout",
     "output_type": "stream",
     "text": [
      "625 625\n"
     ]
    }
   ],
   "source": [
    "##Q9\n",
    "##Which of the following is true with respect to the below codes?\n",
    "\n",
    "num1 =  5**4\n",
    "num2= pow(5,4)\n",
    "print(num1, num2)\n",
    "\n",
    "##*** So the Answer is option A [num1 = num2]\n",
    "\n"
   ]
  },
  {
   "cell_type": "code",
   "execution_count": 49,
   "id": "d0abf1e2-7250-40c6-81cb-8808979e133e",
   "metadata": {},
   "outputs": [],
   "source": [
    "##Q10\n",
    "## A Python NameError exception is raised when: -\n",
    "\n",
    "##*** So the Answer is option A [Trying to access a variable which has not been defined]"
   ]
  },
  {
   "cell_type": "code",
   "execution_count": 55,
   "id": "cf9219ab-fc7e-4c15-b0a8-eaeedc92e5e4",
   "metadata": {},
   "outputs": [
    {
     "ename": "ValueError",
     "evalue": "invalid literal for int() with base 10: 'string'",
     "output_type": "error",
     "traceback": [
      "\u001b[0;31m---------------------------------------------------------------------------\u001b[0m",
      "\u001b[0;31mValueError\u001b[0m                                Traceback (most recent call last)",
      "Cell \u001b[0;32mIn[55], line 4\u001b[0m\n\u001b[1;32m      1\u001b[0m \u001b[38;5;66;03m##What type of exception will be raised for the code given below?\u001b[39;00m\n\u001b[1;32m      3\u001b[0m x\u001b[38;5;241m=\u001b[39m \u001b[38;5;124m'\u001b[39m\u001b[38;5;124mstring\u001b[39m\u001b[38;5;124m'\u001b[39m \n\u001b[0;32m----> 4\u001b[0m \u001b[38;5;28mint\u001b[39m(x)\n",
      "\u001b[0;31mValueError\u001b[0m: invalid literal for int() with base 10: 'string'"
     ]
    }
   ],
   "source": [
    "##Q11\n",
    "##What type of exception will be raised for the code given below?\n",
    "\n",
    "x= 'string' \n",
    "int(x)\n",
    "\n",
    "##*** So the Answer is option C [ValueError]"
   ]
  },
  {
   "cell_type": "code",
   "execution_count": 57,
   "id": "d2bfb9a2-5205-4e85-a68c-b7ae9fa1eaf3",
   "metadata": {},
   "outputs": [],
   "source": [
    "##Q12\n",
    "##A FileNotFoundError exception is raised by operating system errors when: -\n",
    "\n",
    "##*** The Answer is option B [A file or directory is requested but does not exist in the working directory]\n"
   ]
  },
  {
   "cell_type": "code",
   "execution_count": 59,
   "id": "57068ab0-3282-47cd-a765-561ad2446fc2",
   "metadata": {},
   "outputs": [
    {
     "data": {
      "text/plain": [
       "str"
      ]
     },
     "execution_count": 59,
     "metadata": {},
     "output_type": "execute_result"
    }
   ],
   "source": [
    "##Q13\n",
    "#Consider a variable Z. The value of Z is \"ID-5632\". Data type of Z is: -\n",
    "\n",
    "z = 'ID-5632';\n",
    "type(z)\n",
    "\n",
    "##*** So the answer is option B [Character]"
   ]
  },
  {
   "cell_type": "code",
   "execution_count": 63,
   "id": "20ca3189-38ce-45dc-ae1d-c08dfc3a500d",
   "metadata": {},
   "outputs": [],
   "source": [
    "##Q14\n",
    "## Which of the following variable(s) are character data type?\n",
    "\n",
    " ##*** The answer is option D [All of the above]"
   ]
  },
  {
   "cell_type": "code",
   "execution_count": 65,
   "id": "86c61d3c-6f1e-4868-a129-0e82996a7542",
   "metadata": {},
   "outputs": [],
   "source": [
    "##Q15.Choose the symbol/s that does not have the ability to convert any values to string?\n",
    "\n",
    " ##*** The answer is option D [#]"
   ]
  },
  {
   "cell_type": "code",
   "execution_count": 67,
   "id": "29e12e66-7787-4cee-9b08-7a62ab7e2f85",
   "metadata": {},
   "outputs": [
    {
     "name": "stdout",
     "output_type": "stream",
     "text": [
      "{'India': 'Delhi', 'China': 'Beijing', 'Japan': 'Tokyo', 'Qatar': 'Doha', 'France': 'Paris'}\n"
     ]
    }
   ],
   "source": [
    "##Q16.Create a dictionary ‘Country’ that maps the following countries to their capitals respectively:\n",
    "\n",
    "# Creating the Country dictionary\n",
    "Country = {\n",
    "    \"India\": \"Delhi\",\n",
    "    \"China\": \"Beijing\",\n",
    "    \"Japan\": \"Tokyo\",\n",
    "    \"Qatar\": \"Doha\",\n",
    "    \"France\": \"Marseilles\"\n",
    "}\n",
    "\n",
    "# Replacing \"Marseilles\" with \"Paris\" using two different commands\n",
    "\n",
    "# Command 1: Using direct assignment\n",
    "Country[\"France\"] = \"Paris\"\n",
    "\n",
    "# Command 2: Using the update() method\n",
    "Country.update({\"France\": \"Paris\"})\n",
    "\n",
    "# Printing the updated dictionary\n",
    "print(Country)\n"
   ]
  },
  {
   "cell_type": "code",
   "execution_count": 77,
   "id": "0fad5257-f9dd-4730-81bf-e08c8946d58a",
   "metadata": {},
   "outputs": [],
   "source": [
    "##Q17. Create the tuples given below\n",
    "\n",
    "tuple_1 = (1,5,6,7,8)\n",
    "tuple_2 = (8,9,4)\n",
    "##Identify which of the following code does not work on a tuple.\n",
    "\n",
    " ##*** The answer is option D [tuple_1[3] = 45] \n"
   ]
  },
  {
   "cell_type": "code",
   "execution_count": 79,
   "id": "e2e0d32f-1b03-4700-ae2c-5b8f55704ed4",
   "metadata": {},
   "outputs": [
    {
     "data": {
      "text/plain": [
       "6"
      ]
     },
     "execution_count": 79,
     "metadata": {},
     "output_type": "execute_result"
    }
   ],
   "source": [
    "##Q18. How many elements in the following data structure?\n",
    "\n",
    "s = {1,2,3,4,4,4,5,6}\n",
    "len(s)"
   ]
  },
  {
   "cell_type": "code",
   "execution_count": 81,
   "id": "33cd83df-2508-4b84-81cf-e477beca4904",
   "metadata": {},
   "outputs": [
    {
     "name": "stdout",
     "output_type": "stream",
     "text": [
      "Pythagorean triplets with sides no greater than 20 are: [(3, 4, 5), (5, 12, 13), (6, 8, 10), (8, 15, 17), (9, 12, 15), (12, 16, 20)]\n"
     ]
    }
   ],
   "source": [
    "##19 Write a function which finds all pythagorean triplets of triangles whose sides are no greater than a natural number N.\n",
    "\n",
    "def find_pythagorean_triplets(N):\n",
    "    triplets = []  # List to store the triplets\n",
    "    for a in range(1, N + 1):\n",
    "        for b in range(a, N + 1):  # Start from 'a' to avoid duplicates\n",
    "            c = (a ** 2 + b ** 2) ** 0.5\n",
    "            # Check if c is an integer and within the limit\n",
    "            if c.is_integer() and c <= N:\n",
    "                triplets.append((a, b, int(c)))\n",
    "    return triplets\n",
    "\n",
    "# Example usage\n",
    "N = 20\n",
    "triplets = find_pythagorean_triplets(N)\n",
    "print(f\"Pythagorean triplets with sides no greater than {N} are: {triplets}\")\n"
   ]
  },
  {
   "cell_type": "code",
   "execution_count": null,
   "id": "8a84eb18-7ae7-4e78-81bf-b658ff0c036d",
   "metadata": {},
   "outputs": [],
   "source": []
  }
 ],
 "metadata": {
  "kernelspec": {
   "display_name": "Python 3 (ipykernel)",
   "language": "python",
   "name": "python3"
  },
  "language_info": {
   "codemirror_mode": {
    "name": "ipython",
    "version": 3
   },
   "file_extension": ".py",
   "mimetype": "text/x-python",
   "name": "python",
   "nbconvert_exporter": "python",
   "pygments_lexer": "ipython3",
   "version": "3.12.4"
  }
 },
 "nbformat": 4,
 "nbformat_minor": 5
}
