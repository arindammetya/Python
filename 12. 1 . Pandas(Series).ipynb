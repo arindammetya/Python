{
 "cells": [
  {
   "cell_type": "markdown",
   "id": "d9f07614",
   "metadata": {},
   "source": [
    "# Pandas\n",
    "- **Pandas** is a fast, powerful and easy to use open source data analysis and manipulation library.\n",
    "1. Series\n",
    "2. DataFrame"
   ]
  },
  {
   "cell_type": "code",
   "execution_count": 1,
   "id": "4fd986fb",
   "metadata": {},
   "outputs": [],
   "source": [
    "import numpy as np\n",
    "import pandas as pd\n",
    "\n",
    "import warnings\n",
    "warnings.filterwarnings('ignore')"
   ]
  },
  {
   "cell_type": "markdown",
   "id": "3c08d053",
   "metadata": {},
   "source": [
    "# 1. Series"
   ]
  },
  {
   "cell_type": "code",
   "execution_count": 2,
   "id": "0c4b7815",
   "metadata": {},
   "outputs": [
    {
     "data": {
      "text/plain": [
       "0    10\n",
       "1    20\n",
       "2    30\n",
       "3    40\n",
       "4    50\n",
       "dtype: int64"
      ]
     },
     "execution_count": 2,
     "metadata": {},
     "output_type": "execute_result"
    }
   ],
   "source": [
    "data = [10,20,30,40,50]\n",
    "s1 = pd.Series(data)\n",
    "s1"
   ]
  },
  {
   "cell_type": "code",
   "execution_count": 3,
   "id": "53501709",
   "metadata": {},
   "outputs": [
    {
     "data": {
      "text/plain": [
       "pandas.core.series.Series"
      ]
     },
     "execution_count": 3,
     "metadata": {},
     "output_type": "execute_result"
    }
   ],
   "source": [
    "type(s1)"
   ]
  },
  {
   "cell_type": "code",
   "execution_count": 4,
   "id": "c0d8f986",
   "metadata": {},
   "outputs": [
    {
     "data": {
      "text/plain": [
       "array([10, 20, 30, 40, 50], dtype=int64)"
      ]
     },
     "execution_count": 4,
     "metadata": {},
     "output_type": "execute_result"
    }
   ],
   "source": [
    "s1.values"
   ]
  },
  {
   "cell_type": "code",
   "execution_count": 5,
   "id": "094445e7",
   "metadata": {},
   "outputs": [
    {
     "data": {
      "text/plain": [
       "RangeIndex(start=0, stop=5, step=1)"
      ]
     },
     "execution_count": 5,
     "metadata": {},
     "output_type": "execute_result"
    }
   ],
   "source": [
    "s1.index"
   ]
  },
  {
   "cell_type": "code",
   "execution_count": 6,
   "id": "753713a4",
   "metadata": {},
   "outputs": [
    {
     "data": {
      "text/plain": [
       "dtype('int64')"
      ]
     },
     "execution_count": 6,
     "metadata": {},
     "output_type": "execute_result"
    }
   ],
   "source": [
    "s1.dtype"
   ]
  },
  {
   "cell_type": "code",
   "execution_count": 7,
   "id": "fcdd2e01",
   "metadata": {},
   "outputs": [
    {
     "data": {
      "text/plain": [
       "[0, 1, 2, 3, 4]"
      ]
     },
     "execution_count": 7,
     "metadata": {},
     "output_type": "execute_result"
    }
   ],
   "source": [
    "list(s1.index)"
   ]
  },
  {
   "cell_type": "code",
   "execution_count": 8,
   "id": "2d38ff7e",
   "metadata": {},
   "outputs": [
    {
     "data": {
      "text/plain": [
       "101    10\n",
       "102    20\n",
       "103    30\n",
       "104    40\n",
       "105    50\n",
       "dtype: int64"
      ]
     },
     "execution_count": 8,
     "metadata": {},
     "output_type": "execute_result"
    }
   ],
   "source": [
    "s1.index = [101,102,103,104,105]\n",
    "s1"
   ]
  },
  {
   "cell_type": "code",
   "execution_count": 9,
   "id": "48567d74",
   "metadata": {},
   "outputs": [
    {
     "data": {
      "text/plain": [
       "A    10\n",
       "B    20\n",
       "C    30\n",
       "D    40\n",
       "E    50\n",
       "dtype: int64"
      ]
     },
     "execution_count": 9,
     "metadata": {},
     "output_type": "execute_result"
    }
   ],
   "source": [
    "s1.index = ['A', 'B', 'C', 'D', 'E']\n",
    "s1"
   ]
  },
  {
   "cell_type": "code",
   "execution_count": 10,
   "id": "448e435b",
   "metadata": {},
   "outputs": [
    {
     "data": {
      "text/plain": [
       "1001    10\n",
       "1002    20\n",
       "1003    30\n",
       "1004    40\n",
       "1005    50\n",
       "dtype: int64"
      ]
     },
     "execution_count": 10,
     "metadata": {},
     "output_type": "execute_result"
    }
   ],
   "source": [
    "s1.index = range(1001,1006)\n",
    "s1"
   ]
  },
  {
   "cell_type": "code",
   "execution_count": 11,
   "id": "6ec655f5",
   "metadata": {},
   "outputs": [
    {
     "data": {
      "text/plain": [
       "1.5    10\n",
       "2.5    20\n",
       "3.5    30\n",
       "4.5    40\n",
       "5.7    50\n",
       "dtype: int64"
      ]
     },
     "execution_count": 11,
     "metadata": {},
     "output_type": "execute_result"
    }
   ],
   "source": [
    "s1.index = [1.5,2.5,3.5,4.5,5.7]\n",
    "s1"
   ]
  },
  {
   "cell_type": "code",
   "execution_count": 12,
   "id": "a453681b",
   "metadata": {},
   "outputs": [
    {
     "data": {
      "text/plain": [
       "A    10\n",
       "B    20\n",
       "C    30\n",
       "D    40\n",
       "E    50\n",
       "dtype: int64"
      ]
     },
     "execution_count": 12,
     "metadata": {},
     "output_type": "execute_result"
    }
   ],
   "source": [
    "s1.index = ['A', 'B', 'C', 'D', 'E']\n",
    "s1"
   ]
  },
  {
   "cell_type": "markdown",
   "id": "55e78fa2",
   "metadata": {},
   "source": [
    "## Accessing data in Series"
   ]
  },
  {
   "cell_type": "code",
   "execution_count": 13,
   "id": "594f7006",
   "metadata": {},
   "outputs": [
    {
     "data": {
      "text/plain": [
       "10"
      ]
     },
     "execution_count": 13,
     "metadata": {},
     "output_type": "execute_result"
    }
   ],
   "source": [
    "s1[0]"
   ]
  },
  {
   "cell_type": "code",
   "execution_count": 14,
   "id": "98e0437a",
   "metadata": {},
   "outputs": [
    {
     "data": {
      "text/plain": [
       "20"
      ]
     },
     "execution_count": 14,
     "metadata": {},
     "output_type": "execute_result"
    }
   ],
   "source": [
    "s1[1]"
   ]
  },
  {
   "cell_type": "code",
   "execution_count": 15,
   "id": "af501d74",
   "metadata": {},
   "outputs": [
    {
     "data": {
      "text/plain": [
       "50"
      ]
     },
     "execution_count": 15,
     "metadata": {},
     "output_type": "execute_result"
    }
   ],
   "source": [
    "s1[-1]"
   ]
  },
  {
   "cell_type": "code",
   "execution_count": 16,
   "id": "ba49a4a7",
   "metadata": {},
   "outputs": [
    {
     "data": {
      "text/plain": [
       "10"
      ]
     },
     "execution_count": 16,
     "metadata": {},
     "output_type": "execute_result"
    }
   ],
   "source": [
    "s1['A']"
   ]
  },
  {
   "cell_type": "code",
   "execution_count": 17,
   "id": "1ba92e50",
   "metadata": {},
   "outputs": [
    {
     "data": {
      "text/plain": [
       "20"
      ]
     },
     "execution_count": 17,
     "metadata": {},
     "output_type": "execute_result"
    }
   ],
   "source": [
    "s1['B']"
   ]
  },
  {
   "cell_type": "code",
   "execution_count": 18,
   "id": "876752e6",
   "metadata": {},
   "outputs": [
    {
     "data": {
      "text/plain": [
       "40"
      ]
     },
     "execution_count": 18,
     "metadata": {},
     "output_type": "execute_result"
    }
   ],
   "source": [
    "s1['D']"
   ]
  },
  {
   "cell_type": "code",
   "execution_count": 19,
   "id": "762a92e5",
   "metadata": {},
   "outputs": [
    {
     "data": {
      "text/plain": [
       "10"
      ]
     },
     "execution_count": 19,
     "metadata": {},
     "output_type": "execute_result"
    }
   ],
   "source": [
    "s1.iloc[0]                       # By positional indexing"
   ]
  },
  {
   "cell_type": "code",
   "execution_count": 20,
   "id": "2c106718",
   "metadata": {},
   "outputs": [
    {
     "data": {
      "text/plain": [
       "A    10\n",
       "B    20\n",
       "dtype: int64"
      ]
     },
     "execution_count": 20,
     "metadata": {},
     "output_type": "execute_result"
    }
   ],
   "source": [
    "s1.iloc[[0,1]]"
   ]
  },
  {
   "cell_type": "code",
   "execution_count": 21,
   "id": "7af852cd",
   "metadata": {},
   "outputs": [
    {
     "data": {
      "text/plain": [
       "10"
      ]
     },
     "execution_count": 21,
     "metadata": {},
     "output_type": "execute_result"
    }
   ],
   "source": [
    "s1.loc['A']                      # By index that has been provided"
   ]
  },
  {
   "cell_type": "code",
   "execution_count": 22,
   "id": "410a0e32",
   "metadata": {},
   "outputs": [
    {
     "data": {
      "text/plain": [
       "A    10\n",
       "B    20\n",
       "dtype: int64"
      ]
     },
     "execution_count": 22,
     "metadata": {},
     "output_type": "execute_result"
    }
   ],
   "source": [
    "s1.loc[['A','B']]"
   ]
  },
  {
   "cell_type": "markdown",
   "id": "5b51190f",
   "metadata": {},
   "source": [
    "## Add, update and Delete operations"
   ]
  },
  {
   "cell_type": "code",
   "execution_count": 23,
   "id": "2c072196",
   "metadata": {},
   "outputs": [
    {
     "data": {
      "text/plain": [
       "A    10\n",
       "B    20\n",
       "C    30\n",
       "D    40\n",
       "E    50\n",
       "F    60\n",
       "dtype: int64"
      ]
     },
     "execution_count": 23,
     "metadata": {},
     "output_type": "execute_result"
    }
   ],
   "source": [
    "s1['F'] = 60\n",
    "s1"
   ]
  },
  {
   "cell_type": "code",
   "execution_count": 24,
   "id": "449396cb",
   "metadata": {},
   "outputs": [
    {
     "data": {
      "text/plain": [
       "A    10\n",
       "B    20\n",
       "C    30\n",
       "D    80\n",
       "E    50\n",
       "F    60\n",
       "dtype: int64"
      ]
     },
     "execution_count": 24,
     "metadata": {},
     "output_type": "execute_result"
    }
   ],
   "source": [
    "s1['D'] = 80\n",
    "s1"
   ]
  },
  {
   "cell_type": "code",
   "execution_count": 25,
   "id": "1966d1ef",
   "metadata": {},
   "outputs": [],
   "source": [
    "s1.drop('D', inplace = True)"
   ]
  },
  {
   "cell_type": "code",
   "execution_count": 26,
   "id": "059004ea",
   "metadata": {},
   "outputs": [
    {
     "data": {
      "text/plain": [
       "A    10\n",
       "B    20\n",
       "C    30\n",
       "E    50\n",
       "F    60\n",
       "dtype: int64"
      ]
     },
     "execution_count": 26,
     "metadata": {},
     "output_type": "execute_result"
    }
   ],
   "source": [
    "s1"
   ]
  },
  {
   "cell_type": "markdown",
   "id": "25ef7846",
   "metadata": {},
   "source": [
    "## Slicing"
   ]
  },
  {
   "cell_type": "code",
   "execution_count": 27,
   "id": "79fd3242",
   "metadata": {},
   "outputs": [
    {
     "data": {
      "text/plain": [
       "A    10\n",
       "B    20\n",
       "C    30\n",
       "E    50\n",
       "F    60\n",
       "dtype: int64"
      ]
     },
     "execution_count": 27,
     "metadata": {},
     "output_type": "execute_result"
    }
   ],
   "source": [
    "s1[:]"
   ]
  },
  {
   "cell_type": "code",
   "execution_count": 28,
   "id": "1a544183",
   "metadata": {},
   "outputs": [
    {
     "data": {
      "text/plain": [
       "C    30\n",
       "E    50\n",
       "F    60\n",
       "dtype: int64"
      ]
     },
     "execution_count": 28,
     "metadata": {},
     "output_type": "execute_result"
    }
   ],
   "source": [
    "s1[2:5]"
   ]
  },
  {
   "cell_type": "code",
   "execution_count": 29,
   "id": "4013ad86",
   "metadata": {},
   "outputs": [
    {
     "data": {
      "text/plain": [
       "F    60\n",
       "E    50\n",
       "C    30\n",
       "B    20\n",
       "A    10\n",
       "dtype: int64"
      ]
     },
     "execution_count": 29,
     "metadata": {},
     "output_type": "execute_result"
    }
   ],
   "source": [
    "s1[-1::-1]"
   ]
  },
  {
   "cell_type": "code",
   "execution_count": 30,
   "id": "4c67c00f",
   "metadata": {},
   "outputs": [
    {
     "data": {
      "text/plain": [
       "A    10\n",
       "C    30\n",
       "F    60\n",
       "dtype: int64"
      ]
     },
     "execution_count": 30,
     "metadata": {},
     "output_type": "execute_result"
    }
   ],
   "source": [
    "s1[::2]"
   ]
  },
  {
   "cell_type": "markdown",
   "id": "d46470df",
   "metadata": {},
   "source": [
    "## Creating Series from Dictionary"
   ]
  },
  {
   "cell_type": "code",
   "execution_count": 31,
   "id": "bc1ef669",
   "metadata": {},
   "outputs": [
    {
     "data": {
      "text/plain": [
       "Mohit     85\n",
       "Ankit     80\n",
       "Anjali    86\n",
       "Varun     81\n",
       "dtype: int64"
      ]
     },
     "execution_count": 31,
     "metadata": {},
     "output_type": "execute_result"
    }
   ],
   "source": [
    "data = {'Mohit' : 85,\n",
    "        'Ankit' : 80,\n",
    "        'Anjali': 86,\n",
    "        'Varun' : 81}\n",
    "s = pd.Series(data)\n",
    "s"
   ]
  },
  {
   "cell_type": "code",
   "execution_count": 32,
   "id": "5c22da2a",
   "metadata": {},
   "outputs": [
    {
     "data": {
      "text/plain": [
       "{'Jaipur': 'Rajasthan',\n",
       " 'Mumbai': 'Maharashtra',\n",
       " 'Kolkata': 'West Bengal',\n",
       " 'Chandigarh': 'Punjab',\n",
       " 'Bengaluru': 'Karnataka'}"
      ]
     },
     "execution_count": 32,
     "metadata": {},
     "output_type": "execute_result"
    }
   ],
   "source": [
    "data = {'Jaipur' : 'Rajasthan',\n",
    "        'Mumbai' : 'Maharashtra',\n",
    "        'Kolkata': 'West Bengal',\n",
    "        'Chandigarh' : 'Punjab',\n",
    "        'Bengaluru' : 'Karnataka'}\n",
    "data"
   ]
  },
  {
   "cell_type": "code",
   "execution_count": 33,
   "id": "db77ea97",
   "metadata": {},
   "outputs": [
    {
     "data": {
      "text/plain": [
       "Jaipur          Rajasthan\n",
       "Mumbai        Maharashtra\n",
       "Kolkata       West Bengal\n",
       "Chandigarh         Punjab\n",
       "Bengaluru       Karnataka\n",
       "dtype: object"
      ]
     },
     "execution_count": 33,
     "metadata": {},
     "output_type": "execute_result"
    }
   ],
   "source": [
    "s2 = pd.Series(data)\n",
    "s2"
   ]
  },
  {
   "cell_type": "code",
   "execution_count": 34,
   "id": "34792a35",
   "metadata": {},
   "outputs": [
    {
     "data": {
      "text/plain": [
       "'Rajasthan'"
      ]
     },
     "execution_count": 34,
     "metadata": {},
     "output_type": "execute_result"
    }
   ],
   "source": [
    "s2['Jaipur']"
   ]
  },
  {
   "cell_type": "code",
   "execution_count": 35,
   "id": "4bbc7880",
   "metadata": {},
   "outputs": [
    {
     "data": {
      "text/plain": [
       "Index(['Jaipur', 'Mumbai', 'Kolkata', 'Chandigarh', 'Bengaluru'], dtype='object')"
      ]
     },
     "execution_count": 35,
     "metadata": {},
     "output_type": "execute_result"
    }
   ],
   "source": [
    "s2.index"
   ]
  },
  {
   "cell_type": "code",
   "execution_count": 36,
   "id": "43dbdd24",
   "metadata": {},
   "outputs": [
    {
     "data": {
      "text/plain": [
       "array(['Rajasthan', 'Maharashtra', 'West Bengal', 'Punjab', 'Karnataka'],\n",
       "      dtype=object)"
      ]
     },
     "execution_count": 36,
     "metadata": {},
     "output_type": "execute_result"
    }
   ],
   "source": [
    "s2.values"
   ]
  },
  {
   "cell_type": "code",
   "execution_count": 37,
   "id": "393f7cde",
   "metadata": {},
   "outputs": [
    {
     "data": {
      "text/plain": [
       "'Rajasthan'"
      ]
     },
     "execution_count": 37,
     "metadata": {},
     "output_type": "execute_result"
    }
   ],
   "source": [
    "s2[0]"
   ]
  },
  {
   "cell_type": "code",
   "execution_count": 38,
   "id": "d00aac99",
   "metadata": {},
   "outputs": [
    {
     "data": {
      "text/plain": [
       "'Rajasthan'"
      ]
     },
     "execution_count": 38,
     "metadata": {},
     "output_type": "execute_result"
    }
   ],
   "source": [
    "s2.loc['Jaipur']"
   ]
  },
  {
   "cell_type": "code",
   "execution_count": 39,
   "id": "cc63e816",
   "metadata": {},
   "outputs": [
    {
     "data": {
      "text/plain": [
       "'Rajasthan'"
      ]
     },
     "execution_count": 39,
     "metadata": {},
     "output_type": "execute_result"
    }
   ],
   "source": [
    "s2.iloc[0]"
   ]
  },
  {
   "cell_type": "code",
   "execution_count": 40,
   "id": "e9a0bf4c",
   "metadata": {},
   "outputs": [
    {
     "data": {
      "text/plain": [
       "Jaipur          Rajasthan\n",
       "Mumbai        Maharashtra\n",
       "Kolkata       West Bengal\n",
       "Chandigarh         Punjab\n",
       "Bengaluru       Karnataka\n",
       "Name: States and Capitals, dtype: object"
      ]
     },
     "execution_count": 40,
     "metadata": {},
     "output_type": "execute_result"
    }
   ],
   "source": [
    "s2.name = 'States and Capitals'\n",
    "s2"
   ]
  },
  {
   "cell_type": "code",
   "execution_count": 41,
   "id": "348f89ca",
   "metadata": {},
   "outputs": [
    {
     "data": {
      "text/plain": [
       "'States and Capitals'"
      ]
     },
     "execution_count": 41,
     "metadata": {},
     "output_type": "execute_result"
    }
   ],
   "source": [
    "s2.name"
   ]
  },
  {
   "cell_type": "code",
   "execution_count": 42,
   "id": "2915a8c0",
   "metadata": {},
   "outputs": [
    {
     "data": {
      "text/plain": [
       "Capitals\n",
       "Jaipur          Rajasthan\n",
       "Mumbai        Maharashtra\n",
       "Kolkata       West Bengal\n",
       "Chandigarh         Punjab\n",
       "Bengaluru       Karnataka\n",
       "Name: States and Capitals, dtype: object"
      ]
     },
     "execution_count": 42,
     "metadata": {},
     "output_type": "execute_result"
    }
   ],
   "source": [
    "s2.index.name = 'Capitals'\n",
    "s2"
   ]
  },
  {
   "cell_type": "code",
   "execution_count": 43,
   "id": "c099d4ca",
   "metadata": {},
   "outputs": [
    {
     "name": "stdout",
     "output_type": "stream",
     "text": [
      "Index(['Jaipur', 'Mumbai', 'Kolkata', 'Chandigarh', 'Bengaluru'], dtype='object', name='Capitals')\n",
      "['Rajasthan' 'Maharashtra' 'West Bengal' 'Punjab' 'Karnataka']\n",
      "object\n",
      "States and Capitals\n",
      "Capitals\n"
     ]
    }
   ],
   "source": [
    "print(s2.index)\n",
    "print(s2.values)\n",
    "print(s2.dtype)\n",
    "print(s2.name)\n",
    "print(s2.index.name)"
   ]
  },
  {
   "cell_type": "code",
   "execution_count": 44,
   "id": "c65fa9b3",
   "metadata": {},
   "outputs": [
    {
     "data": {
      "text/plain": [
       "Capitals\n",
       "Jaipur       Rajasthan\n",
       "Mumbai     Maharashtra\n",
       "Kolkata    West Bengal\n",
       "Name: States and Capitals, dtype: object"
      ]
     },
     "execution_count": 44,
     "metadata": {},
     "output_type": "execute_result"
    }
   ],
   "source": [
    "s2[['Jaipur','Mumbai','Kolkata']]"
   ]
  },
  {
   "cell_type": "code",
   "execution_count": 45,
   "id": "b2db13d4",
   "metadata": {},
   "outputs": [
    {
     "data": {
      "text/plain": [
       "Roll No\n",
       "101    88\n",
       "102    89\n",
       "103    93\n",
       "104    85\n",
       "105    96\n",
       "Name: Final Result, dtype: int64"
      ]
     },
     "execution_count": 45,
     "metadata": {},
     "output_type": "execute_result"
    }
   ],
   "source": [
    "roll_no = [101,102,103,104,105]\n",
    "result = [88,89,93,85,96]\n",
    "\n",
    "s3 = pd.Series(data = result, index = roll_no)\n",
    "s3.name = 'Final Result'\n",
    "s3.index.name = 'Roll No'\n",
    "s3"
   ]
  },
  {
   "cell_type": "code",
   "execution_count": 46,
   "id": "d27fd942",
   "metadata": {},
   "outputs": [
    {
     "data": {
      "text/plain": [
       "Capitals\n",
       "Jaipur          Rajasthan\n",
       "Mumbai        Maharashtra\n",
       "Kolkata       West Bengal\n",
       "Chandigarh         Punjab\n",
       "Bengaluru       Karnataka\n",
       "Name: States and Capitals, dtype: object"
      ]
     },
     "execution_count": 46,
     "metadata": {},
     "output_type": "execute_result"
    }
   ],
   "source": [
    "s2"
   ]
  },
  {
   "cell_type": "code",
   "execution_count": 47,
   "id": "c8649916",
   "metadata": {},
   "outputs": [
    {
     "data": {
      "text/plain": [
       "Jaipur       Rajasthan\n",
       "Kolkata    West Bengal\n",
       "Mumbai     Maharashtra\n",
       "Name: States and Capitals, dtype: object"
      ]
     },
     "execution_count": 47,
     "metadata": {},
     "output_type": "execute_result"
    }
   ],
   "source": [
    "capitals = ['Jaipur', 'Kolkata', 'Mumbai']\n",
    "s4 = pd.Series(data = s2, index = capitals)\n",
    "s4"
   ]
  },
  {
   "cell_type": "code",
   "execution_count": 48,
   "id": "e06a7dab",
   "metadata": {},
   "outputs": [
    {
     "data": {
      "text/plain": [
       "Jaipur       Rajasthan\n",
       "Kolkata    West Bengal\n",
       "Mumbai     Maharashtra\n",
       "Delhi              NaN\n",
       "Chennai            NaN\n",
       "Name: States and Capitals, dtype: object"
      ]
     },
     "execution_count": 48,
     "metadata": {},
     "output_type": "execute_result"
    }
   ],
   "source": [
    "capitals = ['Jaipur', 'Kolkata', 'Mumbai', 'Delhi','Chennai']\n",
    "s5 = pd.Series(data = s2, index = capitals)\n",
    "s5"
   ]
  },
  {
   "cell_type": "markdown",
   "id": "f699680e",
   "metadata": {},
   "source": [
    "## Functions"
   ]
  },
  {
   "cell_type": "code",
   "execution_count": 49,
   "id": "b8e497ca",
   "metadata": {},
   "outputs": [
    {
     "data": {
      "text/plain": [
       "Jaipur     False\n",
       "Kolkata    False\n",
       "Mumbai     False\n",
       "Delhi       True\n",
       "Chennai     True\n",
       "Name: States and Capitals, dtype: bool"
      ]
     },
     "execution_count": 49,
     "metadata": {},
     "output_type": "execute_result"
    }
   ],
   "source": [
    "s5.isnull()                               # Check for missing values"
   ]
  },
  {
   "cell_type": "code",
   "execution_count": 50,
   "id": "18d6826e",
   "metadata": {},
   "outputs": [
    {
     "data": {
      "text/plain": [
       "Jaipur      True\n",
       "Kolkata     True\n",
       "Mumbai      True\n",
       "Delhi      False\n",
       "Chennai    False\n",
       "Name: States and Capitals, dtype: bool"
      ]
     },
     "execution_count": 50,
     "metadata": {},
     "output_type": "execute_result"
    }
   ],
   "source": [
    "s5.notnull()"
   ]
  },
  {
   "cell_type": "code",
   "execution_count": 51,
   "id": "b006448f",
   "metadata": {},
   "outputs": [
    {
     "data": {
      "text/plain": [
       "2"
      ]
     },
     "execution_count": 51,
     "metadata": {},
     "output_type": "execute_result"
    }
   ],
   "source": [
    "s5.isnull().sum()"
   ]
  },
  {
   "cell_type": "code",
   "execution_count": 52,
   "id": "3197686a",
   "metadata": {},
   "outputs": [
    {
     "data": {
      "text/plain": [
       "Jaipur         Rajasthan\n",
       "Kolkata      West Bengal\n",
       "Mumbai       Maharashtra\n",
       "Delhi                NaN\n",
       "Chennai              NaN\n",
       "Bengaluru      Karnataka\n",
       "Name: States and Capitals, dtype: object"
      ]
     },
     "execution_count": 52,
     "metadata": {},
     "output_type": "execute_result"
    }
   ],
   "source": [
    "s5['Bengaluru'] = 'Karnataka'\n",
    "s5"
   ]
  },
  {
   "cell_type": "code",
   "execution_count": 53,
   "id": "82cbe182",
   "metadata": {},
   "outputs": [
    {
     "data": {
      "text/plain": [
       "Jaipur       Rajasthan\n",
       "Kolkata    West Bengal\n",
       "Mumbai     Maharashtra\n",
       "Delhi              NaN\n",
       "Chennai            NaN\n",
       "Name: States and Capitals, dtype: object"
      ]
     },
     "execution_count": 53,
     "metadata": {},
     "output_type": "execute_result"
    }
   ],
   "source": [
    "s5.head()"
   ]
  },
  {
   "cell_type": "code",
   "execution_count": 54,
   "id": "7c1de22a",
   "metadata": {},
   "outputs": [
    {
     "data": {
      "text/plain": [
       "Jaipur       Rajasthan\n",
       "Kolkata    West Bengal\n",
       "Mumbai     Maharashtra\n",
       "Name: States and Capitals, dtype: object"
      ]
     },
     "execution_count": 54,
     "metadata": {},
     "output_type": "execute_result"
    }
   ],
   "source": [
    "s5.head(3)"
   ]
  },
  {
   "cell_type": "code",
   "execution_count": 55,
   "id": "9a7d1b4f",
   "metadata": {},
   "outputs": [
    {
     "data": {
      "text/plain": [
       "Kolkata      West Bengal\n",
       "Mumbai       Maharashtra\n",
       "Delhi                NaN\n",
       "Chennai              NaN\n",
       "Bengaluru      Karnataka\n",
       "Name: States and Capitals, dtype: object"
      ]
     },
     "execution_count": 55,
     "metadata": {},
     "output_type": "execute_result"
    }
   ],
   "source": [
    "s5.tail()"
   ]
  },
  {
   "cell_type": "code",
   "execution_count": 56,
   "id": "155f59e9",
   "metadata": {},
   "outputs": [
    {
     "data": {
      "text/plain": [
       "Delhi              NaN\n",
       "Chennai            NaN\n",
       "Bengaluru    Karnataka\n",
       "Name: States and Capitals, dtype: object"
      ]
     },
     "execution_count": 56,
     "metadata": {},
     "output_type": "execute_result"
    }
   ],
   "source": [
    "s5.tail(3)"
   ]
  },
  {
   "cell_type": "code",
   "execution_count": 57,
   "id": "9bf69489",
   "metadata": {},
   "outputs": [
    {
     "data": {
      "text/plain": [
       "Jaipur         Rajasthan\n",
       "Kolkata      West Bengal\n",
       "Mumbai       Maharashtra\n",
       "Delhi                NaN\n",
       "Chennai              NaN\n",
       "Bengaluru      Karnataka\n",
       "Pune         Maharashtra\n",
       "Name: States and Capitals, dtype: object"
      ]
     },
     "execution_count": 57,
     "metadata": {},
     "output_type": "execute_result"
    }
   ],
   "source": [
    "s5['Pune'] = 'Maharashtra'\n",
    "s5"
   ]
  },
  {
   "cell_type": "code",
   "execution_count": 58,
   "id": "2ceceaf6",
   "metadata": {},
   "outputs": [
    {
     "data": {
      "text/plain": [
       "101      Rajasthan\n",
       "102    West Bengal\n",
       "103    Maharashtra\n",
       "104            NaN\n",
       "105            NaN\n",
       "106      Karnataka\n",
       "107    Maharashtra\n",
       "Name: States and Capitals, dtype: object"
      ]
     },
     "execution_count": 58,
     "metadata": {},
     "output_type": "execute_result"
    }
   ],
   "source": [
    "s5.index = range(101,108)\n",
    "s5"
   ]
  },
  {
   "cell_type": "code",
   "execution_count": 59,
   "id": "7b126ea0",
   "metadata": {},
   "outputs": [
    {
     "data": {
      "text/plain": [
       "101      Rajasthan\n",
       "102    West Bengal\n",
       "103    Maharashtra\n",
       "104            NaN\n",
       "105            NaN\n",
       "106      Karnataka\n",
       "107    Maharashtra\n",
       "108    Maharashtra\n",
       "109    Maharashtra\n",
       "Name: States and Capitals, dtype: object"
      ]
     },
     "execution_count": 59,
     "metadata": {},
     "output_type": "execute_result"
    }
   ],
   "source": [
    "s5[108] = 'Maharashtra'\n",
    "s5[109] = 'Maharashtra'\n",
    "s5"
   ]
  },
  {
   "cell_type": "code",
   "execution_count": 60,
   "id": "3827f5f8",
   "metadata": {},
   "outputs": [
    {
     "data": {
      "text/plain": [
       "101    False\n",
       "102    False\n",
       "103    False\n",
       "104    False\n",
       "105     True\n",
       "106    False\n",
       "107     True\n",
       "108     True\n",
       "109     True\n",
       "Name: States and Capitals, dtype: bool"
      ]
     },
     "execution_count": 60,
     "metadata": {},
     "output_type": "execute_result"
    }
   ],
   "source": [
    "s5.duplicated()                                   # Check for duplicate values"
   ]
  },
  {
   "cell_type": "code",
   "execution_count": 61,
   "id": "708feb7b",
   "metadata": {},
   "outputs": [
    {
     "data": {
      "text/plain": [
       "4"
      ]
     },
     "execution_count": 61,
     "metadata": {},
     "output_type": "execute_result"
    }
   ],
   "source": [
    "s5.duplicated().sum()"
   ]
  },
  {
   "cell_type": "code",
   "execution_count": null,
   "id": "2ea35fc0",
   "metadata": {},
   "outputs": [],
   "source": []
  }
 ],
 "metadata": {
  "kernelspec": {
   "display_name": "Python 3 (ipykernel)",
   "language": "python",
   "name": "python3"
  },
  "language_info": {
   "codemirror_mode": {
    "name": "ipython",
    "version": 3
   },
   "file_extension": ".py",
   "mimetype": "text/x-python",
   "name": "python",
   "nbconvert_exporter": "python",
   "pygments_lexer": "ipython3",
   "version": "3.9.7"
  }
 },
 "nbformat": 4,
 "nbformat_minor": 5
}
