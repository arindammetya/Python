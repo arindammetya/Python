{
 "cells": [
  {
   "cell_type": "code",
   "execution_count": null,
   "id": "76c3c153-64fd-4899-9670-b1929cbfb652",
   "metadata": {},
   "outputs": [],
   "source": [
    "Q1"
   ]
  },
  {
   "cell_type": "code",
   "execution_count": 1,
   "id": "f73eed0f-4b48-4b22-b8e4-2c47eed58a42",
   "metadata": {},
   "outputs": [
    {
     "name": "stdin",
     "output_type": "stream",
     "text": [
      "Enter the number of employees:  5\n",
      "Enter Employee ID:  1\n",
      "Enter Gender:  m\n",
      "Enter Salary:  100\n",
      "Enter Performance Rating (Out of 5):  1\n",
      "Enter Date of Joining (dd-mm-yyyy):  12-12-2020\n",
      "Enter Employee ID:  2\n",
      "Enter Gender:  f\n",
      "Enter Salary:  200\n",
      "Enter Performance Rating (Out of 5):  2\n",
      "Enter Date of Joining (dd-mm-yyyy):  12-12-2021\n",
      "Enter Employee ID:  3\n",
      "Enter Gender:  m\n",
      "Enter Salary:  300\n",
      "Enter Performance Rating (Out of 5):  3\n",
      "Enter Date of Joining (dd-mm-yyyy):  12-12-2021\n",
      "Enter Employee ID:  4\n",
      "Enter Gender:  f\n",
      "Enter Salary:  400\n",
      "Enter Performance Rating (Out of 5):  4\n",
      "Enter Date of Joining (dd-mm-yyyy):  12-12-1221\n",
      "Enter Employee ID:  5\n",
      "Enter Gender:  m\n",
      "Enter Salary:  500\n",
      "Enter Performance Rating (Out of 5):  5\n",
      "Enter Date of Joining (dd-mm-yyyy):  13-11-2020\n"
     ]
    },
    {
     "name": "stdout",
     "output_type": "stream",
     "text": [
      "\n",
      "Top 3 Employees based on Performance Rating (sorted by Date of Joining):\n",
      "\n",
      "EmployeeID: 5, Gender: m, Salary: 500, Performance Rating: 5, Date of Joining: 13-11-2020\n",
      "EmployeeID: 4, Gender: f, Salary: 400, Performance Rating: 4, Date of Joining: 12-12-1221\n",
      "EmployeeID: 3, Gender: m, Salary: 300, Performance Rating: 3, Date of Joining: 12-12-2021\n"
     ]
    }
   ],
   "source": [
    "from datetime import datetime\n",
    "\n",
    "# Employee class to store employee data\n",
    "class Employee:\n",
    "    def __init__(self):\n",
    "        self.EmployeeID = None\n",
    "        self.Gender = None\n",
    "        self.Salary = None\n",
    "        self.PerformanceRating = None\n",
    "\n",
    "    def get(self):\n",
    "        self.EmployeeID = input(\"Enter Employee ID: \")\n",
    "        self.Gender = input(\"Enter Gender: \")\n",
    "        self.Salary = int(input(\"Enter Salary: \"))\n",
    "        self.PerformanceRating = int(input(\"Enter Performance Rating (Out of 5): \"))\n",
    "\n",
    "\n",
    "# JoiningDetail class to store Date of Joining\n",
    "class JoiningDetail:\n",
    "    def __init__(self):\n",
    "        self.DateOfJoining = None\n",
    "\n",
    "    def getDoJ(self):\n",
    "        date_str = input(\"Enter Date of Joining (dd-mm-yyyy): \")\n",
    "        self.DateOfJoining = datetime.strptime(date_str, \"%d-%m-%Y\")\n",
    "\n",
    "\n",
    "# Information class inheriting from Employee and JoiningDetail\n",
    "class Information(Employee, JoiningDetail):\n",
    "    def __init__(self):\n",
    "        Employee.__init__(self)\n",
    "        JoiningDetail.__init__(self)\n",
    "\n",
    "    # Function to read data for all employees\n",
    "    @staticmethod\n",
    "    def readData(employees):\n",
    "        print(\"\\nTop 3 Employees based on Performance Rating (sorted by Date of Joining):\\n\")\n",
    "        for employee in employees:\n",
    "            print(f\"EmployeeID: {employee['EmployeeID']}, Gender: {employee['Gender']}, \"\n",
    "                  f\"Salary: {employee['Salary']}, Performance Rating: {employee['PerformanceRating']}, \"\n",
    "                  f\"Date of Joining: {employee['DateOfJoining'].strftime('%d-%m-%Y')}\")\n",
    "\n",
    "    # Function to get the top 3 employees based on ratings and sort by Date of Joining\n",
    "    @staticmethod\n",
    "    def top3Employees(employees):\n",
    "        # Sorting by performance rating (descending) first and then by date of joining (ascending)\n",
    "        employees_sorted = sorted(employees, key=lambda x: (-x['PerformanceRating'], x['DateOfJoining']))\n",
    "        # Selecting top 3 employees\n",
    "        return employees_sorted[:3]\n",
    "\n",
    "\n",
    "# Main program to create employee data\n",
    "def main():\n",
    "    num_employees = int(input(\"Enter the number of employees: \"))\n",
    "    employee_list = []\n",
    "\n",
    "    # Collecting data for each employee\n",
    "    for i in range(num_employees):\n",
    "        emp = Information()\n",
    "        emp.get()\n",
    "        emp.getDoJ()\n",
    "        employee_data = {\n",
    "            \"EmployeeID\": emp.EmployeeID,\n",
    "            \"Gender\": emp.Gender,\n",
    "            \"Salary\": emp.Salary,\n",
    "            \"PerformanceRating\": emp.PerformanceRating,\n",
    "            \"DateOfJoining\": emp.DateOfJoining\n",
    "        }\n",
    "        employee_list.append(employee_data)\n",
    "\n",
    "    # Get top 3 employees\n",
    "    top_employees = Information.top3Employees(employee_list)\n",
    "\n",
    "    ##top_employees\n",
    "    \n",
    "    # Displaying the top 3 employees sorted by Date of Joining\n",
    "    Information.readData(top_employees)\n",
    "\n",
    "\n",
    "# Run the program\n",
    "if __name__ == \"__main__\":\n",
    "    main()\n"
   ]
  },
  {
   "cell_type": "code",
   "execution_count": null,
   "id": "6af19ed6-a63b-481e-9936-74cc21b24cd5",
   "metadata": {},
   "outputs": [],
   "source": [
    "Q2"
   ]
  },
  {
   "cell_type": "code",
   "execution_count": 7,
   "id": "ee176961-e790-4b77-8608-fee02922c31d",
   "metadata": {},
   "outputs": [
    {
     "name": "stdin",
     "output_type": "stream",
     "text": [
      "Enter Bus fare:  10\n",
      "Enter Car fare:  10\n",
      "Enter Train fare:  10\n",
      "Enter Truck fare:  10\n",
      "Enter Ship fare:  10\n"
     ]
    },
    {
     "name": "stdout",
     "output_type": "stream",
     "text": [
      "The Total Fare for all vehicle types is: 50\n"
     ]
    }
   ],
   "source": [
    "# Vehicle class with a parameterized function Fare\n",
    "class Vehicle:\n",
    "    def Fare(self, fare):\n",
    "        return fare\n",
    "\n",
    "# Main program to create vehicle objects and calculate the total fare\n",
    "def main():\n",
    "    # Creating a Vehicle object\n",
    "    vehicle = Vehicle()\n",
    "\n",
    "    # Calling the Fare function for different vehicle types\n",
    "    Bus_fare = vehicle.Fare(int(input(\"Enter Bus fare: \")))\n",
    "    Car_fare = vehicle.Fare(int(input(\"Enter Car fare: \")))\n",
    "    Train_fare = vehicle.Fare(int(input(\"Enter Train fare: \")))\n",
    "    Truck_fare = vehicle.Fare(int(input(\"Enter Truck fare: \")))\n",
    "    Ship_fare = vehicle.Fare(int(input(\"Enter Ship fare: \")))\n",
    "\n",
    "    # Calculating the total fare\n",
    "    TotalFare = Bus_fare + Car_fare + Train_fare + Truck_fare + Ship_fare\n",
    "\n",
    "    # Printing the Total Fare\n",
    "    print(f\"The Total Fare for all vehicle types is: {TotalFare}\")\n",
    "\n",
    "# Running the program\n",
    "if __name__ == \"__main__\":\n",
    "    main()\n"
   ]
  },
  {
   "cell_type": "code",
   "execution_count": null,
   "id": "e4cf0772-4fc1-46e3-8e63-57329b0277fc",
   "metadata": {},
   "outputs": [],
   "source": [
    "Q3"
   ]
  },
  {
   "cell_type": "code",
   "execution_count": 15,
   "id": "ec77d67c-9d25-4c03-a720-76b10d5d6b4a",
   "metadata": {},
   "outputs": [
    {
     "name": "stdout",
     "output_type": "stream",
     "text": [
      "('Balaji', 285)\n"
     ]
    }
   ],
   "source": [
    "def Max_Score(M):\n",
    "    # Dictionary to store total scores of each player\n",
    "    total_scores = {}\n",
    "\n",
    "    # Iterate through each test match in the dictionary\n",
    "    for match in M.values():\n",
    "        for player, score in match.items():\n",
    "            # Accumulate the score for each player\n",
    "            if player in total_scores:\n",
    "                total_scores[player] += score\n",
    "            else:\n",
    "                total_scores[player] = score\n",
    "                \n",
    "    #print(total_scores);\n",
    "    # Find the player with the highest total score\n",
    "    top_player = max(total_scores, key=total_scores.get)\n",
    "    #print(top_player);\n",
    "    top_score = total_scores[top_player]\n",
    "\n",
    "    return (top_player, top_score)\n",
    "\n",
    "# Test input\n",
    "M = {\n",
    "    'test1': {'Dhoni': 56, 'Balaji': 85},\n",
    "    'test2': {'Dhoni': 87, 'Balaji': 200}\n",
    "}\n",
    "\n",
    "# Get the top player and their total score\n",
    "result = Max_Score(M)\n",
    "print(result)  # Output: ('Balaji', 285)\n"
   ]
  },
  {
   "cell_type": "code",
   "execution_count": null,
   "id": "f3477db1-9aca-4d05-a3fe-a4c817c74710",
   "metadata": {},
   "outputs": [],
   "source": [
    "Q4"
   ]
  },
  {
   "cell_type": "code",
   "execution_count": 17,
   "id": "e9c0dc39-9ad4-4245-8c9f-2b1d0a38dd2c",
   "metadata": {},
   "outputs": [
    {
     "name": "stdout",
     "output_type": "stream",
     "text": [
      "Welcome to the Card Game!\n",
      "You will be guessing if the next card is higher or lower than the current card.\n",
      "Scoring: +20 points for a correct guess, -15 points for an incorrect guess.\n",
      "The current card is: 2\n"
     ]
    },
    {
     "name": "stdin",
     "output_type": "stream",
     "text": [
      "Will the next card be higher or lower? (Enter 'higher' or 'lower'):  higher\n"
     ]
    },
    {
     "name": "stdout",
     "output_type": "stream",
     "text": [
      "The next card is: 5\n",
      "Correct guess!\n",
      "Your current score is: 20\n"
     ]
    },
    {
     "name": "stdin",
     "output_type": "stream",
     "text": [
      "Will the next card be higher or lower? (Enter 'higher' or 'lower'):  higher\n"
     ]
    },
    {
     "name": "stdout",
     "output_type": "stream",
     "text": [
      "The next card is: 5\n",
      "Incorrect guess!\n",
      "Your current score is: 5\n"
     ]
    },
    {
     "name": "stdin",
     "output_type": "stream",
     "text": [
      "Will the next card be higher or lower? (Enter 'higher' or 'lower'):  higher\n"
     ]
    },
    {
     "name": "stdout",
     "output_type": "stream",
     "text": [
      "The next card is: 10\n",
      "Correct guess!\n",
      "Your current score is: 25\n"
     ]
    },
    {
     "name": "stdin",
     "output_type": "stream",
     "text": [
      "Will the next card be higher or lower? (Enter 'higher' or 'lower'):  lower\n"
     ]
    },
    {
     "name": "stdout",
     "output_type": "stream",
     "text": [
      "The next card is: 5\n",
      "Correct guess!\n",
      "Your current score is: 45\n"
     ]
    },
    {
     "name": "stdin",
     "output_type": "stream",
     "text": [
      "Will the next card be higher or lower? (Enter 'higher' or 'lower'):  higher\n"
     ]
    },
    {
     "name": "stdout",
     "output_type": "stream",
     "text": [
      "The next card is: 7\n",
      "Correct guess!\n",
      "Your current score is: 65\n"
     ]
    },
    {
     "name": "stdin",
     "output_type": "stream",
     "text": [
      "Will the next card be higher or lower? (Enter 'higher' or 'lower'):  higher\n"
     ]
    },
    {
     "name": "stdout",
     "output_type": "stream",
     "text": [
      "The next card is: 4\n",
      "Incorrect guess!\n",
      "Your current score is: 50\n"
     ]
    },
    {
     "name": "stdin",
     "output_type": "stream",
     "text": [
      "Will the next card be higher or lower? (Enter 'higher' or 'lower'):  higher\n"
     ]
    },
    {
     "name": "stdout",
     "output_type": "stream",
     "text": [
      "The next card is: 14\n",
      "Correct guess!\n",
      "Your current score is: 70\n",
      "Game Over!\n",
      "Your final score is: 70\n"
     ]
    }
   ],
   "source": [
    "import random\n",
    "\n",
    "def create_deck():\n",
    "    \"\"\"Creates a standard deck of cards (values only).\"\"\"\n",
    "    return [2, 3, 4, 5, 6, 7, 8, 9, 10, 11, 12, 13, 14] * 4  # 2 to 14 (11 = Jack, 12 = Queen, 13 = King, 14 = Ace)\n",
    "\n",
    "def play_game():\n",
    "    deck = create_deck()\n",
    "    random.shuffle(deck)  # Shuffle the deck\n",
    "    score = 0\n",
    "\n",
    "    print(\"Welcome to the Card Game!\")\n",
    "    print(\"You will be guessing if the next card is higher or lower than the current card.\")\n",
    "    print(\"Scoring: +20 points for a correct guess, -15 points for an incorrect guess.\")\n",
    "    \n",
    "    current_card = deck.pop()  # Show the first card\n",
    "    print(f\"The current card is: {current_card}\")\n",
    "\n",
    "    for i in range(7):  # Only 7 more cards to draw\n",
    "        guess = input(\"Will the next card be higher or lower? (Enter 'higher' or 'lower'): \").strip().lower()\n",
    "        \n",
    "        next_card = deck.pop()\n",
    "        print(f\"The next card is: {next_card}\")\n",
    "\n",
    "        if (guess == 'higher' and next_card > current_card) or (guess == 'lower' and next_card < current_card):\n",
    "            print(\"Correct guess!\")\n",
    "            score += 20\n",
    "        else:\n",
    "            print(\"Incorrect guess!\")\n",
    "            score -= 15\n",
    "        \n",
    "        # Update current card\n",
    "        current_card = next_card\n",
    "\n",
    "        # Check for score state\n",
    "        print(f\"Your current score is: {score}\")\n",
    "\n",
    "    print(\"Game Over!\")\n",
    "    print(f\"Your final score is: {score}\")\n",
    "\n",
    "# Run the game\n",
    "if __name__ == \"__main__\":\n",
    "    play_game()\n"
   ]
  },
  {
   "cell_type": "code",
   "execution_count": null,
   "id": "04ade51c-db09-4a01-b6bd-a446560eaed6",
   "metadata": {},
   "outputs": [],
   "source": [
    "Q5"
   ]
  },
  {
   "cell_type": "code",
   "execution_count": 23,
   "id": "cb514fa2-8204-4142-9fea-cd00bcb6023f",
   "metadata": {},
   "outputs": [
    {
     "name": "stdout",
     "output_type": "stream",
     "text": [
      "Modified Car_0 dictionary: {'x_position': 19, 'y_position': 72, 'speed': 'medium'}\n"
     ]
    }
   ],
   "source": [
    "#Create an empty dictionary\n",
    "Car_0 = {}\n",
    "\n",
    "#Fill the dictionary with keys and initial values\n",
    "Car_0 = {\n",
    "    'x_position': 10,\n",
    "    'y_position': 72,\n",
    "    'speed': 'medium',\n",
    "}\n",
    "\n",
    "#Modify x_position based on speed\n",
    "if Car_0['speed'].lower() == 'slow':\n",
    "    Car_0['x_position'] += 2\n",
    "elif Car_0['speed'].lower() == 'medium':\n",
    "    Car_0['x_position'] += 9\n",
    "elif Car_0['speed'].lower() == 'fast':\n",
    "    Car_0['x_position'] += 22\n",
    "\n",
    "print(\"Modified Car_0 dictionary:\", Car_0)\n"
   ]
  },
  {
   "cell_type": "code",
   "execution_count": null,
   "id": "e59f3e14-ae66-4d5c-beff-7e9d8d758778",
   "metadata": {},
   "outputs": [],
   "source": [
    "Q6"
   ]
  },
  {
   "cell_type": "code",
   "execution_count": 25,
   "id": "c17575be-1a6f-4e5c-b94d-eb3d7360b8d9",
   "metadata": {},
   "outputs": [
    {
     "name": "stdout",
     "output_type": "stream",
     "text": [
      "Rectangle Area: 50\n",
      "Rectangle Perimeter: 30\n",
      "Circle Area: 153.86\n",
      "Circle Perimeter: 43.96\n"
     ]
    }
   ],
   "source": [
    "from abc import ABC, abstractmethod\n",
    "\n",
    "#Create an abstract class\n",
    "class Shape(ABC):\n",
    "    @abstractmethod\n",
    "    def area(self):\n",
    "        \"\"\"Calculate the area of the shape.\"\"\"\n",
    "        pass\n",
    "\n",
    "    @abstractmethod\n",
    "    def perimeter(self):\n",
    "        \"\"\"Calculate the perimeter of the shape.\"\"\"\n",
    "        pass\n",
    "\n",
    "\n",
    "#abstraction with other classes\n",
    "class Rectangle(Shape):\n",
    "    def __init__(self, width, height):\n",
    "        self.width = width\n",
    "        self.height = height\n",
    "\n",
    "    def area(self):\n",
    "        return self.width * self.height\n",
    "\n",
    "    def perimeter(self):\n",
    "        return 2 * (self.width + self.height)\n",
    "\n",
    "\n",
    "class Circle(Shape):\n",
    "    def __init__(self, radius):\n",
    "        self.radius = radius\n",
    "\n",
    "    def area(self):\n",
    "        return 3.14 * (self.radius ** 2)  # Using 3.14 as an approximation of π\n",
    "\n",
    "    def perimeter(self):\n",
    "        return 2 * 3.14 * self.radius\n",
    "\n",
    "\n",
    "# Demonstration\n",
    "def main():\n",
    "    #instances of Rectangle and Circle\n",
    "    rectangle = Rectangle(5, 10)\n",
    "    circle = Circle(7)\n",
    "\n",
    "    # Calculate and print area and perimeter for both shapes\n",
    "    print(\"Rectangle Area:\", rectangle.area())\n",
    "    print(\"Rectangle Perimeter:\", rectangle.perimeter())\n",
    "    \n",
    "    print(\"Circle Area:\", circle.area())\n",
    "    print(\"Circle Perimeter:\", circle.perimeter())\n",
    "\n",
    "\n",
    "# Run the demonstration\n",
    "if __name__ == \"__main__\":\n",
    "    main()\n"
   ]
  },
  {
   "cell_type": "code",
   "execution_count": null,
   "id": "5c9e21ea-c96f-44a3-9a42-cb66f3aa0552",
   "metadata": {},
   "outputs": [],
   "source": [
    "Q7"
   ]
  },
  {
   "cell_type": "code",
   "execution_count": 33,
   "id": "adfcd330-7a2e-4488-8860-a0f20e189a83",
   "metadata": {},
   "outputs": [
    {
     "name": "stdout",
     "output_type": "stream",
     "text": [
      "Ramboo says Woof! and is a German Shephard.\n",
      "Coco says Meow! and is a Desi.\n"
     ]
    }
   ],
   "source": [
    "class Animal:\n",
    "    def __init__(self, name):\n",
    "        self.__name = name  # Private member\n",
    "    @abstractmethod\n",
    "    def sound(self):\n",
    "        pass\n",
    "\n",
    "    def get_name(self):\n",
    "        return self.__name  # Accessing private member through a public method\n",
    "\n",
    "\n",
    "class Dog(Animal):\n",
    "    def __init__(self, name):\n",
    "        super().__init__(name)\n",
    "        self._breed = \"German Shephard\"  # Protected member\n",
    "\n",
    "    def sound(self):\n",
    "        return \"Woof!\"\n",
    "\n",
    "    def get_breed(self):\n",
    "        return self._breed  # Accessing protected member\n",
    "\n",
    "\n",
    "class Cat(Animal):\n",
    "    def __init__(self, name):\n",
    "        super().__init__(name)\n",
    "        self._breed = \"Desi\"  # Protected member\n",
    "\n",
    "    def sound(self):\n",
    "        return \"Meow!\"\n",
    "\n",
    "    def get_breed(self):\n",
    "        return self._breed  # Accessing protected member\n",
    "\n",
    "\n",
    "# Demonstration of polymorphism and access to members\n",
    "def main():\n",
    "    # Creating instances of Dog and Cat\n",
    "    dog = Dog(\"Ramboo\")\n",
    "    cat = Cat(\"Coco\")\n",
    "\n",
    "    # List of animals for polymorphic behavior\n",
    "    animals = [dog, cat]\n",
    "\n",
    "    for animal in animals:\n",
    "        print(f\"{animal.get_name()} says {animal.sound()} and is a {animal.get_breed()}.\")\n",
    "\n",
    "# Run the demonstration\n",
    "if __name__ == \"__main__\":\n",
    "    main()\n"
   ]
  },
  {
   "cell_type": "code",
   "execution_count": null,
   "id": "0d16090b-0535-4931-be53-72ee7691024f",
   "metadata": {},
   "outputs": [],
   "source": [
    "Q8"
   ]
  },
  {
   "cell_type": "code",
   "execution_count": 35,
   "id": "84c6dd13-1f55-45ec-8c2e-5fbad4c3b57f",
   "metadata": {},
   "outputs": [
    {
     "name": "stdout",
     "output_type": "stream",
     "text": [
      "Original numbers: [1, 2, 3, 4, 5, 6, 7, 8, 9, 10, 11, 12, 13, 14, 15, 16, 17, 18, 19, 20, 21, 22, 23, 24, 25, 26, 27, 28, 29, 30, 31, 32, 33, 34, 35, 36, 37, 38, 39, 40, 41, 42, 43, 44, 45, 46, 47, 48, 49, 50]\n",
      "Squared numbers: [1, 4, 9, 16, 25, 36, 49, 64, 81, 100, 121, 144, 169, 196, 225, 256, 289, 324, 361, 400, 441, 484, 529, 576, 625, 676, 729, 784, 841, 900, 961, 1024, 1089, 1156, 1225, 1296, 1369, 1444, 1521, 1600, 1681, 1764, 1849, 1936, 2025, 2116, 2209, 2304, 2401, 2500]\n",
      "Squared even numbers: [4, 16, 36, 64, 100, 144, 196, 256, 324, 400, 484, 576, 676, 784, 900, 1024, 1156, 1296, 1444, 1600, 1764, 1936, 2116, 2304, 2500]\n"
     ]
    }
   ],
   "source": [
    "def square_elements(numbers):\n",
    "    \"\"\"Return the square of each element in the given list.\"\"\"\n",
    "    return list(map(lambda x: x ** 2, numbers))\n",
    "\n",
    "def square_even_elements(numbers):\n",
    "    \"\"\"Return the square of even elements in the given list.\"\"\"\n",
    "    even_numbers = filter(lambda x: x % 2 == 0, numbers)  # Filter even numbers\n",
    "    return list(map(lambda x: x ** 2, even_numbers))\n",
    "\n",
    "# Create a list of natural numbers from 1 to 50\n",
    "natural_numbers = list(range(1, 51))\n",
    "\n",
    "# Get the squares of the natural numbers\n",
    "squared_numbers = square_elements(natural_numbers)\n",
    "\n",
    "# Get the squares of even natural numbers\n",
    "squared_even_numbers = square_even_elements(natural_numbers)\n",
    "\n",
    "# Print the original and squared numbers\n",
    "print(\"Original numbers:\", natural_numbers)\n",
    "print(\"Squared numbers:\", squared_numbers)\n",
    "print(\"Squared even numbers:\", squared_even_numbers)"
   ]
  },
  {
   "cell_type": "code",
   "execution_count": null,
   "id": "a5a94957-2827-468b-b421-067653682d51",
   "metadata": {},
   "outputs": [],
   "source": [
    "Q9"
   ]
  },
  {
   "cell_type": "code",
   "execution_count": 37,
   "id": "a2dcc4a4-30eb-4ea2-b10c-7e5428190608",
   "metadata": {},
   "outputs": [
    {
     "name": "stdout",
     "output_type": "stream",
     "text": [
      "Angles of the triangle are: 60, 70, 50\n",
      "This is a valid triangle.\n"
     ]
    }
   ],
   "source": [
    "class Triangle:\n",
    "    def __init__(self, angle1, angle2, angle3):\n",
    "        self.angle1 = angle1\n",
    "        self.angle2 = angle2\n",
    "        self.angle3 = angle3\n",
    "\n",
    "    def is_valid_triangle(self):\n",
    "        #if the angles form a valid triangle.\n",
    "        return self.angle1 + self.angle2 + self.angle3 == 180\n",
    "\n",
    "    def display_angles(self):\n",
    "        #Display the angles of the triangle.\n",
    "        return f\"Angles of the triangle are: {self.angle1}, {self.angle2}, {self.angle3}\"\n",
    "\n",
    "# Example usage\n",
    "if __name__ == \"__main__\":\n",
    "    # Create a Triangle instance\n",
    "    triangle = Triangle(60, 70, 50)\n",
    "\n",
    "    # Display the angles\n",
    "    print(triangle.display_angles())\n",
    "\n",
    "    # Check if the triangle is valid\n",
    "    if triangle.is_valid_triangle():\n",
    "        print(\"This is a valid triangle.\")\n",
    "    else:\n",
    "        print(\"This is not a valid triangle.\")\n"
   ]
  },
  {
   "cell_type": "code",
   "execution_count": null,
   "id": "68d00967-c7ad-46e9-b641-723f672cc27e",
   "metadata": {},
   "outputs": [],
   "source": [
    "Q10"
   ]
  },
  {
   "cell_type": "code",
   "execution_count": 39,
   "id": "de0b09b9-0128-4471-8022-fd9c1518cad1",
   "metadata": {},
   "outputs": [
    {
     "name": "stdout",
     "output_type": "stream",
     "text": [
      "Angles of the triangle are: 60, 70, 50\n",
      "This is a valid triangle.\n",
      "A triangle has 3 sides.\n"
     ]
    }
   ],
   "source": [
    "class Triangle:\n",
    "\n",
    "    # Class variable\n",
    "    number_of_sides = 3\n",
    "    \n",
    "    def __init__(self, angle1, angle2, angle3):\n",
    "        self.angle1 = angle1\n",
    "        self.angle2 = angle2\n",
    "        self.angle3 = angle3\n",
    "\n",
    "    def is_valid_triangle(self):\n",
    "        #if the angles form a valid triangle.\n",
    "        return self.angle1 + self.angle2 + self.angle3 == 180\n",
    "\n",
    "    def display_angles(self):\n",
    "        #Display the angles of the triangle.\n",
    "        return f\"Angles of the triangle are: {self.angle1}, {self.angle2}, {self.angle3}\"\n",
    "\n",
    "# Example usage\n",
    "if __name__ == \"__main__\":\n",
    "    # Create a Triangle instance\n",
    "    triangle = Triangle(60, 70, 50)\n",
    "\n",
    "    # Display the angles\n",
    "    print(triangle.display_angles())\n",
    "\n",
    "    # Check if the triangle is valid\n",
    "    if triangle.is_valid_triangle():\n",
    "        print(\"This is a valid triangle.\")\n",
    "    else:\n",
    "        print(\"This is not a valid triangle.\")\n",
    "\n",
    "\n",
    "print(f\"A triangle has {Triangle.number_of_sides} sides.\")\n"
   ]
  },
  {
   "cell_type": "code",
   "execution_count": null,
   "id": "3b02bbe2-d1a0-48e1-8625-d004a40788fd",
   "metadata": {},
   "outputs": [],
   "source": [
    "Q11"
   ]
  },
  {
   "cell_type": "code",
   "execution_count": 43,
   "id": "d7dfab1f-2fa5-4586-a153-dcb6b9009c1c",
   "metadata": {},
   "outputs": [
    {
     "name": "stdout",
     "output_type": "stream",
     "text": [
      "The angles belong to a triangle.\n",
      "Is the triangle acute? True\n",
      "Is the triangle obtuse? False\n",
      "Is the isosceles triangle? True\n",
      "Is the right triangle? True\n",
      "Is the equilateral triangle? True\n"
     ]
    }
   ],
   "source": [
    "class Triangle:\n",
    "    # Class variable\n",
    "    number_of_sides = 3\n",
    "\n",
    "    def __init__(self, angle1, angle2, angle3):\n",
    "        self.angle1 = angle1\n",
    "        self.angle2 = angle2\n",
    "        self.angle3 = angle3\n",
    "\n",
    "    def check_angles(self):\n",
    "        #Check if the sum of the angles is equal to 180.\n",
    "        total = self.angle1 + self.angle2 + self.angle3\n",
    "        if total == 180:\n",
    "            #print(\"The angles belong to a triangle.\")\n",
    "            return True\n",
    "        else:\n",
    "            #print(\"The angles do not belong to a triangle.\")\n",
    "            return False\n",
    "\n",
    "    def is_acute(self):\n",
    "        #Check if the triangle is an acute triangle\n",
    "        if self.check_angles():\n",
    "            return all(angle < 90 for angle in [self.angle1, self.angle2, self.angle3])\n",
    "        return False\n",
    "\n",
    "    def is_obtuse(self):\n",
    "        #Check if the triangle is an obtuse triangle\n",
    "        if self.check_angles():\n",
    "            return any(angle > 90 for angle in [self.angle1, self.angle2, self.angle3])\n",
    "        return False\n",
    "\n",
    "\n",
    "class IsoscelesTriangle(Triangle):\n",
    "    def __init__(self, angle1, angle2, angle3):\n",
    "        super().__init__(angle1, angle2, angle3)\n",
    "\n",
    "    def is_isosceles(self):\n",
    "        #Check if the triangle is isosceles\n",
    "        return self.angle1 == self.angle2 or self.angle2 == self.angle3 or self.angle1 == self.angle3\n",
    "\n",
    "\n",
    "class RightTriangle(Triangle):\n",
    "    def __init__(self, angle1, angle2, angle3):\n",
    "        super().__init__(angle1, angle2, angle3)\n",
    "\n",
    "    def is_right(self):\n",
    "        #Check if the triangle is a right triangle\n",
    "        return 90 in [self.angle1, self.angle2, self.angle3]\n",
    "\n",
    "\n",
    "class EquilateralTriangle(Triangle):\n",
    "    def __init__(self, angle1, angle2, angle3):\n",
    "        super().__init__(angle1, angle2, angle3)\n",
    "\n",
    "    def is_equilateral(self):\n",
    "        #Check if the triangle is equilateral\n",
    "        return self.angle1 == self.angle2 == self.angle3 == 60\n",
    "\n",
    "\n",
    "# Example usage\n",
    "if __name__ == \"__main__\":\n",
    "    # Create an instance of the Triangle class\n",
    "    triangle = Triangle(60, 70, 50)\n",
    "\n",
    "    # Check angles and type of triangle\n",
    "    if(triangle.check_angles()):\n",
    "        print(\"The angles belong to a triangle.\")\n",
    "    else:\n",
    "        print(\"The angles do not belong to a triangle.\")\n",
    "        \n",
    "    print(f\"Is the triangle acute? {triangle.is_acute()}\")\n",
    "    print(f\"Is the triangle obtuse? {triangle.is_obtuse()}\")\n",
    "\n",
    "    # Create an IsoscelesTriangle instance\n",
    "    isosceles_triangle = IsoscelesTriangle(70, 70, 40)\n",
    "    print(f\"Is the isosceles triangle? {isosceles_triangle.is_isosceles()}\")\n",
    "\n",
    "    # Create a RightTriangle instance\n",
    "    right_triangle = RightTriangle(90, 45, 45)\n",
    "    print(f\"Is the right triangle? {right_triangle.is_right()}\")\n",
    "\n",
    "    # Create an EquilateralTriangle instance\n",
    "    equilateral_triangle = EquilateralTriangle(60, 60, 60)\n",
    "    print(f\"Is the equilateral triangle? {equilateral_triangle.is_equilateral()}\")\n"
   ]
  },
  {
   "cell_type": "code",
   "execution_count": null,
   "id": "74beecf5-9d5a-4c42-8aeb-bd31a5f5e36a",
   "metadata": {},
   "outputs": [],
   "source": [
    "Q12"
   ]
  },
  {
   "cell_type": "code",
   "execution_count": 45,
   "id": "b6c83fe2-4a79-4247-a9b0-96d13eff8cb1",
   "metadata": {},
   "outputs": [
    {
     "name": "stdout",
     "output_type": "stream",
     "text": [
      "Is the isosceles right triangle isosceles? True\n",
      "Is the isosceles right triangle right? True\n",
      "Is the isosceles right triangle isosceles right? True\n"
     ]
    }
   ],
   "source": [
    "class Triangle:\n",
    "    # Class variable\n",
    "    number_of_sides = 3\n",
    "\n",
    "    def __init__(self, angle1, angle2, angle3):\n",
    "        self.angle1 = angle1\n",
    "        self.angle2 = angle2\n",
    "        self.angle3 = angle3\n",
    "\n",
    "    def check_angles(self):\n",
    "        #Check if the sum of the angles is equal to 180\n",
    "        total = self.angle1 + self.angle2 + self.angle3\n",
    "        if total == 180:\n",
    "            #print(\"The angles belong to a triangle.\")\n",
    "            return True\n",
    "        else:\n",
    "            #print(\"The angles do not belong to a triangle.\")\n",
    "            return False\n",
    "\n",
    "    def is_acute(self):\n",
    "        #Check if the triangle is an acute triangle\n",
    "        if self.check_angles():\n",
    "            return all(angle < 90 for angle in [self.angle1, self.angle2, self.angle3])\n",
    "        return False\n",
    "\n",
    "    def is_obtuse(self):\n",
    "        #Check if the triangle is an obtuse triangle\n",
    "        if self.check_angles():\n",
    "            return any(angle > 90 for angle in [self.angle1, self.angle2, self.angle3])\n",
    "        return False\n",
    "\n",
    "\n",
    "class IsoscelesTriangle(Triangle):\n",
    "    def __init__(self, angle1, angle2, angle3):\n",
    "        super().__init__(angle1, angle2, angle3)\n",
    "\n",
    "    def is_isosceles(self):\n",
    "        #Check if the triangle is isosceles\n",
    "        return self.angle1 == self.angle2 or self.angle2 == self.angle3 or self.angle1 == self.angle3\n",
    "\n",
    "\n",
    "class RightTriangle(Triangle):\n",
    "    def __init__(self, angle1, angle2, angle3):\n",
    "        super().__init__(angle1, angle2, angle3)\n",
    "\n",
    "    def is_right(self):\n",
    "        #Check if the triangle is a right triangle\n",
    "        return 90 in [self.angle1, self.angle2, self.angle3]\n",
    "\n",
    "\n",
    "class IsoscelesRightTriangle(IsoscelesTriangle, RightTriangle):\n",
    "    def __init__(self, angle1, angle2, angle3):\n",
    "        super().__init__(angle1, angle2, angle3)\n",
    "\n",
    "    def is_isosceles_right(self):\n",
    "        #Check if the triangle is an isosceles right triangle\n",
    "        return self.is_isosceles() and self.is_right()\n",
    "\n",
    "\n",
    "# Example usage\n",
    "if __name__ == \"__main__\":\n",
    "    # Create an instance of the IsoscelesRightTriangle class\n",
    "    isosceles_right_triangle = IsoscelesRightTriangle(45, 45, 90)\n",
    "\n",
    "    # Check angles and properties\n",
    "    isosceles_right_triangle.check_angles()\n",
    "    print(f\"Is the isosceles right triangle isosceles? {isosceles_right_triangle.is_isosceles()}\")\n",
    "    print(f\"Is the isosceles right triangle right? {isosceles_right_triangle.is_right()}\")\n",
    "    print(f\"Is the isosceles right triangle isosceles right? {isosceles_right_triangle.is_isosceles_right()}\")\n"
   ]
  },
  {
   "cell_type": "code",
   "execution_count": null,
   "id": "cd8cc6e7-2260-412e-bdc1-37d15ff16a15",
   "metadata": {},
   "outputs": [],
   "source": []
  }
 ],
 "metadata": {
  "kernelspec": {
   "display_name": "Python 3 (ipykernel)",
   "language": "python",
   "name": "python3"
  },
  "language_info": {
   "codemirror_mode": {
    "name": "ipython",
    "version": 3
   },
   "file_extension": ".py",
   "mimetype": "text/x-python",
   "name": "python",
   "nbconvert_exporter": "python",
   "pygments_lexer": "ipython3",
   "version": "3.12.4"
  }
 },
 "nbformat": 4,
 "nbformat_minor": 5
}
