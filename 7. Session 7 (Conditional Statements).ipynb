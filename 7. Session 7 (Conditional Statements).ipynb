{
 "cells": [
  {
   "cell_type": "markdown",
   "id": "f16df00b",
   "metadata": {},
   "source": [
    "<h2> Table of Comparison Operators </h2><p>  In the table below, a=3 and b=4.</p>\n",
    "\n",
    "<table class=\"table table-bordered\">\n",
    "<tr>\n",
    "<th style=\"width:10%\">Operator</th><th style=\"width:45%\">Description</th><th>Example</th>\n",
    "</tr>\n",
    "<tr>\n",
    "<td>==</td>\n",
    "<td>If the values of two operands are equal, then the condition becomes true.</td>\n",
    "<td> (a == b) is not true.</td>\n",
    "</tr>\n",
    "<tr>\n",
    "<td>!=</td>\n",
    "<td>If values of two operands are not equal, then condition becomes true.</td>\n",
    "<td>(a != b) is true</td>\n",
    "</tr>\n",
    "<tr>\n",
    "<td>&gt;</td>\n",
    "<td>If the value of left operand is greater than the value of right operand, then condition becomes true.</td>\n",
    "<td> (a &gt; b) is not true.</td>\n",
    "</tr>\n",
    "<tr>\n",
    "<td>&lt;</td>\n",
    "<td>If the value of left operand is less than the value of right operand, then condition becomes true.</td>\n",
    "<td> (a &lt; b) is true.</td>\n",
    "</tr>\n",
    "<tr>\n",
    "<td>&gt;=</td>\n",
    "<td>If the value of left operand is greater than or equal to the value of right operand, then condition becomes true.</td>\n",
    "<td> (a &gt;= b) is not true. </td>\n",
    "</tr>\n",
    "<tr>\n",
    "<td>&lt;=</td>\n",
    "<td>If the value of left operand is less than or equal to the value of right operand, then condition becomes true.</td>\n",
    "<td> (a &lt;= b) is true. </td>\n",
    "</tr>\n",
    "</table>"
   ]
  },
  {
   "cell_type": "markdown",
   "id": "79ae1000",
   "metadata": {},
   "source": [
    "## Chaining of comparison operators"
   ]
  },
  {
   "cell_type": "code",
   "execution_count": 1,
   "id": "9fd41b69",
   "metadata": {},
   "outputs": [],
   "source": [
    "a = 5\n",
    "b = 6\n",
    "c = 7"
   ]
  },
  {
   "cell_type": "code",
   "execution_count": 2,
   "id": "5f678bf0",
   "metadata": {},
   "outputs": [
    {
     "data": {
      "text/plain": [
       "True"
      ]
     },
     "execution_count": 2,
     "metadata": {},
     "output_type": "execute_result"
    }
   ],
   "source": [
    "a < b"
   ]
  },
  {
   "cell_type": "code",
   "execution_count": 3,
   "id": "f8e47ce8",
   "metadata": {},
   "outputs": [
    {
     "data": {
      "text/plain": [
       "True"
      ]
     },
     "execution_count": 3,
     "metadata": {},
     "output_type": "execute_result"
    }
   ],
   "source": [
    "a < c"
   ]
  },
  {
   "cell_type": "markdown",
   "id": "4c17d04a",
   "metadata": {},
   "source": [
    "## Logical Operators\n",
    "- **and** : True if all are True\n",
    "- **or**  : True if at least one is True\n",
    "-**not**  : Opposite"
   ]
  },
  {
   "cell_type": "code",
   "execution_count": 4,
   "id": "9e55aac5",
   "metadata": {},
   "outputs": [
    {
     "data": {
      "text/plain": [
       "True"
      ]
     },
     "execution_count": 4,
     "metadata": {},
     "output_type": "execute_result"
    }
   ],
   "source": [
    "a < b and a < c"
   ]
  },
  {
   "cell_type": "code",
   "execution_count": 5,
   "id": "f7493d6e",
   "metadata": {},
   "outputs": [
    {
     "data": {
      "text/plain": [
       "False"
      ]
     },
     "execution_count": 5,
     "metadata": {},
     "output_type": "execute_result"
    }
   ],
   "source": [
    "a < c and a > c"
   ]
  },
  {
   "cell_type": "code",
   "execution_count": 6,
   "id": "f109aa6b",
   "metadata": {},
   "outputs": [
    {
     "data": {
      "text/plain": [
       "True"
      ]
     },
     "execution_count": 6,
     "metadata": {},
     "output_type": "execute_result"
    }
   ],
   "source": [
    "1 < 2 and 3 < 4 and 6 > 2             #(True and True and True)"
   ]
  },
  {
   "cell_type": "code",
   "execution_count": 7,
   "id": "e928e751",
   "metadata": {},
   "outputs": [
    {
     "data": {
      "text/plain": [
       "False"
      ]
     },
     "execution_count": 7,
     "metadata": {},
     "output_type": "execute_result"
    }
   ],
   "source": [
    "1 < 2 and 3 > 4 and 7 > 4             # (True and False and True)"
   ]
  },
  {
   "cell_type": "code",
   "execution_count": 8,
   "id": "bf68d9ae",
   "metadata": {},
   "outputs": [
    {
     "data": {
      "text/plain": [
       "True"
      ]
     },
     "execution_count": 8,
     "metadata": {},
     "output_type": "execute_result"
    }
   ],
   "source": [
    "1 < 2 or 3 > 4 or 7 > 4 "
   ]
  },
  {
   "cell_type": "code",
   "execution_count": 9,
   "id": "653cb67e",
   "metadata": {},
   "outputs": [
    {
     "data": {
      "text/plain": [
       "True"
      ]
     },
     "execution_count": 9,
     "metadata": {},
     "output_type": "execute_result"
    }
   ],
   "source": [
    "not False"
   ]
  },
  {
   "cell_type": "code",
   "execution_count": 10,
   "id": "218cb4f4",
   "metadata": {},
   "outputs": [
    {
     "data": {
      "text/plain": [
       "False"
      ]
     },
     "execution_count": 10,
     "metadata": {},
     "output_type": "execute_result"
    }
   ],
   "source": [
    "not True"
   ]
  },
  {
   "cell_type": "code",
   "execution_count": 11,
   "id": "1571f207",
   "metadata": {},
   "outputs": [
    {
     "data": {
      "text/plain": [
       "False"
      ]
     },
     "execution_count": 11,
     "metadata": {},
     "output_type": "execute_result"
    }
   ],
   "source": [
    "not 6 < 7"
   ]
  },
  {
   "cell_type": "code",
   "execution_count": 12,
   "id": "32cc2c67",
   "metadata": {},
   "outputs": [
    {
     "data": {
      "text/plain": [
       "True"
      ]
     },
     "execution_count": 12,
     "metadata": {},
     "output_type": "execute_result"
    }
   ],
   "source": [
    "1 < 2 and 3 > 4 or 5 < 6\n",
    "# True and False or True\n",
    "# False or True\n",
    "# True"
   ]
  },
  {
   "cell_type": "code",
   "execution_count": 13,
   "id": "1320c712",
   "metadata": {},
   "outputs": [
    {
     "name": "stdout",
     "output_type": "stream",
     "text": [
      "Enter the username : Utkarsh\n",
      "Enter the password : 1234\n"
     ]
    },
    {
     "data": {
      "text/plain": [
       "True"
      ]
     },
     "execution_count": 13,
     "metadata": {},
     "output_type": "execute_result"
    }
   ],
   "source": [
    "# Correct username and password (Utkarsh 1234)\n",
    "username = input('Enter the username : ')\n",
    "password = int(input('Enter the password : '))\n",
    "\n",
    "username == 'Utkarsh' and password == 1234"
   ]
  },
  {
   "cell_type": "markdown",
   "id": "76ac0f4c",
   "metadata": {},
   "source": [
    "# ==========================================================="
   ]
  },
  {
   "cell_type": "markdown",
   "id": "31cb8472",
   "metadata": {},
   "source": [
    "# Conditional Statements\n",
    "- if\n",
    "- if else\n",
    "- if elif else\n",
    "- nested if else"
   ]
  },
  {
   "cell_type": "code",
   "execution_count": 14,
   "id": "f844a71c",
   "metadata": {},
   "outputs": [
    {
     "name": "stdout",
     "output_type": "stream",
     "text": [
      "Enter the score : 80\n",
      "The cadidate has passed the exam\n"
     ]
    }
   ],
   "source": [
    "# Take the score of a candidate out of 100 as input and print Pass if the candidate scores above 50\n",
    "score = int(input('Enter the score : '))\n",
    "\n",
    "if score > 50:\n",
    "    print('The cadidate has passed the exam')"
   ]
  },
  {
   "cell_type": "code",
   "execution_count": 15,
   "id": "882ec2f9",
   "metadata": {},
   "outputs": [
    {
     "name": "stdout",
     "output_type": "stream",
     "text": [
      "Enter the score : 40\n"
     ]
    }
   ],
   "source": [
    "score = int(input('Enter the score : '))\n",
    "\n",
    "if score > 50:\n",
    "    print('The cadidate has passed the exam')"
   ]
  },
  {
   "cell_type": "code",
   "execution_count": 16,
   "id": "14bdb678",
   "metadata": {},
   "outputs": [
    {
     "name": "stdout",
     "output_type": "stream",
     "text": [
      "Enter the score : 80\n",
      "The cadidate has passed the exam\n"
     ]
    }
   ],
   "source": [
    "# Take the score of a candidate out of 100 as input and print Pass if the candidate scores above 50 , fail if less than 50\n",
    "score = int(input('Enter the score : '))\n",
    "\n",
    "if score > 50:\n",
    "    print('The cadidate has passed the exam')\n",
    "else:\n",
    "    print('The cadidate has failed the exam')"
   ]
  },
  {
   "cell_type": "code",
   "execution_count": 17,
   "id": "9a904d3b",
   "metadata": {},
   "outputs": [
    {
     "name": "stdout",
     "output_type": "stream",
     "text": [
      "Enter the score : 40\n",
      "The cadidate has failed the exam\n"
     ]
    }
   ],
   "source": [
    "score = int(input('Enter the score : '))\n",
    "\n",
    "if score > 50:\n",
    "    print('The cadidate has passed the exam')\n",
    "else:\n",
    "    print('The cadidate has failed the exam')"
   ]
  },
  {
   "cell_type": "code",
   "execution_count": 18,
   "id": "b1b8e178",
   "metadata": {},
   "outputs": [
    {
     "name": "stdout",
     "output_type": "stream",
     "text": [
      "Hello\n",
      "Good morning\n",
      "How are you\n",
      "Outside if block\n"
     ]
    }
   ],
   "source": [
    "# indentation\n",
    "if True:\n",
    "    print('Hello')\n",
    "    print('Good morning')\n",
    "    print('How are you')\n",
    "print('Outside if block')"
   ]
  },
  {
   "cell_type": "code",
   "execution_count": 19,
   "id": "bb179306",
   "metadata": {},
   "outputs": [
    {
     "name": "stdout",
     "output_type": "stream",
     "text": [
      "Outside if block\n"
     ]
    }
   ],
   "source": [
    "if False:\n",
    "    print('Hello')\n",
    "    print('Good morning')\n",
    "    print('How are you')\n",
    "print('Outside if block')"
   ]
  },
  {
   "cell_type": "code",
   "execution_count": 22,
   "id": "34f5f8d6",
   "metadata": {},
   "outputs": [
    {
     "name": "stdout",
     "output_type": "stream",
     "text": [
      "Enter the username : Utkarsh\n",
      "Enter the password : 123\n",
      "Access Denied\n"
     ]
    }
   ],
   "source": [
    "# Assume correct Username and password to be Utkarsh , 12345\n",
    "# Take username and password as input from user and print access granted if the they are correct otherwise access denied\n",
    "\n",
    "username = input('Enter the username : ')\n",
    "password = int(input('Enter the password : '))\n",
    "\n",
    "if username == 'Utkarsh' and password == 12345:\n",
    "    print('Access Granted')\n",
    "else:\n",
    "    print('Access Denied')"
   ]
  },
  {
   "cell_type": "code",
   "execution_count": 27,
   "id": "586b7130",
   "metadata": {},
   "outputs": [
    {
     "name": "stdout",
     "output_type": "stream",
     "text": [
      "Enter the marks of first student (out of 100) : 90\n",
      "Enter the marks of second student (out of 100) : 80\n",
      "First Student has scored higher 90\n"
     ]
    }
   ],
   "source": [
    "# Take scores of two students out of 100 as input and print who scored higher\n",
    "marks1 = int(input('Enter the marks of first student (out of 100) : '))\n",
    "marks2 = int(input('Enter the marks of second student (out of 100) : '))\n",
    "\n",
    "if marks1 > marks2:\n",
    "    print('First Student has scored higher', marks1)\n",
    "else:\n",
    "    print('Second Student has scored higher', marks2)"
   ]
  },
  {
   "cell_type": "code",
   "execution_count": 30,
   "id": "c93f427c",
   "metadata": {},
   "outputs": [
    {
     "name": "stdout",
     "output_type": "stream",
     "text": [
      "Enter the marks of first student (out of 100) : 90\n",
      "Enter the marks of second student (out of 100) : 90\n",
      "Both the students have same scores\n"
     ]
    }
   ],
   "source": [
    "marks1 = int(input('Enter the marks of first student (out of 100) : '))\n",
    "marks2 = int(input('Enter the marks of second student (out of 100) : '))\n",
    "\n",
    "if marks1 > marks2:\n",
    "    print('First student has scored higher : ', marks1)\n",
    "elif marks2 > marks1:\n",
    "    print('Second student has scored higher : ', marks2)\n",
    "else:\n",
    "    print('Both the students have same scores')"
   ]
  },
  {
   "cell_type": "code",
   "execution_count": 36,
   "id": "78ec8bd3",
   "metadata": {},
   "outputs": [
    {
     "name": "stdout",
     "output_type": "stream",
     "text": [
      "Who is this : Utkarsh\n",
      "Go back , you are not invited, bin bukaye mehman a jate hai\n"
     ]
    }
   ],
   "source": [
    "name = input('Who is this : ')\n",
    "\n",
    "if name == 'Priya':\n",
    "    print('Welcome Priya')\n",
    "elif name == 'Manas':\n",
    "    print('Welcome Manas')\n",
    "elif name == 'Mahtab':\n",
    "    print('Welcome Mahtab')\n",
    "elif name == 'Rukmini':\n",
    "    print('Welcome Rukmini')\n",
    "else:\n",
    "    print('Go back , you are not invited, bin bulaye mehman a jate hai')"
   ]
  },
  {
   "cell_type": "code",
   "execution_count": 38,
   "id": "b6335578",
   "metadata": {},
   "outputs": [
    {
     "name": "stdout",
     "output_type": "stream",
     "text": [
      "Who is this : Utkarsh\n",
      "You are not invited\n"
     ]
    }
   ],
   "source": [
    "name = input('Who is this : ')\n",
    "\n",
    "invited_candidates = ['Priya', 'Manas', 'Mahtab', 'Rukmini']\n",
    "if name in invited_candidates:\n",
    "    print('Welcome', name)\n",
    "else:\n",
    "    print('You are not invited')"
   ]
  },
  {
   "cell_type": "code",
   "execution_count": 41,
   "id": "a3c9a11b",
   "metadata": {},
   "outputs": [
    {
     "name": "stdout",
     "output_type": "stream",
     "text": [
      "Enter the number : 11\n",
      "11 is odd\n"
     ]
    }
   ],
   "source": [
    "# Take a number as input and print whether it is even or odd\n",
    "num = int(input('Enter the number : '))\n",
    "\n",
    "if num % 2 == 0:\n",
    "    print(num,'is even')\n",
    "else:\n",
    "    print(num,'is odd')"
   ]
  },
  {
   "cell_type": "code",
   "execution_count": 45,
   "id": "20e92dc9",
   "metadata": {},
   "outputs": [
    {
     "name": "stdout",
     "output_type": "stream",
     "text": [
      "Enter the first  number : 2\n",
      "Enter the second number : 6\n",
      "Enter the operator : **\n",
      "64\n"
     ]
    }
   ],
   "source": [
    "# Take two numbers and an arithmatic operator as input from the user and print result of the correspoding operation\n",
    "a = int(input('Enter the first  number : '))\n",
    "b = int(input('Enter the second number : '))\n",
    "op = input('Enter the operator : ')\n",
    "\n",
    "if op == '+':\n",
    "    print(a + b)\n",
    "elif op == '-':\n",
    "    print(a - b)\n",
    "elif op == '*':\n",
    "    print(a * b)\n",
    "elif op == '/':\n",
    "    print(a / b)\n",
    "elif op == '//':\n",
    "    print(a // b)\n",
    "elif op == '**':\n",
    "    print(a ** b)\n",
    "elif op == '%':\n",
    "    print(a % b)\n",
    "else:\n",
    "    print('Invalid operator')"
   ]
  },
  {
   "cell_type": "code",
   "execution_count": 51,
   "id": "43af4145",
   "metadata": {},
   "outputs": [
    {
     "name": "stdout",
     "output_type": "stream",
     "text": [
      "Enter the first  number : 70\n",
      "Enter the second number : 80\n",
      "Enter the third  number : 60\n",
      "80 is largest\n"
     ]
    }
   ],
   "source": [
    "# Take three integers as input and print the largest\n",
    "a = int(input('Enter the first  number : '))\n",
    "b = int(input('Enter the second number : '))\n",
    "c = int(input('Enter the third  number : '))\n",
    "\n",
    "if a > b and a > c:\n",
    "    print(a,'is largest')\n",
    "elif b > c:\n",
    "    print(b,'is largest')\n",
    "else:\n",
    "    print(c,'is largest')"
   ]
  },
  {
   "cell_type": "code",
   "execution_count": 5,
   "id": "11b0c0ca",
   "metadata": {},
   "outputs": [
    {
     "name": "stdout",
     "output_type": "stream",
     "text": [
      "Enter the username : Ravindra\n",
      "Enter the password : 12345\n",
      "Incorrect Username\n"
     ]
    }
   ],
   "source": [
    "# Assume correct Username and password to be Utkarsh , 12345\n",
    "# Take username and password as input from user and print access granted if the they are correct otherwise print incorrect username or incorect password\n",
    "\n",
    "username = input('Enter the username : ')\n",
    "password = int(input('Enter the password : '))\n",
    "\n",
    "if username == 'Utkarsh' and password == 12345:\n",
    "    print('Access Granted')\n",
    "else:\n",
    "    if username != 'Utkarsh':\n",
    "        print('Incorrect Username')\n",
    "    else:\n",
    "        print('Incorrect Password')"
   ]
  },
  {
   "cell_type": "code",
   "execution_count": 9,
   "id": "77b96f0e",
   "metadata": {},
   "outputs": [
    {
     "name": "stdout",
     "output_type": "stream",
     "text": [
      "Enter the username : Mohit\n",
      "Enter the password : 123\n",
      "Username and password both are incorrect\n"
     ]
    }
   ],
   "source": [
    "username = input('Enter the username : ')\n",
    "password = int(input('Enter the password : '))\n",
    "\n",
    "if username == 'Utkarsh' and password == 12345:\n",
    "    print('Access Granted')\n",
    "else:\n",
    "    if username != 'Utkarsh' and password != 12345:\n",
    "        print('Username and password both are incorrect')\n",
    "    elif username != 'Utkarsh':\n",
    "        print('Incorrect Username')\n",
    "    else:\n",
    "        print('Incorrect Password')"
   ]
  },
  {
   "cell_type": "code",
   "execution_count": 11,
   "id": "ca1565b6",
   "metadata": {},
   "outputs": [
    {
     "name": "stdout",
     "output_type": "stream",
     "text": [
      "Enter the first  number : 10\n",
      "Enter the second number : 30\n",
      "Enter the third  number : 20\n",
      "30 is largest\n"
     ]
    }
   ],
   "source": [
    "# Take three integers as input and print the largest\n",
    "a = int(input('Enter the first  number : '))\n",
    "b = int(input('Enter the second number : '))\n",
    "c = int(input('Enter the third  number : '))\n",
    "\n",
    "if a > b:\n",
    "    if a > c:\n",
    "        print(a,'is largest')\n",
    "    else:\n",
    "        print(c, 'is largest')\n",
    "else:\n",
    "    if b > c:\n",
    "        print(b,'is largest')\n",
    "    else:\n",
    "        print(c, 'is largest')"
   ]
  },
  {
   "cell_type": "code",
   "execution_count": 15,
   "id": "233d8955",
   "metadata": {},
   "outputs": [
    {
     "name": "stdout",
     "output_type": "stream",
     "text": [
      "Enter the first  number : 40\n",
      "Enter the second number : 40\n",
      "Enter the third  number : 20\n",
      "40 is second largest\n"
     ]
    }
   ],
   "source": [
    "# Take three numbers as input and find second largest\n",
    "a = int(input('Enter the first  number : '))\n",
    "b = int(input('Enter the second number : '))\n",
    "c = int(input('Enter the third  number : '))\n",
    "\n",
    "if a > b and a > c:\n",
    "    if b > c:\n",
    "        print(b, 'is second largest')\n",
    "    else:\n",
    "        print(c, 'is second largest')\n",
    "elif b > c:\n",
    "    if a > c:\n",
    "        print(a, 'is second largest')\n",
    "    else:\n",
    "        print(c, 'is second largest')\n",
    "else:\n",
    "    if a > b:\n",
    "        print(a, 'is second largest')\n",
    "    else:\n",
    "        print(b, 'is second largest')"
   ]
  },
  {
   "cell_type": "code",
   "execution_count": null,
   "id": "9d690151",
   "metadata": {},
   "outputs": [],
   "source": []
  }
 ],
 "metadata": {
  "kernelspec": {
   "display_name": "Python 3",
   "language": "python",
   "name": "python3"
  },
  "language_info": {
   "codemirror_mode": {
    "name": "ipython",
    "version": 3
   },
   "file_extension": ".py",
   "mimetype": "text/x-python",
   "name": "python",
   "nbconvert_exporter": "python",
   "pygments_lexer": "ipython3",
   "version": "3.8.5"
  }
 },
 "nbformat": 4,
 "nbformat_minor": 5
}
